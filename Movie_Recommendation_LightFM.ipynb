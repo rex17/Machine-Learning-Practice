{
  "nbformat": 4,
  "nbformat_minor": 0,
  "metadata": {
    "colab": {
      "name": "Movie Recommendation LightFM.ipynb",
      "version": "0.3.2",
      "provenance": [],
      "collapsed_sections": [],
      "include_colab_link": true
    },
    "kernelspec": {
      "name": "python3",
      "display_name": "Python 3"
    }
  },
  "cells": [
    {
      "cell_type": "markdown",
      "metadata": {
        "id": "view-in-github",
        "colab_type": "text"
      },
      "source": [
        "<a href=\"https://colab.research.google.com/github/rex17/Machine-Learning-Practice/blob/master/Movie_Recommendation_LightFM.ipynb\" target=\"_parent\"><img src=\"https://colab.research.google.com/assets/colab-badge.svg\" alt=\"Open In Colab\"/></a>"
      ]
    },
    {
      "metadata": {
        "id": "Dwp-O6wsQirR",
        "colab_type": "code",
        "colab": {
          "base_uri": "https://localhost:8080/",
          "height": 312
        },
        "outputId": "fb82a113-b1ef-4e34-b770-d8c67f1405b1"
      },
      "cell_type": "code",
      "source": [
        "!pip install lightfm\n"
      ],
      "execution_count": 4,
      "outputs": [
        {
          "output_type": "stream",
          "text": [
            "Collecting lightfm\n",
            "\u001b[?25l  Downloading https://files.pythonhosted.org/packages/e9/8e/5485ac5a8616abe1c673d1e033e2f232b4319ab95424b42499fabff2257f/lightfm-1.15.tar.gz (302kB)\n",
            "\u001b[K    100% |████████████████████████████████| 307kB 12.1MB/s \n",
            "\u001b[?25hRequirement already satisfied: numpy in /usr/local/lib/python3.6/dist-packages (from lightfm) (1.14.6)\n",
            "Requirement already satisfied: scipy>=0.17.0 in /usr/local/lib/python3.6/dist-packages (from lightfm) (1.1.0)\n",
            "Requirement already satisfied: requests in /usr/local/lib/python3.6/dist-packages (from lightfm) (2.18.4)\n",
            "Requirement already satisfied: urllib3<1.23,>=1.21.1 in /usr/local/lib/python3.6/dist-packages (from requests->lightfm) (1.22)\n",
            "Requirement already satisfied: idna<2.7,>=2.5 in /usr/local/lib/python3.6/dist-packages (from requests->lightfm) (2.6)\n",
            "Requirement already satisfied: chardet<3.1.0,>=3.0.2 in /usr/local/lib/python3.6/dist-packages (from requests->lightfm) (3.0.4)\n",
            "Requirement already satisfied: certifi>=2017.4.17 in /usr/local/lib/python3.6/dist-packages (from requests->lightfm) (2018.11.29)\n",
            "Building wheels for collected packages: lightfm\n",
            "  Running setup.py bdist_wheel for lightfm ... \u001b[?25l-\b \b\\\b \b|\b \b/\b \bdone\n",
            "\u001b[?25h  Stored in directory: /root/.cache/pip/wheels/eb/bb/ac/188385a5da6627956be5d9663928483b36da576149ab5b8f79\n",
            "Successfully built lightfm\n",
            "Installing collected packages: lightfm\n",
            "Successfully installed lightfm-1.15\n"
          ],
          "name": "stdout"
        }
      ]
    },
    {
      "metadata": {
        "id": "ZXpva6X4P75N",
        "colab_type": "code",
        "colab": {}
      },
      "cell_type": "code",
      "source": [
        "import numpy as np \n",
        "import scipy as sp \n",
        "from lightfm.datasets import fetch_movielens\n",
        "from lightfm import LightFM\n"
      ],
      "execution_count": 0,
      "outputs": []
    },
    {
      "metadata": {
        "id": "LzwvqAp6R477",
        "colab_type": "code",
        "colab": {
          "base_uri": "https://localhost:8080/",
          "height": 91
        },
        "outputId": "e8be2224-16dd-4536-8571-d13bc2967f04"
      },
      "cell_type": "code",
      "source": [
        "#100k movie records\n",
        "data = fetch_movielens(min_rating=4.0)\n",
        "\n",
        "#checking training data \n",
        "print(repr(data['train']))\n",
        "\n",
        "#checking testing data \n",
        "print(repr(data['test']))\n",
        "\n",
        "# training data is 10 times the test data"
      ],
      "execution_count": 11,
      "outputs": [
        {
          "output_type": "stream",
          "text": [
            "<943x1682 sparse matrix of type '<class 'numpy.int32'>'\n",
            "\twith 49906 stored elements in COOrdinate format>\n",
            "<943x1682 sparse matrix of type '<class 'numpy.int32'>'\n",
            "\twith 5469 stored elements in COOrdinate format>\n"
          ],
          "name": "stdout"
        }
      ]
    },
    {
      "metadata": {
        "id": "qWdCOaG7R7EL",
        "colab_type": "code",
        "colab": {
          "base_uri": "https://localhost:8080/",
          "height": 35
        },
        "outputId": "b8a6c5b2-40ef-4d00-9573-17091c156ce8"
      },
      "cell_type": "code",
      "source": [
        "#have to minimize the loss function\n",
        "#warp = weighted approximate-rank pairwise\n",
        "#uses gradient descent\n",
        "model = LightFM(loss='warp')\n",
        "# recommendation system type content based and collaborative = hybrid system\n",
        "\n",
        "#training the data\n",
        "model.fit(data['train'], epochs = 30, num_threads = 2)\n"
      ],
      "execution_count": 12,
      "outputs": [
        {
          "output_type": "execute_result",
          "data": {
            "text/plain": [
              "<lightfm.lightfm.LightFM at 0x7f48991f23c8>"
            ]
          },
          "metadata": {
            "tags": []
          },
          "execution_count": 12
        }
      ]
    },
    {
      "metadata": {
        "id": "OSYDoUbvSJup",
        "colab_type": "code",
        "colab": {}
      },
      "cell_type": "code",
      "source": [
        "def recommendMovies(model, data, recReqUsers):\n",
        "\tusersNum, moviesNum = data['train'].shape\n",
        "\n",
        "\tfor user in recReqUsers:\n",
        "\n",
        "\t\t# history of movies they watched \n",
        "\t\t# to csr is compressed sparse row format\n",
        "\t\twatchedMovies = data['item_labels'][data['train'].tocsr()[user].indices]\n",
        "\n",
        "\t\t# movie predictions for user by model\n",
        "\t\tscores = model.predict(user,np.arange(moviesNum))\n",
        "\n",
        "\t\t# ranking(sorting) by scores thats most to least liked\n",
        "\t\ttopMovies = data['item_labels'][np.argsort(-scores)]\n",
        "\n",
        "\t\t# displaying the predictions\n",
        "\t\tprint(\" {}'s Account\".format(user))\n",
        "\t\tprint(\"\t\tWatched Movies:\")\n",
        "\t\tfor movie in watchedMovies[:3]: print(\"\t\t\t\" + movie)\n",
        "\t\tprint(\"\t\tRecommended Movies:\")\n",
        "\t\tfor movie in topMovies[:3]: print(\"\t\t\t\" + movie)"
      ],
      "execution_count": 0,
      "outputs": []
    },
    {
      "metadata": {
        "id": "KKl2YWeOmLcN",
        "colab_type": "code",
        "colab": {
          "base_uri": "https://localhost:8080/",
          "height": 516
        },
        "outputId": "59234fb6-d35d-4bbb-ebd4-604841cb5973"
      },
      "cell_type": "code",
      "source": [
        "recommendMovies(model,data,[17,11,29])\n"
      ],
      "execution_count": 16,
      "outputs": [
        {
          "output_type": "stream",
          "text": [
            " 17's Account\n",
            "\t\tWatched Movies:\n",
            "\t\t\tToy Story (1995)\n",
            "\t\t\tShanghai Triad (Yao a yao yao dao waipo qiao) (1995)\n",
            "\t\t\tBabe (1995)\n",
            "\t\tRecommended Movies:\n",
            "\t\t\tGraduate, The (1967)\n",
            "\t\t\tSense and Sensibility (1995)\n",
            "\t\t\tRoom with a View, A (1986)\n",
            " 11's Account\n",
            "\t\tWatched Movies:\n",
            "\t\t\tGet Shorty (1995)\n",
            "\t\t\tMr. Holland's Opus (1995)\n",
            "\t\t\tApollo 13 (1995)\n",
            "\t\tRecommended Movies:\n",
            "\t\t\tStar Wars (1977)\n",
            "\t\t\tSilence of the Lambs, The (1991)\n",
            "\t\t\tRaiders of the Lost Ark (1981)\n",
            " 29's Account\n",
            "\t\tWatched Movies:\n",
            "\t\t\tTwelve Monkeys (1995)\n",
            "\t\t\tApollo 13 (1995)\n",
            "\t\t\tForrest Gump (1994)\n",
            "\t\tRecommended Movies:\n",
            "\t\t\tTitanic (1997)\n",
            "\t\t\tContact (1997)\n",
            "\t\t\tStar Wars (1977)\n"
          ],
          "name": "stdout"
        }
      ]
    },
    {
      "metadata": {
        "id": "cj_UQDsOQlIL",
        "colab_type": "code",
        "colab": {}
      },
      "cell_type": "code",
      "source": [
        ""
      ],
      "execution_count": 0,
      "outputs": []
    }
  ]
}