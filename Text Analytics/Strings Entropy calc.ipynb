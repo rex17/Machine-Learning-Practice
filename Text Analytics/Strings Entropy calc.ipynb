{
 "cells": [
  {
   "cell_type": "code",
   "execution_count": 47,
   "metadata": {
    "collapsed": true
   },
   "outputs": [],
   "source": [
    "import math\n",
    "import nltk\n",
    "from nltk.corpus import stopwords\n",
    "\n",
    "def remove_stopwords_and_punctuation(text_data):\n",
    "    tokens = nltk.word_tokenize(text_data)\n",
    "    token_punc_removed = list(filter(lambda word: word not in \"\\//:@()/!#'&,--.';``''\", tokens))\n",
    "    #token_stopwords_removed = list(filter(lambda word: word not in set(stopwords.words('english')), token_punc_removed))\n",
    "    token_stopwords_removed = [word for word in token_punc_removed if word not in stopwords.words('english')]\n",
    "    norm_tokens = [word.lower() for word in token_stopwords_removed]\n",
    "    return \" \".join(norm_tokens)\n",
    "\n",
    "def pre_process_tweets(tweets):\n",
    "    pre_processed_tweets = []\n",
    "    for tweet in tweets:    \n",
    "        cleaned_tweet = remove_stopwords_and_punctuation(tweet)\n",
    "        cleaned_tweet = cleaned_tweet.replace(' the ', '').replace(\"'s\",'').replace(\"night/friday\",'friday').replace(' a ','')\n",
    "        pre_processed_tweets.append(cleaned_tweet.split())\n",
    "    return pre_processed_tweets\n"
   ]
  },
  {
   "cell_type": "code",
   "execution_count": 61,
   "metadata": {},
   "outputs": [
    {
     "name": "stdout",
     "output_type": "stream",
     "text": [
      "['stormcallum', 'coming', 'thursday', 'night', 'friday', 'morning', 'severe', 'gales', 'especially', 'coastal', 'counties', 'high', 'tides', 'could', 'cause', 'coastal', 'flooding', 'gusts', '130km/h', '80mph', 'exposed', 'areas', 'breaking', 'weather', 'stormcallum', 'officially', 'named', 'met', 'eireann', 'already', 'carries', 'status', 'orange', 'warning', 'level', 'western', 'southern', 'eastern', 'counties', 'here', 'latest', 'outlook', 'stay', 'tuned', 'updates', 'friday', 'weather', 'system', 'named', 'stormcallum', 'meteireannstrongest', 'winds', 'likely', 'western', 'ireland', 'though', 'nw', 'parts', 'uk', 'expect', 'severe', 'galesmain', 'impacts', 'uk', 'heavy', 'rain', 'across', 'western', 'areas', 'friday', 'saturday', 'weatheraware', 'stormcallum', 'updatelatest', 'ecmwf', 'forecast', 'model', 'shifted', 'storm', 'track', 'east', 'indicating', 'greater', 'swathe', 'country', 'risk', 'seeing', 'damaging', 'winds', 'thursday', 'night', 'friday', 'gusts', 'excess', '160', 'km/h', 'seem', 'likely', 'latest', 'ecmwf', 'model', 'run', 'shifts', 'center', 'stormcallum', 'west', 'keeping', 'strongest', 'winds', 'offshore', 'still', 'bringing', 'strong', 'gusts', 'intense', 'rainfall', 'many', 'areas', 'hopefully', 'run', 'may', 'become', 'trend', 'move', 'worst', 'atlantic', 'stormcallum', 'developing', 'northeast', 'coast', 'canada', 'power', 'atlantic', 'carried', 'jet', 'stream', 'rapidly', 'deepening', 'strong', 'gusts', 'southeast', 'side', 'turns', 'north', 'west', 'coast', 'ireland', 'stormcallum', 'first', 'small', 'disturbance', 'newfoundland', 'getting', 'captured', 'jet', 'presence', 'strong', 'upper', 'level', 'forcing', 'starts', 'deepen', 'rapidly', 'latest', 'ecmwf', 'guidance', 'suggests', 'explosive', 'cyclogenesis', 'pressure', 'drop', '58', 'hpa/24h', 'stormcallum', 'perhaps', 'need', 'prepared', 'time', 'advanced', 'warnings', 'schools', 'closed', 'necessary', 'friday', 'already', 'blustery', 'my', 'thinking', 'is..best', 'prepare', 'worst', 'step', 'necessary', 'a', 'status', 'orange', 'weather', 'warning', 'issued', 'several', 'counties', 'ahead', 'arrival', 'storm', 'callum', 'weekwarning', 'place', 'coastal', 'counties', 'tomorrow', '10pm', 'valid', 'friday', 'morning', 'stormcallum', 'confidence', 'fairly', 'high', 'wind', 'gusts', 'friday', 'least', 'meet', 'category', '2', 'moderate', 'windstorm', 'threshold', '70mph', 'there', 'medium', 'chance', '80mph', 'cat3', 'possibility', '90mph', 'cat4', 'upgrades', 'still', 'possible', 'coming', 'days']\n"
     ]
    }
   ],
   "source": [
    "file_handle = open('storm_tweets.txt') # text file containing more than 200 words\n",
    "storm_tweets = file_handle.read().splitlines()\n",
    "storm_tweets = list(filter(None, storm_tweets))\n",
    "storm_tweets = sum(pre_process_tweets(storm_tweets),[])\n",
    "print(storm_tweets)\n"
   ]
  },
  {
   "cell_type": "code",
   "execution_count": 62,
   "metadata": {},
   "outputs": [
    {
     "name": "stdout",
     "output_type": "stream",
     "text": [
      "['tesla', 'exists', 'help', 'reduce', 'risk', 'catastrophic', 'climate', 'change', 'affects', 'species', 'earth', 'even', 'faith', 'humanity', 'faltering', 'worth', 'caring', 'support', 'makes', 'difference', 'thank', '10,000', 'people', 'homeless', 'one', 'three', 'child', '1000', 'young', 'people', '25', 'homeless', 'behind', 'figures', 'families', 'tonight', 'living', 'intolerable', 'conditions', 'shinealight', 'one', 'night', 'change', 'lifetime', 'focusireland', 'former', 'white', 'house', 'economic', 'advisor', 'gary', 'cohn', 'joining', 'blockchain', 'startup', 'spring', 'labs', 'advisor', 'believes', 'blockchain', 'transform', 'financial', 'industry', 'high', 'performance', 'blockchain', 'possible', 'triple', 'bottom', 'forming', 'one', 'alts', 'i', 'expect', 'stick', 'around', 'long', 'term', 'not', 'financial', 'advice', 'hedging', 'small', 'position', 'soon', 'from', 'longest', 'lines', 'caracas', 'kanye', 'white', 'house', 'look', 'back', 'political', 'week', 'pictures', 'eddie', 'lampert', 'hailed', 'young', 'warren', 'buffett', 'he', 'billionaire', 'financial', 'wizard', 'persuasive', 'talked', 'way', 'kidnapping', 'more', 'facebook', 'said', 'hack', 'exposed', 'intimate', 'information', '14', 'million', 'people', 'includinglast', '10', 'places', 'person', 'checked', 'users', 'current', 'city', 'users', '15', 'most-recent', 'searches', 'the', 'u.k.', 'treasury', 'plans', 'new', 'measures', 'encourage', 'investment', 'machinery', 'factories', 'help', 'revive', 'britainâ€™s', 'flagging', 'productivity', 'sources', 'say', 'research', 'highlight', 'methods', 'matter', 'team', 'led', 'raphael', 'silberzahn', 'sussexuni', 'shows', 'analytical', 'choices', 'impact', 'outcomes', 'conclusions', 'drawn', 'studies', 'delighted', 'see', 'theeconomist', 'publishing', 'data', 'code', 'backing', 'stories', 'github', 'projectjupyter', 'notebooks', 'data-driven', 'journalism', 'parallels', 'open', 'science', 'reproducible', 'research', 'sharing', 'practices', 'encourage', 'informed', 'public', 'dialog']\n"
     ]
    }
   ],
   "source": [
    "file_handle = open('random_set_of_tweets.txt') # text file containing more than 200 words\n",
    "random_tweets = file_handle.read().splitlines()\n",
    "random_tweets = list(filter(None, random_tweets))\n",
    "random_tweets = sum(pre_process_tweets(random_tweets),[])\n",
    "print(random_tweets)"
   ]
  },
  {
   "cell_type": "code",
   "execution_count": 46,
   "metadata": {
    "collapsed": true
   },
   "outputs": [],
   "source": [
    "def entropy(tweets):\n",
    "    freqdist = nltk.FreqDist(tweets)\n",
    "    probs = [freqdist.freq(tweet) for tweet in freqdist]\n",
    "    return -sum(prb * math.log(prb,2) for prb in probs)"
   ]
  },
  {
   "cell_type": "code",
   "execution_count": 50,
   "metadata": {},
   "outputs": [
    {
     "data": {
      "text/plain": [
       "7.291363585279105"
      ]
     },
     "execution_count": 50,
     "metadata": {},
     "output_type": "execute_result"
    }
   ],
   "source": [
    "entropy(storm_tweets)"
   ]
  },
  {
   "cell_type": "code",
   "execution_count": 51,
   "metadata": {},
   "outputs": [
    {
     "data": {
      "text/plain": [
       "7.373137990294104"
      ]
     },
     "execution_count": 51,
     "metadata": {},
     "output_type": "execute_result"
    }
   ],
   "source": [
    "entropy(random_tweets)"
   ]
  },
  {
   "cell_type": "code",
   "execution_count": 52,
   "metadata": {},
   "outputs": [
    {
     "data": {
      "text/plain": [
       "8.283678836677351"
      ]
     },
     "execution_count": 52,
     "metadata": {},
     "output_type": "execute_result"
    }
   ],
   "source": [
    "entropy(storm_tweets+random_tweets)"
   ]
  },
  {
   "cell_type": "code",
   "execution_count": null,
   "metadata": {
    "collapsed": true
   },
   "outputs": [],
   "source": []
  }
 ],
 "metadata": {
  "kernelspec": {
   "display_name": "Python 3",
   "language": "python",
   "name": "python3"
  },
  "language_info": {
   "codemirror_mode": {
    "name": "ipython",
    "version": 3
   },
   "file_extension": ".py",
   "mimetype": "text/x-python",
   "name": "python",
   "nbconvert_exporter": "python",
   "pygments_lexer": "ipython3",
   "version": "3.6.0"
  }
 },
 "nbformat": 4,
 "nbformat_minor": 2
}
