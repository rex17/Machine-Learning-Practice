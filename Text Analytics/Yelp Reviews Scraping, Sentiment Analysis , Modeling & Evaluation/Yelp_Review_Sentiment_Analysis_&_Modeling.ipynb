{
  "nbformat": 4,
  "nbformat_minor": 0,
  "metadata": {
    "colab": {
      "name": "Yelp Review Sentiment Analysis & Modeling.ipynb",
      "version": "0.3.2",
      "provenance": [],
      "collapsed_sections": [
        "uAqWvJxrZDfy",
        "yzkaNxV4ZDgG",
        "8bqjhwGYBnvE",
        "31M3RKGjZDiK",
        "LWAKSIn7ZDih",
        "laTHOpFZZDik",
        "KDuEv3ecZDil",
        "H9I4rQKTZDlJ",
        "6JERkewxZDlh",
        "42IQE7HwuQnO",
        "kZkRASs6ZDlY",
        "2OkeJrxraO6O",
        "J0T8-o4YuQpP",
        "uXdOa9ijuQph",
        "kLpnzPpduQp1",
        "9lKj6Hd6ZDl-",
        "R0-IoVK5ZDmA",
        "53RKXCZ1uQu7"
      ],
      "toc_visible": true,
      "include_colab_link": true
    },
    "language_info": {
      "codemirror_mode": {
        "name": "ipython",
        "version": 3
      },
      "file_extension": ".py",
      "mimetype": "text/x-python",
      "name": "python",
      "nbconvert_exporter": "python",
      "pygments_lexer": "ipython3",
      "version": "3.6.0"
    },
    "kernelspec": {
      "display_name": "Python 3",
      "language": "python",
      "name": "python3"
    },
    "accelerator": "TPU"
  },
  "cells": [
    {
      "cell_type": "markdown",
      "metadata": {
        "id": "view-in-github",
        "colab_type": "text"
      },
      "source": [
        "<a href=\"https://colab.research.google.com/github/shivamsaxena17493/Machine-Learning-Practice/blob/master/Text%20Analytics/Yelp%20Reviews%20Scraping%2C%20Sentiment%20Analysis%20%2C%20Modeling%20%26%20Evaluation/Yelp_Review_Sentiment_Analysis_%26_Modeling.ipynb\" target=\"_parent\"><img src=\"https://colab.research.google.com/assets/colab-badge.svg\" alt=\"Open In Colab\"/></a>"
      ]
    },
    {
      "cell_type": "markdown",
      "metadata": {
        "colab_type": "text",
        "id": "sDDaXH5-ZDb-"
      },
      "source": [
        "# Yelp Review Sentiment Analysis & Modeling\n"
      ]
    },
    {
      "cell_type": "markdown",
      "metadata": {
        "colab_type": "text",
        "id": "VojnrmGEZDcE"
      },
      "source": [
        "### Import Packages"
      ]
    },
    {
      "cell_type": "code",
      "metadata": {
        "colab_type": "code",
        "id": "4Z444jnXZDcG",
        "colab": {}
      },
      "source": [
        "# for web scraping\n",
        "import urllib.request\n",
        "import bs4\n",
        "\n",
        "# for numerical conversion and model input data preparation\n",
        "import numpy as np\n",
        "import pandas as pd \n",
        "\n",
        "# for preprocessing\n",
        "import nltk\n",
        "from nltk.tokenize import RegexpTokenizer\n",
        "from nltk.corpus import stopwords\n",
        "from nltk.stem import PorterStemmer\n",
        "from sklearn.feature_extraction.text import CountVectorizer\n",
        "# train test data preparation for model\n",
        "from sklearn.model_selection import train_test_split\n",
        "\n",
        "# classification models for text classification\n",
        "\n",
        "# Multinomial Naive Bayes Model\n",
        "from sklearn.naive_bayes import MultinomialNB\n",
        "# Logistic Regression Model\n",
        "from sklearn.linear_model import LogisticRegression\n",
        "# Decision Tree Model\n",
        "from sklearn.tree import DecisionTreeClassifier\n",
        "# Support Vector Machines Model\n",
        "from sklearn.svm import SVC\n",
        "from sklearn.neighbors import KNeighborsClassifier\n",
        "from sklearn.ensemble import RandomForestClassifier,GradientBoostingClassifier\n",
        "# for finding best performing model parameters\n",
        "from sklearn.model_selection import GridSearchCV\n",
        "\n",
        "\n",
        "# for model evaluation and interpretation\n",
        "from sklearn import metrics\n",
        "from sklearn.metrics import confusion_matrix, classification_report\n",
        "from sklearn.metrics import precision_recall_fscore_support as score\n",
        "from sklearn.metrics import cohen_kappa_score\n",
        "\n",
        "\n",
        "# for data visualization\n",
        "import matplotlib\n",
        "import matplotlib.pyplot as plt\n",
        "import seaborn as sns\n",
        "%matplotlib inline\n",
        "\n",
        "\n",
        "from collections import Counter\n",
        "\n",
        "    "
      ],
      "execution_count": 0,
      "outputs": []
    },
    {
      "cell_type": "markdown",
      "metadata": {
        "colab_type": "text",
        "id": "XASUd11iZDcW"
      },
      "source": [
        "# Scapping Reviews for 2 categories\n",
        "from http://mlg.ucd.ie/modules/yalp/ \n",
        "\n",
        "Below are the essential function required to scrape consumer reviews from a set of web pages.\n",
        "\n"
      ]
    },
    {
      "cell_type": "code",
      "metadata": {
        "colab_type": "code",
        "id": "NyAtUMidZDcb",
        "colab": {}
      },
      "source": [
        "index_link = \"http://mlg.ucd.ie/modules/yalp/\""
      ],
      "execution_count": 0,
      "outputs": []
    },
    {
      "cell_type": "code",
      "metadata": {
        "colab_type": "code",
        "id": "N2-0DBZkZDck",
        "colab": {}
      },
      "source": [
        "def getHTMLSoup(link):\n",
        "    \"\"\"\n",
        "      Description of the getHTMLSoup Function\n",
        "      \n",
        "      This function returns the html parsed soup object for the given link.\n",
        "\n",
        "      Parameters:\n",
        "        link (str): it will be the link for which soup object is required.\n",
        "\n",
        "      Returns:\n",
        "        html_parsed_soup object : it will contain the Soup parsed html object\n",
        "\n",
        "    \"\"\"\n",
        "    try:\n",
        "        response = urllib.request.urlopen(link)\n",
        "    except:\n",
        "        print(\"Error Occured: Page not Found status {}\".format(response.code))\n",
        "    if response.code == 200:\n",
        "        html = response.read().decode()\n",
        "        parsed_html_soup = bs4.BeautifulSoup(html,\"html.parser\")\n",
        "        \n",
        "    return parsed_html_soup"
      ],
      "execution_count": 0,
      "outputs": []
    },
    {
      "cell_type": "code",
      "metadata": {
        "colab_type": "code",
        "id": "ghr5aJioZDcr",
        "colab": {}
      },
      "source": [
        "def getCategoriesLinkFromIndex(index_soup, categories):\n",
        "    \"\"\"\n",
        "    Description of the getCategoriesLinkFromIndex Function\n",
        "    \n",
        "    This function returns the links of page where reviews are published.\n",
        "\n",
        "    Parameters:\n",
        "      index_soup (soup object): parsed html soup object of the index page\n",
        "      categories (list): list of categories for which review page links are extracted\n",
        "\n",
        "    Returns:\n",
        "      categories_links (dictionary): links of review pages\n",
        "    \n",
        "    \"\"\"\n",
        "    categories_links = {}\n",
        "\n",
        "    for match in index_soup.find_all(\"h4\"):\n",
        "        category_title = match.get_text().replace(u'\\xa0', u' ').split(\":\")[1].split(\"  \")[0].strip()\n",
        "        if category_title in categories:\n",
        "            categories_links[category_title] = index_link + match.find('a').get('href')\n",
        "\n",
        "    return categories_links"
      ],
      "execution_count": 0,
      "outputs": []
    },
    {
      "cell_type": "code",
      "metadata": {
        "colab_type": "code",
        "id": "soC_Ct5CZDcz",
        "colab": {}
      },
      "source": [
        "index_soup = getHTMLSoup(index_link)"
      ],
      "execution_count": 0,
      "outputs": []
    },
    {
      "cell_type": "code",
      "metadata": {
        "colab_type": "code",
        "id": "H4S-IuMkZDc5",
        "outputId": "76153a5a-df34-4ebb-9795-3d1b5082ea5a",
        "scrolled": true,
        "colab": {
          "base_uri": "https://localhost:8080/",
          "height": 916
        }
      },
      "source": [
        "index_soup"
      ],
      "execution_count": 0,
      "outputs": [
        {
          "output_type": "execute_result",
          "data": {
            "text/plain": [
              "<!DOCTYPE html>\n",
              "\n",
              "<html lang=\"en\">\n",
              "<head>\n",
              "<meta content=\"noindex\" name=\"robots\">\n",
              "<meta content=\"Content on this site is posted for teaching purposes only. Original data is from yelp.com\" name=\"description\">\n",
              "<meta charset=\"utf-8\">\n",
              "<meta content=\"IE=edge\" http-equiv=\"X-UA-Compatible\">\n",
              "<meta content=\"width=device-width, initial-scale=1\" name=\"viewport\">\n",
              "<title>Yalp Reviews — Home</title>\n",
              "<link href=\"images/favicon.ico\" rel=\"shortcut icon\">\n",
              "<!-- Bootstrap core CSS -->\n",
              "<link href=\"assets/css/bootstrap.css\" rel=\"stylesheet\">\n",
              "<!-- Custom styles for this template -->\n",
              "<link href=\"assets/css/style.css\" rel=\"stylesheet\">\n",
              "<link href=\"assets/css/font-awesome.min.css\" rel=\"stylesheet\">\n",
              "<script src=\"assets/js/modernizr.js\"></script>\n",
              "</link></link></link></link></meta></meta></meta></meta></meta></head>\n",
              "<body>\n",
              "<div class=\"container mtb\">\n",
              "<div class=\"row\">\n",
              "<div class=\"col-md-12\">\n",
              "<h3 class=\"info\">Yalp Reviews — Home</h3>\n",
              "</div>\n",
              "</div>\n",
              "<div class=\"row\">\n",
              "<div class=\"col-md-10\" name=\"main\">\n",
              "<div class=\"cat\"><h4><a href=\"automotive_list.html\">Category: Automotive</a>  (1455 reviews)</h4></div>\n",
              "<div class=\"cat\"><h4><a href=\"bars_list.html\">Category: Bars</a>  (1460 reviews)</h4></div>\n",
              "<div class=\"cat\"><h4><a href=\"health_medical_list.html\">Category: Health and medical</a>  (1450 reviews)</h4></div>\n",
              "<div class=\"cat\"><h4><a href=\"hotels_travel_list.html\">Category: Hotels and travel</a>  (1430 reviews)</h4></div>\n",
              "<div class=\"cat\"><h4><a href=\"restaurants_list.html\">Category: Restaurants</a>  (1440 reviews)</h4></div>\n",
              "<div class=\"footer\">\n",
              "    Content on this site is posted for teaching purposes only. \n",
              "    </div>\n",
              "<!-- Bootstrap core JavaScript\n",
              "    ================================================== -->\n",
              "<!-- Placed at the end of the document so the pages load faster -->\n",
              "<script src=\"https://ajax.googleapis.com/ajax/libs/jquery/1.11.0/jquery.min.js\"></script>\n",
              "<script src=\"assets/js/bootstrap.min.js\"></script>\n",
              "<script src=\"assets/js/retina-1.1.0.js\"></script>\n",
              "<script src=\"assets/js/jquery.hoverdir.js\"></script>\n",
              "<script src=\"assets/js/jquery.hoverex.min.js\"></script>\n",
              "<script src=\"assets/js/jquery.isotope.min.js\"></script>\n",
              "<script src=\"assets/js/custom.js\"></script>\n",
              "</div></div></div></body>\n",
              "</html>"
            ]
          },
          "metadata": {
            "tags": []
          },
          "execution_count": 664
        }
      ]
    },
    {
      "cell_type": "markdown",
      "metadata": {
        "colab_type": "text",
        "id": "CUclQA2m7Fjy"
      },
      "source": [
        "### Selection of Categories - Hotels & Travel and Restaurants"
      ]
    },
    {
      "cell_type": "code",
      "metadata": {
        "colab_type": "code",
        "id": "j2Sx6_DTZDdK",
        "colab": {}
      },
      "source": [
        "categories = [\"Hotels and travel\",\"Restaurants\"]"
      ],
      "execution_count": 0,
      "outputs": []
    },
    {
      "cell_type": "code",
      "metadata": {
        "colab_type": "code",
        "id": "6g4RQSgaZDdT",
        "outputId": "36088e86-5e5d-49c0-b822-fc8c1489bf46",
        "colab": {
          "base_uri": "https://localhost:8080/",
          "height": 54
        }
      },
      "source": [
        "categories_links = getCategoriesLinkFromIndex(index_soup,categories)\n",
        "categories_links"
      ],
      "execution_count": 0,
      "outputs": [
        {
          "output_type": "execute_result",
          "data": {
            "text/plain": [
              "{'Hotels and travel': 'http://mlg.ucd.ie/modules/yalp/hotels_travel_list.html',\n",
              " 'Restaurants': 'http://mlg.ucd.ie/modules/yalp/restaurants_list.html'}"
            ]
          },
          "metadata": {
            "tags": []
          },
          "execution_count": 666
        }
      ]
    },
    {
      "cell_type": "code",
      "metadata": {
        "colab_type": "code",
        "id": "Sj71RiszZDd0",
        "outputId": "88d44eb5-ce0c-4c06-c968-1ce2ae01633f",
        "colab": {
          "base_uri": "https://localhost:8080/",
          "height": 2505
        }
      },
      "source": [
        "business_list_soup = getHTMLSoup(categories_links['Hotels and travel'])\n",
        "business_list_soup"
      ],
      "execution_count": 0,
      "outputs": [
        {
          "output_type": "execute_result",
          "data": {
            "text/plain": [
              "<!DOCTYPE html>\n",
              "\n",
              "<html lang=\"en\">\n",
              "<head>\n",
              "<meta content=\"noindex\" name=\"robots\">\n",
              "<meta content=\"Content on this site is posted for teaching purposes only. Original data is from yelp.com\" name=\"description\">\n",
              "<meta charset=\"utf-8\">\n",
              "<meta content=\"IE=edge\" http-equiv=\"X-UA-Compatible\">\n",
              "<meta content=\"width=device-width, initial-scale=1\" name=\"viewport\">\n",
              "<title>Yalp — Fresh Reviews for Hotels and travel</title>\n",
              "<link href=\"images/favicon.ico\" rel=\"shortcut icon\">\n",
              "<!-- Bootstrap core CSS -->\n",
              "<link href=\"assets/css/bootstrap.css\" rel=\"stylesheet\">\n",
              "<!-- Custom styles for this template -->\n",
              "<link href=\"assets/css/style.css\" rel=\"stylesheet\">\n",
              "<link href=\"assets/css/font-awesome.min.css\" rel=\"stylesheet\">\n",
              "<script src=\"assets/js/modernizr.js\"></script>\n",
              "</link></link></link></link></meta></meta></meta></meta></meta></head>\n",
              "<body>\n",
              "<div class=\"container mtb\">\n",
              "<div class=\"row\">\n",
              "<div class=\"col-md-12\">\n",
              "<h3 class=\"info\">Yalp — Fresh Reviews for Hotels and travel</h3>\n",
              "</div>\n",
              "</div>\n",
              "<div class=\"row\">\n",
              "<div class=\"col-md-10\" name=\"main\">\n",
              "<h5>List of all 89 businesses in the category <i>Hotels and travel</i>:</h5>\n",
              "<p><h6>1. <a href=\"reviews_Nip4TJZjarrZv2lrPA0YBw.html\">Aeroport Taxi &amp; Limousine Service</a></h6>849 Westport Crescent, Mississauga, ON<br>Hotels &amp; Travel, Airport Shuttles, Transportation, Taxis, Limos, Airports</br></p>\n",
              "<p><h6>2. <a href=\"reviews_i8vUkYPbaXON_42F-bu4pQ.html\">Air Canada</a></h6>2000 Airport Road, Calgary, AB<br>Transportation, Airlines, Hotels &amp; Travel</br></p>\n",
              "<p><h6>3. <a href=\"reviews_o9HuejkSCUgoXnvkihGx2w.html\">Airmiles Customer Service</a></h6>Calgary, AB<br>Travel Services, Hotels &amp; Travel</br></p>\n",
              "<p><h6>4. <a href=\"reviews_RYfY6Y2PGVF08Vq2TdDZ-Q.html\">Allegiant Airlines</a></h6>3301 N Buffalo Dr, Las Vegas, NV<br>Transportation, Hotels &amp; Travel, Airlines</br></p>\n",
              "<p><h6>5. <a href=\"reviews_E-6l98hX8jICTF6rKHxI8g.html\">Aria Sky Suites</a></h6>3730 S Las Vegas Blvd, Las Vegas, NV<br>Hotels, Event Planning &amp; Services, Hotels &amp; Travel</br></p>\n",
              "<p><h6>6. <a href=\"reviews_YFj05UteXLZ_ntk709REAA.html\">Arizona Balloon Safaris</a></h6>29834 N Cave Creek Rd, Cave Creek, AZ<br>Tours, Hotels &amp; Travel</br></p>\n",
              "<p><h6>7. <a href=\"reviews_pnGOezHAOkzk8FmGVL83Ug.html\">Auberge De La Place Royale</a></h6>115 De La Commune Rue W, Montréal, QC<br>Hotels, Event Planning &amp; Services, Hotels &amp; Travel</br></p>\n",
              "<p><h6>8. <a href=\"reviews_LnOQxu8snN8DxMCzlFWtxQ.html\">Best Western Plus Sundial</a></h6>7320 E Camelback Rd, Scottsdale, AZ<br>Event Planning &amp; Services, Hotels &amp; Travel, Hotels</br></p>\n",
              "<p><h6>9. <a href=\"reviews_ewd4zzAQ-jWF4AO4TfDD0w.html\">CLS Las Vegas</a></h6>6430 S Procyon Ave, Las Vegas, NV<br>Limos, Hotels &amp; Travel, Transportation, Airport Shuttles</br></p>\n",
              "<p><h6>10. <a href=\"reviews_0OZHqFXau4M5-ScGbiPKpA.html\">Charter Bus Express</a></h6>4801 E Mcdowell Rd, Ste 130, Phoenix, AZ<br>Tours, Hotels &amp; Travel, Transportation, Event Planning &amp; Services, Buses, Airlines, Party Bus Rentals</br></p>\n",
              "<p><h6>11. <a href=\"reviews_ZTKtzIGm8Sq93beLHlzQ8A.html\">Clarion Inn Hudson - Akron North</a></h6>6625 Dean Memorial Pkwy, Hudson, OH<br>Hotels, Event Planning &amp; Services, Hotels &amp; Travel</br></p>\n",
              "<p><h6>12. <a href=\"reviews_F29wOTdDvl0qZw0GPPYkIQ.html\">Cleveland Marriott East</a></h6>26300 Harvard Rd, Warrensville Heights, OH<br>Venues &amp; Event Spaces, Hotels, Hotels &amp; Travel, Event Planning &amp; Services</br></p>\n",
              "<p><h6>13. <a href=\"reviews_UiAcw5clXtPReXfI11jTcw.html\">Comfort Hotel Downtown</a></h6>15 Charles Street E, Toronto, ON<br>Hotels &amp; Travel, Event Planning &amp; Services, Hotels</br></p>\n",
              "<p><h6>14. <a href=\"reviews_L3iHzME7qhwKFl_EaJO49Q.html\">Concourse B - Charlotte Douglas International Airport</a></h6>5501 Josh Birmingham Pkwy, Charlotte, NC<br>Airports, Airport Terminals, Hotels &amp; Travel</br></p>\n",
              "<p><h6>15. <a href=\"reviews_ppzuiLwc5o57GCAQ0S2FYw.html\">Courtyard by Marriott Akron Stow</a></h6>4047 Bridgewater Pkwy, Stow, OH<br>Hotels, Event Planning &amp; Services, Hotels &amp; Travel</br></p>\n",
              "<p><h6>16. <a href=\"reviews_cLojVvdeza3rKuDywvT7ZQ.html\">Courtyard by Marriott Charlotte Concord</a></h6>7201 Scott Padgett Pkwy, Concord, NC<br>Hotels, Hotels &amp; Travel, Event Planning &amp; Services</br></p>\n",
              "<p><h6>17. <a href=\"reviews_5wVEM8y3RWFazrsIwds5AA.html\">Courtyard by Marriott Pittsburgh Downtown</a></h6>945 Penn Ave, Pittsburgh, PA<br>Event Planning &amp; Services, Hotels &amp; Travel, Venues &amp; Event Spaces, Hotels</br></p>\n",
              "<p><h6>18. <a href=\"reviews_Hh4rvCDOOb7S33WUP74tRQ.html\">Crawford Auto-Aviation Museum</a></h6>10825 E Blvd, Cleveland, OH<br>Museums, Hotels &amp; Travel, Tours, Landmarks &amp; Historical Buildings, Arts &amp; Entertainment, Public Services &amp; Government</br></p>\n",
              "<p><h6>19. <a href=\"reviews_lImEtP5h-fCS5zl_oIe3Ig.html\">Cruise America Motorhome Rental &amp; Sales</a></h6>331 E Chandler Blvd, Chandler, AZ<br>RV Rental, Hotels &amp; Travel, RV Repair, Automotive</br></p>\n",
              "<p><h6>20. <a href=\"reviews_hjABTon2vVSrfjL5o9_CGw.html\">Delta Hotels by Marriott Toronto East</a></h6>2035 Kennedy Road, Toronto, ON<br>Hotels &amp; Travel, Hotels, Event Planning &amp; Services</br></p>\n",
              "<p><h6>21. <a href=\"reviews_f8p6GuPCcfxosQQUGIsY3w.html\">Discount Car &amp; Truck Rentals</a></h6>40 Hopewell Way NE, Calgary, AB<br>Hotels &amp; Travel, Car Rental</br></p>\n",
              "<p><h6>22. <a href=\"reviews_iXONwpI8qvwgEJBXV10rLw.html\">Dollar Rent a Car</a></h6>18029 Cleveland Pkwy, Cleveland, OH<br>Car Rental, Truck Rental, Parking, Hotels &amp; Travel, Automotive</br></p>\n",
              "<p><h6>23. <a href=\"reviews_eWg_XPt--3IWyMCZ_1dFlw.html\">Drury Inn &amp; Suites Champaign</a></h6>905 W Anthony Dr, Champaign, IL<br>Event Planning &amp; Services, Hotels, Hotels &amp; Travel</br></p>\n",
              "<p><h6>24. <a href=\"reviews_zjGYnTAnBbOAJMw3q6ldYg.html\">Econolodge Motel Village</a></h6>2440 16 Avenue Northwest, Calgary, AB<br>Hotels, Event Planning &amp; Services, Hotels &amp; Travel</br></p>\n",
              "<p><h6>25. <a href=\"reviews_FY60hIUaAKTzNwTwy5SpcA.html\">El Mirador</a></h6>2310 S Las Vegas Blvd, Ste A, Las Vegas, NV<br>Hotels, Event Planning &amp; Services, Hotels &amp; Travel</br></p>\n",
              "<p><h6>26. <a href=\"reviews_OIOqy9gh3LOoyso3JMwyyA.html\">Element Las Vegas Summerlin</a></h6>10555 Discovery Dr, Las Vegas, NV<br>Hotels, Event Planning &amp; Services, Hotels &amp; Travel</br></p>\n",
              "<p><h6>27. <a href=\"reviews_WQ8XMhzBORUG6r5GQuZ7hQ.html\">Elite VIP Tours</a></h6>2831 St Rose Pkwy, Ste 318, Las Vegas, NV<br>Tours, Hotels &amp; Travel, Club Crawl, Nightlife, Dance Clubs</br></p>\n",
              "<p><h6>28. <a href=\"reviews_YGETnPUejkVPiQOGwLxMUQ.html\">Embassy Suites by Hilton Charlotte Ayrsley</a></h6>1917 Ayrsley Town Blvd, Charlotte, NC<br>Hotels &amp; Travel, Event Planning &amp; Services, Hotels</br></p>\n",
              "<p><h6>29. <a href=\"reviews_1-3QXTEwl1pfZn9kXFgN3Q.html\">Emerald Necklace Inn &amp; Tearoom</a></h6>18840 Lorain Rd, Cleveland, OH<br>Bed &amp; Breakfast, Food Court, Restaurants, Hotels &amp; Travel, Food, Hotels, Tea Rooms, Event Planning &amp; Services</br></p>\n",
              "<p><h6>30. <a href=\"reviews_xuo8Ftr6nyjjxAOaUog7qg.html\">Enterprise Rent-A-Car</a></h6>5130 Hudson Dr, Hudson, OH<br>Car Rental, Hotels &amp; Travel</br></p>\n",
              "<p><h6>31. <a href=\"reviews_Ij00ADkSvmJrYrs9mFAkGA.html\">Enterprise Rent-A-Car</a></h6>4099 William Penn Hwy, Ste 101, Monroeville, PA<br>Car Rental, Hotels &amp; Travel</br></p>\n",
              "<p><h6>32. <a href=\"reviews_xrtANyNQxFqf50vB2UC79g.html\">Enterprise Rent-A-Car</a></h6>5445 Drexel Rd, Las Vegas, NV<br>Car Rental, Hotels &amp; Travel</br></p>\n",
              "<p><h6>33. <a href=\"reviews_FmGZh8ZwEnSO860_2eiYHw.html\">Enterprise Rent-A-Car</a></h6>908 E 8th Ave, Homestead, PA<br>Hotels &amp; Travel, Car Rental</br></p>\n",
              "<p><h6>34. <a href=\"reviews_So1fzEDZ_qcFDhyYd6XG7w.html\">Erin Dodge Chrysler Jeep</a></h6>2365 Motorway Boulevard, Mississauga, ON<br>Car Dealers, Auto Repair, Hotels &amp; Travel, Automotive, Car Rental</br></p>\n",
              "<p><h6>35. <a href=\"reviews_IgticM29BbV8n9o-V8Ac8Q.html\">Extended Stay America - Phoenix - Mesa</a></h6>455 W. Baseline Rd., Mesa, AZ<br>Real Estate, Event Planning &amp; Services, Hotels &amp; Travel, Hotels, Apartments, Home Services</br></p>\n",
              "<p><h6>36. <a href=\"reviews_9Ce8yPCXgi7_HFcRkBdwlA.html\">Extended Stay America - Pittsburgh - Monroeville</a></h6>3851 Northern Pike, Monroeville, PA<br>Hotels, Event Planning &amp; Services, Real Estate, Hotels &amp; Travel, Apartments, Home Services</br></p>\n",
              "<p><h6>37. <a href=\"reviews_efwZXuea3BzcOOhK-6FvDQ.html\">Gare Centrale de Montréal</a></h6>895 Rue de la Gauchetière O, Montréal, QC<br>Transportation, Hotels &amp; Travel, Train Stations, Public Transportation</br></p>\n",
              "<p><h6>38. <a href=\"reviews_iCCsd62g79PDjswXaqxltw.html\">Graduate Tempe</a></h6>225 E Apache Blvd, Tempe, AZ<br>Event Planning &amp; Services, Venues &amp; Event Spaces, Hotels, Hotels &amp; Travel</br></p>\n",
              "<p><h6>39. <a href=\"reviews_NUsJcg_JO0h-OMdn0zMoyg.html\">Great Value Taxi Cab</a></h6>3315 E Granada Rd, Phoenix, AZ<br>Transportation, Airport Shuttles, Hotels &amp; Travel, Taxis</br></p>\n",
              "<p><h6>40. <a href=\"reviews_2h4YvkznuX0ctp2gySJYpw.html\">Head Out To Rocky Point Mexico</a></h6>4052 E Sheena Dr, Phoenix, AZ<br>Transportation, Airport Shuttles, Tours, Travel Services, Hotels &amp; Travel</br></p>\n",
              "<p><h6>41. <a href=\"reviews_37f9w8jmMwa_QQ9GDjs7hg.html\">Herbology Tours</a></h6>2550 S Rainbow Blvd, Las Vegas, NV<br>Health &amp; Medical, Cannabis Dispensaries, Tours, Cannabis Tours, Hotels &amp; Travel, Bus Tours, Cannabis Clinics, Shopping</br></p>\n",
              "<p><h6>42. <a href=\"reviews_yuzxs3mKmKKioX3c6w8RLg.html\">Holiday Inn Club Vacations Scottsdale Resort</a></h6>7677 E Princess Blvd, Scottsdale, AZ<br>Resorts, Venues &amp; Event Spaces, Vacation Rentals, Hotels &amp; Travel, Event Planning &amp; Services, Hotels</br></p>\n",
              "<p><h6>43. <a href=\"reviews_Ci2CoXI2s4eCOdgAmDAdig.html\">Holiday Inn Express Peoria North - Glendale</a></h6>16771 N 84th Ave, Peoria, AZ<br>Venues &amp; Event Spaces, Event Planning &amp; Services, Hotels, Hotels &amp; Travel</br></p>\n",
              "<p><h6>44. <a href=\"reviews_PDN-e8ijHW5DXglzfBWgpg.html\">Holiday Inn Hotel Montreal-Midtown</a></h6>420 Sherbrooke W, Montréal, QC<br>Hotels, Venues &amp; Event Spaces, Hotels &amp; Travel, Event Planning &amp; Services</br></p>\n",
              "<p><h6>45. <a href=\"reviews_d4xLGNickA0WmtKWOk5tog.html\">Home2 Suites by Hilton Phoenix Chandler</a></h6>2490 West Queen Creek Rd, Chandler, AZ<br>Hotels &amp; Travel, Hotels, Event Planning &amp; Services</br></p>\n",
              "<p><h6>46. <a href=\"reviews_sbN7xr8L2XQ_k4_3pDDs1A.html\">Homewood Suites Pittsburgh-Southpointe</a></h6>3000 Horizon Vue Dr, Canonsburg, PA<br>Hotels, Hotels &amp; Travel, Event Planning &amp; Services</br></p>\n",
              "<p><h6>47. <a href=\"reviews_JKcMeLcIQ-3VLi-PKmQF8A.html\">Hotel 1333</a></h6>1333 Rural Rd, Tempe, AZ<br>Hotels &amp; Travel, Hotels, Event Planning &amp; Services</br></p>\n",
              "<p><h6>48. <a href=\"reviews_W8_CREwb8lvpNo6xVBQMMA.html\">Hotel Elegant</a></h6>1683 Saint-Hubert Rue, Montréal, QC<br>Hotels, Event Planning &amp; Services, Hotels &amp; Travel</br></p>\n",
              "<p><h6>49. <a href=\"reviews_mruax-1iDdb8GlAKwLy8JQ.html\">Hotel Indigo Toronto Airport</a></h6>135 Carlingview Drive, Toronto, ON<br>Event Planning &amp; Services, Hotels, Hotels &amp; Travel, Venues &amp; Event Spaces</br></p>\n",
              "<p><h6>50. <a href=\"reviews_Dcp9djUhDx4ERv8CgZnpDg.html\">HotelRED</a></h6>1501 Monroe St, Madison, WI<br>Event Planning &amp; Services, Hotels, Hotels &amp; Travel</br></p>\n",
              "<p><h6>51. <a href=\"reviews_hOB3NHuF-iVFdEkrA-PUlg.html\">Hôtel Gault</a></h6>449, Sainte-Hélène Street, Montréal, QC<br>Hotels, Event Planning &amp; Services, Hotels &amp; Travel</br></p>\n",
              "<p><h6>52. <a href=\"reviews_h_EwoEPYzySS8lY-iGxSqQ.html\">Hôtel de Paris</a></h6>901 Rue Sherbrooke E, Montréal, QC<br>Hotels &amp; Travel, Hotels, Event Planning &amp; Services</br></p>\n",
              "<p><h6>53. <a href=\"reviews_5QIICikdjyCqKS6hgkgjiQ.html\">Inn On the Mexican War Streets</a></h6>604 W North Ave, Pittsburgh, PA<br>Hotels, Event Planning &amp; Services, Bed &amp; Breakfast, Hotels &amp; Travel</br></p>\n",
              "<p><h6>54. <a href=\"reviews__ki-51g5W8beGcqvzVALfw.html\">Johnnie Walker RV Center</a></h6>4784 Boulder Hwy, Las Vegas, NV<br>Automotive, Hotels &amp; Travel, RV Rental, Auto Parts &amp; Supplies, Body Shops, RV Dealers</br></p>\n",
              "<p><h6>55. <a href=\"reviews_Ed1w0deMDWZ4UFwJmaSEgQ.html\">JoyridesAZ</a></h6>Scottsdale, AZ<br>Event Planning &amp; Services, Hotels &amp; Travel, Transportation, Food Tours, Tours, Historical Tours, Wine Tours, Golf Cart Rentals, Taxis, Party Bus Rentals, Pedicabs</br></p>\n",
              "<p><h6>56. <a href=\"reviews_YPNoONJbywLnUUT8vbF_ZQ.html\">La Quinta Inn &amp; Suites Phoenix West Peoria</a></h6>16321 North 83rd Ave, Peoria, AZ<br>Event Planning &amp; Services, Hotels, Hotels &amp; Travel</br></p>\n",
              "<p><h6>57. <a href=\"reviews_O7z7Qb0oOcVkrClpmkhyAg.html\">Las Vegas Marriott</a></h6>325 Convention Center Dr, Las Vegas, NV<br>Hotels, Event Planning &amp; Services, Venues &amp; Event Spaces, Hotels &amp; Travel</br></p>\n",
              "<p><h6>58. <a href=\"reviews_3SudVNXtmAfmsgD06pqIYw.html\">LuxXpress</a></h6>4000 W Flamingo Rd, Las Vegas, NV<br>Transportation, Hotels &amp; Travel</br></p>\n",
              "<p><h6>59. <a href=\"reviews_YkHd_jANsjKWZu42xhkaKw.html\">METRO light rail</a></h6>101 N 1st Ave, Ste 1300, Phoenix, AZ<br>Hotels &amp; Travel, Public Services &amp; Government, Transportation, Public Transportation</br></p>\n",
              "<p><h6>60. <a href=\"reviews_ORmMxiJnz9sMnHLFTZtitw.html\">Mandalay Bay Sports Book</a></h6>3950 S Las Vegas Blvd, Las Vegas, NV<br>Arts &amp; Entertainment, Hotels &amp; Travel, Event Planning &amp; Services, Casinos, Hotels, Resorts</br></p>\n",
              "<p><h6>61. <a href=\"reviews_Hz79RV53noQOyKqLxyhm2w.html\">Mercedes-Benz</a></h6>761 Dundas Street E, Toronto, ON<br>Car Rental, Car Dealers, Auto Parts &amp; Supplies, Automotive, Hotels &amp; Travel, Auto Repair</br></p>\n",
              "<p><h6>62. <a href=\"reviews_ivyWJ7ho3TB6upzg27ROKQ.html\">Meridian Condo Resorts</a></h6>8390 E Via De Ventura, Scottsdale, AZ<br>Resorts, Active Life, Vacation Rentals, Hotels, Golf, Hotels &amp; Travel, Event Planning &amp; Services</br></p>\n",
              "<p><h6>63. <a href=\"reviews_4glZtu7UodFIZ0t_7pYMXQ.html\">Mesa Air Group</a></h6>410 N 44th St, Ste 100, Phoenix, AZ<br>Transportation, Airlines, Hotels &amp; Travel</br></p>\n",
              "<p><h6>64. <a href=\"reviews_CEcTRHWmv9EVClUv0y3mEw.html\">Mesa Temple Visitors' Center</a></h6>525 E Main St, Mesa, AZ<br>Visitor Centers, Hotels &amp; Travel, Churches, Religious Organizations, Travel Services</br></p>\n",
              "<p><h6>65. <a href=\"reviews_yckeKwCt1c7nXozE_sY76Q.html\">Motel 6</a></h6>1530 N 52nd Dr, Phoenix, AZ<br>Hotels &amp; Travel, Hotels, Event Planning &amp; Services</br></p>\n",
              "<p><h6>66. <a href=\"reviews_sIogXWARDBB9f3CeF3vnew.html\">Party Tours</a></h6>4301 S Valley View Blvd, Unit 13A, Las Vegas, NV<br>Event Planning &amp; Services, Nightlife, Dance Clubs, Party Bus Rentals, Tours, Limos, Bus Tours, Bars, Transportation, Club Crawl, Hotels &amp; Travel</br></p>\n",
              "<p><h6>67. <a href=\"reviews_yo0fh_IKjofxANa59BUUwg.html\">Payless Car Rental</a></h6>164 Rental Car Dr, Pittsburgh, PA<br>Car Rental, Hotels &amp; Travel</br></p>\n",
              "<p><h6>68. <a href=\"reviews_hAo9tNm7VF4bUKTq27jGdw.html\">Phoenix-Mesa Gateway Airport</a></h6>6033 S Sossaman Rd, MESA, AZ<br>Hotels &amp; Travel, Airports</br></p>\n",
              "<p><h6>69. <a href=\"reviews_fY0RCsymg465GQ7tmxLYog.html\">Promoter Now</a></h6>353 E Bonneville Ave, Ste 467, Las Vegas, NV<br>Dance Clubs, Adult Entertainment, Party &amp; Event Planning, Professional Services, Tours, Event Planning &amp; Services, Travel Services, Nightlife, Hotels &amp; Travel</br></p>\n",
              "<p><h6>70. <a href=\"reviews_1_5fQbRHciJUinP27yWBww.html\">Pueblo El Mirage RV Resort - Roberts Resorts</a></h6>11201 North El Mirage Rd, El Mirage, AZ<br>Party &amp; Event Planning, Restaurants, Event Planning &amp; Services, RV Parks, Vacation Rentals, Golf, Hotels &amp; Travel, Venues &amp; Event Spaces, Active Life</br></p>\n",
              "<p><h6>71. <a href=\"reviews_-8oIw0-YzvYNRydiOPyasw.html\">Radisson Hotel</a></h6>55 Hallcrown Place, North York, ON<br>Bed &amp; Breakfast, Hotels &amp; Travel, Event Planning &amp; Services, Hotels</br></p>\n",
              "<p><h6>72. <a href=\"reviews_DQr0Awv24JVSg5eUyWoR3g.html\">Residence Inn Madison East</a></h6>4862 Hayes Rd, Madison, WI<br>Hotels &amp; Travel, Hotels, Event Planning &amp; Services</br></p>\n",
              "<p><h6>73. <a href=\"reviews_FeuaUlubwfDXer9rfHfPvQ.html\">Rideqwest Transportation</a></h6>18444 N 25th Ave, Ste 7, Phoenix, AZ<br>Transportation, Taxis, Hotels &amp; Travel, Limos</br></p>\n",
              "<p><h6>74. <a href=\"reviews_0l9jhK1pm_3JzZE5eYGGww.html\">Scott Clark Toyota</a></h6>13000 E Independence Blvd, Matthews, NC<br>Auto Repair, Car Rental, Auto Parts &amp; Supplies, Hotels &amp; Travel, Used Car Dealers, Car Dealers, Automotive</br></p>\n",
              "<p><h6>75. <a href=\"reviews_ZHqWq4Tc6JplK5V1cV-TDw.html\">Shalimar Hotel</a></h6>1404 Las Vegas Blvd, Las Vegas, NV<br>Hotels, Event Planning &amp; Services, Hostels, Hotels &amp; Travel</br></p>\n",
              "<p><h6>76. <a href=\"reviews_LTywGqbbdAlZr7R5vodlPw.html\">Sheraton Desert Oasis Villas - Scottsdale</a></h6>17700 N Hayden Rd, Scottsdale, AZ<br>Hotels &amp; Travel, Event Planning &amp; Services, Resorts, Hotels</br></p>\n",
              "<p><h6>77. <a href=\"reviews__FKBxtZpTvJNd95b32y-zw.html\">SpringHill Suites by Marriott Pittsburgh Monroeville</a></h6>122 Daugherty Dr, Monroeville, PA<br>Hotels &amp; Travel, Event Planning &amp; Services, Hotels</br></p>\n",
              "<p><h6>78. <a href=\"reviews_-Ucy8i4uc_OzN8y5fkGVaQ.html\">Taliesin West</a></h6>12621 N Frank Lloyd Wright Blvd, Scottsdale, AZ<br>Event Planning &amp; Services, Local Flavor, Hotels &amp; Travel, Architectural Tours, Professional Services, Arts &amp; Entertainment, Architects, Tours, Travel Services, Venues &amp; Event Spaces, Museums</br></p>\n",
              "<p><h6>79. <a href=\"reviews_0qY7DsLEEwYaOJ5QUeVVug.html\">The Glenmore Inn &amp; Convention Centre</a></h6>2720 Glenmore Trail SE, Calgary, AB<br>Shopping, Caterers, Event Planning &amp; Services, Hotels &amp; Travel, Hotels, Venues &amp; Event Spaces</br></p>\n",
              "<p><h6>80. <a href=\"reviews_DQGh8Kayilc3VM63usnK5Q.html\">Toscana Condo Rentals</a></h6>5450 E Deer Valley Dr, Bldg 10, Phoenix, AZ<br>Hotels, Hotels &amp; Travel, Casinos, Event Planning &amp; Services, Vacation Rentals, Arts &amp; Entertainment</br></p>\n",
              "<p><h6>81. <a href=\"reviews_Sp6HBpMfnPGPQy8HODEmzA.html\">TownePlace Suites Cleveland Airport</a></h6>7325 Engle Rd, Middleburg Heights, OH<br>Hotels, Event Planning &amp; Services, Hotels &amp; Travel</br></p>\n",
              "<p><h6>82. <a href=\"reviews_-VIovoVYsiTt7-U_BNOFnw.html\">TownePlace Suites by Marriott Cleveland Streetsboro</a></h6>795 Mondial Pkwy, Streetsboro, OH<br>Hotels, Event Planning &amp; Services, Hotels &amp; Travel</br></p>\n",
              "<p><h6>83. <a href=\"reviews_Xdv7w4SB6NTRSXMAHS90zQ.html\">Twin Palms Rv Park</a></h6>2225 E Main St, Mesa, AZ<br>Hotels &amp; Travel, RV Parks, Campgrounds</br></p>\n",
              "<p><h6>84. <a href=\"reviews_9de0HpyAgKZ0ltEOo3p6YA.html\">Vegas Limo Coach</a></h6>3535 W Harmon Ave, Ste D, Las Vegas, NV<br>Transportation, Hotels &amp; Travel, Limos</br></p>\n",
              "<p><h6>85. <a href=\"reviews_zEM1xgiSXZwYkPAzfxuTWg.html\">Verve Car Rental</a></h6>8174 Las Vegas Blvd S, Ste 102, Las Vegas, NV<br>Car Rental, Hotels &amp; Travel</br></p>\n",
              "<p><h6>86. <a href=\"reviews_TsE3smUI7-oF0Twwd_wu9Q.html\">Wonder Travel</a></h6>1117 Rue Sainte-Catherine O, Montreal, QC<br>Travel Services, Hotels &amp; Travel, Tours</br></p>\n",
              "<p><h6>87. <a href=\"reviews_fguf3pD0NGSfZb7ud6cTxA.html\">Wyndham Garden Fitchburg Madison</a></h6>2969 Cahill Main, Fitchburg, WI<br>Hotels, Hotels &amp; Travel, Event Planning &amp; Services</br></p>\n",
              "<p><h6>88. <a href=\"reviews_3zdicvwBfRNaZTOwwupWQA.html\">Zipcar</a></h6>Pittsburgh, PA<br>Car Rental, Truck Rental, Hotels &amp; Travel, Automotive, Car Share Services</br></p>\n",
              "<p><h6>89. <a href=\"reviews_xSjAsBKHSYaPUwTgrbCDKw.html\">the Ritz-Carlton Montreal</a></h6>1228 Sherbrooke St, West Montréal, QC<br>Hotels &amp; Travel, Hotels, Event Planning &amp; Services</br></p>\n",
              "<div class=\"footer\">\n",
              "    Content on this site is posted for teaching purposes only. \n",
              "    </div>\n",
              "<!-- Bootstrap core JavaScript\n",
              "    ================================================== -->\n",
              "<!-- Placed at the end of the document so the pages load faster -->\n",
              "<script src=\"https://ajax.googleapis.com/ajax/libs/jquery/1.11.0/jquery.min.js\"></script>\n",
              "<script src=\"assets/js/bootstrap.min.js\"></script>\n",
              "<script src=\"assets/js/retina-1.1.0.js\"></script>\n",
              "<script src=\"assets/js/jquery.hoverdir.js\"></script>\n",
              "<script src=\"assets/js/jquery.hoverex.min.js\"></script>\n",
              "<script src=\"assets/js/jquery.isotope.min.js\"></script>\n",
              "<script src=\"assets/js/custom.js\"></script>\n",
              "</div></div></div></body>\n",
              "</html>"
            ]
          },
          "metadata": {
            "tags": []
          },
          "execution_count": 667
        }
      ]
    },
    {
      "cell_type": "markdown",
      "metadata": {
        "colab_type": "text",
        "id": "FRVO2TznZDey"
      },
      "source": [
        "### Scrape all reviews for each category \n",
        "\n"
      ]
    },
    {
      "cell_type": "code",
      "metadata": {
        "colab_type": "code",
        "id": "R2CE82yPZDe0",
        "colab": {}
      },
      "source": [
        "def getReviewsLinksForCategory(categories_links):\n",
        "    \"\"\"\n",
        "    Description of the getReviewsLinksForCategory Function\n",
        "\n",
        "    This function returns the links of page where reviews are published.\n",
        "\n",
        "    Parameters:\n",
        "      categories_links (dictionary): dictionary of categories page links \n",
        "\n",
        "    Returns:\n",
        "      category_reviews_links (dictionary): dictionary containing links of review pages \n",
        "                    with category, business name and tags.\n",
        "\n",
        "    \"\"\"\n",
        "    category_reviews_links = {}\n",
        "    \n",
        "    for category,link in categories_links.items():\n",
        "        \n",
        "        # getting html parsed soup object for review page link\n",
        "        category_html_soup = getHTMLSoup(link)\n",
        "        \n",
        "        # initialization of category in dictionary\n",
        "        category_reviews_links[category] = {}\n",
        "        \n",
        "        # for each business get the <p> tag\n",
        "        for biz in category_html_soup.findAll('p'):\n",
        "            \n",
        "            # getting name of the business \n",
        "            business_name = biz.find('a').getText().strip()\n",
        "                        \n",
        "            # getting the tags in which business is involved\n",
        "            tags = biz.findAll('br')[0].getText()\n",
        "            \n",
        "            main_link = link.split('yalp')[0]\n",
        "            \n",
        "            # storing the link and tags to specific business and category\n",
        "            category_reviews_links[category][business_name] = [main_link + 'yalp/' + biz.find('a').get('href'),tags]\n",
        "            \n",
        "    return category_reviews_links"
      ],
      "execution_count": 0,
      "outputs": []
    },
    {
      "cell_type": "code",
      "metadata": {
        "colab_type": "code",
        "id": "mkvwdsEDZDfN",
        "colab": {}
      },
      "source": [
        "cat_reviews_links = getReviewsLinksForCategory(categories_links)"
      ],
      "execution_count": 0,
      "outputs": []
    },
    {
      "cell_type": "code",
      "metadata": {
        "colab_type": "code",
        "id": "3L-5Y0emZDfW",
        "outputId": "8ab6a113-4575-487c-9a52-a4218d7040be",
        "colab": {
          "base_uri": "https://localhost:8080/",
          "height": 5759
        }
      },
      "source": [
        "cat_reviews_links"
      ],
      "execution_count": 0,
      "outputs": [
        {
          "output_type": "execute_result",
          "data": {
            "text/plain": [
              "{'Hotels and travel': {'Aeroport Taxi & Limousine Service': ['http://mlg.ucd.ie/modules/yalp/reviews_Nip4TJZjarrZv2lrPA0YBw.html',\n",
              "   'Hotels & Travel, Airport Shuttles, Transportation, Taxis, Limos, Airports'],\n",
              "  'Air Canada': ['http://mlg.ucd.ie/modules/yalp/reviews_i8vUkYPbaXON_42F-bu4pQ.html',\n",
              "   'Transportation, Airlines, Hotels & Travel'],\n",
              "  'Airmiles Customer Service': ['http://mlg.ucd.ie/modules/yalp/reviews_o9HuejkSCUgoXnvkihGx2w.html',\n",
              "   'Travel Services, Hotels & Travel'],\n",
              "  'Allegiant Airlines': ['http://mlg.ucd.ie/modules/yalp/reviews_RYfY6Y2PGVF08Vq2TdDZ-Q.html',\n",
              "   'Transportation, Hotels & Travel, Airlines'],\n",
              "  'Aria Sky Suites': ['http://mlg.ucd.ie/modules/yalp/reviews_E-6l98hX8jICTF6rKHxI8g.html',\n",
              "   'Hotels, Event Planning & Services, Hotels & Travel'],\n",
              "  'Arizona Balloon Safaris': ['http://mlg.ucd.ie/modules/yalp/reviews_YFj05UteXLZ_ntk709REAA.html',\n",
              "   'Tours, Hotels & Travel'],\n",
              "  'Auberge De La Place Royale': ['http://mlg.ucd.ie/modules/yalp/reviews_pnGOezHAOkzk8FmGVL83Ug.html',\n",
              "   'Hotels, Event Planning & Services, Hotels & Travel'],\n",
              "  'Best Western Plus Sundial': ['http://mlg.ucd.ie/modules/yalp/reviews_LnOQxu8snN8DxMCzlFWtxQ.html',\n",
              "   'Event Planning & Services, Hotels & Travel, Hotels'],\n",
              "  'CLS Las Vegas': ['http://mlg.ucd.ie/modules/yalp/reviews_ewd4zzAQ-jWF4AO4TfDD0w.html',\n",
              "   'Limos, Hotels & Travel, Transportation, Airport Shuttles'],\n",
              "  'Charter Bus Express': ['http://mlg.ucd.ie/modules/yalp/reviews_0OZHqFXau4M5-ScGbiPKpA.html',\n",
              "   'Tours, Hotels & Travel, Transportation, Event Planning & Services, Buses, Airlines, Party Bus Rentals'],\n",
              "  'Clarion Inn Hudson - Akron North': ['http://mlg.ucd.ie/modules/yalp/reviews_ZTKtzIGm8Sq93beLHlzQ8A.html',\n",
              "   'Hotels, Event Planning & Services, Hotels & Travel'],\n",
              "  'Cleveland Marriott East': ['http://mlg.ucd.ie/modules/yalp/reviews_F29wOTdDvl0qZw0GPPYkIQ.html',\n",
              "   'Venues & Event Spaces, Hotels, Hotels & Travel, Event Planning & Services'],\n",
              "  'Comfort Hotel Downtown': ['http://mlg.ucd.ie/modules/yalp/reviews_UiAcw5clXtPReXfI11jTcw.html',\n",
              "   'Hotels & Travel, Event Planning & Services, Hotels'],\n",
              "  'Concourse B - Charlotte Douglas International Airport': ['http://mlg.ucd.ie/modules/yalp/reviews_L3iHzME7qhwKFl_EaJO49Q.html',\n",
              "   'Airports, Airport Terminals, Hotels & Travel'],\n",
              "  'Courtyard by Marriott Akron Stow': ['http://mlg.ucd.ie/modules/yalp/reviews_ppzuiLwc5o57GCAQ0S2FYw.html',\n",
              "   'Hotels, Event Planning & Services, Hotels & Travel'],\n",
              "  'Courtyard by Marriott Charlotte Concord': ['http://mlg.ucd.ie/modules/yalp/reviews_cLojVvdeza3rKuDywvT7ZQ.html',\n",
              "   'Hotels, Hotels & Travel, Event Planning & Services'],\n",
              "  'Courtyard by Marriott Pittsburgh Downtown': ['http://mlg.ucd.ie/modules/yalp/reviews_5wVEM8y3RWFazrsIwds5AA.html',\n",
              "   'Event Planning & Services, Hotels & Travel, Venues & Event Spaces, Hotels'],\n",
              "  'Crawford Auto-Aviation Museum': ['http://mlg.ucd.ie/modules/yalp/reviews_Hh4rvCDOOb7S33WUP74tRQ.html',\n",
              "   'Museums, Hotels & Travel, Tours, Landmarks & Historical Buildings, Arts & Entertainment, Public Services & Government'],\n",
              "  'Cruise America Motorhome Rental & Sales': ['http://mlg.ucd.ie/modules/yalp/reviews_lImEtP5h-fCS5zl_oIe3Ig.html',\n",
              "   'RV Rental, Hotels & Travel, RV Repair, Automotive'],\n",
              "  'Delta Hotels by Marriott Toronto East': ['http://mlg.ucd.ie/modules/yalp/reviews_hjABTon2vVSrfjL5o9_CGw.html',\n",
              "   'Hotels & Travel, Hotels, Event Planning & Services'],\n",
              "  'Discount Car & Truck Rentals': ['http://mlg.ucd.ie/modules/yalp/reviews_f8p6GuPCcfxosQQUGIsY3w.html',\n",
              "   'Hotels & Travel, Car Rental'],\n",
              "  'Dollar Rent a Car': ['http://mlg.ucd.ie/modules/yalp/reviews_iXONwpI8qvwgEJBXV10rLw.html',\n",
              "   'Car Rental, Truck Rental, Parking, Hotels & Travel, Automotive'],\n",
              "  'Drury Inn & Suites Champaign': ['http://mlg.ucd.ie/modules/yalp/reviews_eWg_XPt--3IWyMCZ_1dFlw.html',\n",
              "   'Event Planning & Services, Hotels, Hotels & Travel'],\n",
              "  'Econolodge Motel Village': ['http://mlg.ucd.ie/modules/yalp/reviews_zjGYnTAnBbOAJMw3q6ldYg.html',\n",
              "   'Hotels, Event Planning & Services, Hotels & Travel'],\n",
              "  'El Mirador': ['http://mlg.ucd.ie/modules/yalp/reviews_FY60hIUaAKTzNwTwy5SpcA.html',\n",
              "   'Hotels, Event Planning & Services, Hotels & Travel'],\n",
              "  'Element Las Vegas Summerlin': ['http://mlg.ucd.ie/modules/yalp/reviews_OIOqy9gh3LOoyso3JMwyyA.html',\n",
              "   'Hotels, Event Planning & Services, Hotels & Travel'],\n",
              "  'Elite VIP Tours': ['http://mlg.ucd.ie/modules/yalp/reviews_WQ8XMhzBORUG6r5GQuZ7hQ.html',\n",
              "   'Tours, Hotels & Travel, Club Crawl, Nightlife, Dance Clubs'],\n",
              "  'Embassy Suites by Hilton Charlotte Ayrsley': ['http://mlg.ucd.ie/modules/yalp/reviews_YGETnPUejkVPiQOGwLxMUQ.html',\n",
              "   'Hotels & Travel, Event Planning & Services, Hotels'],\n",
              "  'Emerald Necklace Inn & Tearoom': ['http://mlg.ucd.ie/modules/yalp/reviews_1-3QXTEwl1pfZn9kXFgN3Q.html',\n",
              "   'Bed & Breakfast, Food Court, Restaurants, Hotels & Travel, Food, Hotels, Tea Rooms, Event Planning & Services'],\n",
              "  'Enterprise Rent-A-Car': ['http://mlg.ucd.ie/modules/yalp/reviews_FmGZh8ZwEnSO860_2eiYHw.html',\n",
              "   'Hotels & Travel, Car Rental'],\n",
              "  'Erin Dodge Chrysler Jeep': ['http://mlg.ucd.ie/modules/yalp/reviews_So1fzEDZ_qcFDhyYd6XG7w.html',\n",
              "   'Car Dealers, Auto Repair, Hotels & Travel, Automotive, Car Rental'],\n",
              "  'Extended Stay America - Phoenix - Mesa': ['http://mlg.ucd.ie/modules/yalp/reviews_IgticM29BbV8n9o-V8Ac8Q.html',\n",
              "   'Real Estate, Event Planning & Services, Hotels & Travel, Hotels, Apartments, Home Services'],\n",
              "  'Extended Stay America - Pittsburgh - Monroeville': ['http://mlg.ucd.ie/modules/yalp/reviews_9Ce8yPCXgi7_HFcRkBdwlA.html',\n",
              "   'Hotels, Event Planning & Services, Real Estate, Hotels & Travel, Apartments, Home Services'],\n",
              "  'Gare Centrale de Montréal': ['http://mlg.ucd.ie/modules/yalp/reviews_efwZXuea3BzcOOhK-6FvDQ.html',\n",
              "   'Transportation, Hotels & Travel, Train Stations, Public Transportation'],\n",
              "  'Graduate Tempe': ['http://mlg.ucd.ie/modules/yalp/reviews_iCCsd62g79PDjswXaqxltw.html',\n",
              "   'Event Planning & Services, Venues & Event Spaces, Hotels, Hotels & Travel'],\n",
              "  'Great Value Taxi Cab': ['http://mlg.ucd.ie/modules/yalp/reviews_NUsJcg_JO0h-OMdn0zMoyg.html',\n",
              "   'Transportation, Airport Shuttles, Hotels & Travel, Taxis'],\n",
              "  'Head Out To Rocky Point Mexico': ['http://mlg.ucd.ie/modules/yalp/reviews_2h4YvkznuX0ctp2gySJYpw.html',\n",
              "   'Transportation, Airport Shuttles, Tours, Travel Services, Hotels & Travel'],\n",
              "  'Herbology Tours': ['http://mlg.ucd.ie/modules/yalp/reviews_37f9w8jmMwa_QQ9GDjs7hg.html',\n",
              "   'Health & Medical, Cannabis Dispensaries, Tours, Cannabis Tours, Hotels & Travel, Bus Tours, Cannabis Clinics, Shopping'],\n",
              "  'Holiday Inn Club Vacations Scottsdale Resort': ['http://mlg.ucd.ie/modules/yalp/reviews_yuzxs3mKmKKioX3c6w8RLg.html',\n",
              "   'Resorts, Venues & Event Spaces, Vacation Rentals, Hotels & Travel, Event Planning & Services, Hotels'],\n",
              "  'Holiday Inn Express Peoria North - Glendale': ['http://mlg.ucd.ie/modules/yalp/reviews_Ci2CoXI2s4eCOdgAmDAdig.html',\n",
              "   'Venues & Event Spaces, Event Planning & Services, Hotels, Hotels & Travel'],\n",
              "  'Holiday Inn Hotel Montreal-Midtown': ['http://mlg.ucd.ie/modules/yalp/reviews_PDN-e8ijHW5DXglzfBWgpg.html',\n",
              "   'Hotels, Venues & Event Spaces, Hotels & Travel, Event Planning & Services'],\n",
              "  'Home2 Suites by Hilton Phoenix Chandler': ['http://mlg.ucd.ie/modules/yalp/reviews_d4xLGNickA0WmtKWOk5tog.html',\n",
              "   'Hotels & Travel, Hotels, Event Planning & Services'],\n",
              "  'Homewood Suites Pittsburgh-Southpointe': ['http://mlg.ucd.ie/modules/yalp/reviews_sbN7xr8L2XQ_k4_3pDDs1A.html',\n",
              "   'Hotels, Hotels & Travel, Event Planning & Services'],\n",
              "  'Hotel 1333': ['http://mlg.ucd.ie/modules/yalp/reviews_JKcMeLcIQ-3VLi-PKmQF8A.html',\n",
              "   'Hotels & Travel, Hotels, Event Planning & Services'],\n",
              "  'Hotel Elegant': ['http://mlg.ucd.ie/modules/yalp/reviews_W8_CREwb8lvpNo6xVBQMMA.html',\n",
              "   'Hotels, Event Planning & Services, Hotels & Travel'],\n",
              "  'Hotel Indigo Toronto Airport': ['http://mlg.ucd.ie/modules/yalp/reviews_mruax-1iDdb8GlAKwLy8JQ.html',\n",
              "   'Event Planning & Services, Hotels, Hotels & Travel, Venues & Event Spaces'],\n",
              "  'HotelRED': ['http://mlg.ucd.ie/modules/yalp/reviews_Dcp9djUhDx4ERv8CgZnpDg.html',\n",
              "   'Event Planning & Services, Hotels, Hotels & Travel'],\n",
              "  'Hôtel Gault': ['http://mlg.ucd.ie/modules/yalp/reviews_hOB3NHuF-iVFdEkrA-PUlg.html',\n",
              "   'Hotels, Event Planning & Services, Hotels & Travel'],\n",
              "  'Hôtel de Paris': ['http://mlg.ucd.ie/modules/yalp/reviews_h_EwoEPYzySS8lY-iGxSqQ.html',\n",
              "   'Hotels & Travel, Hotels, Event Planning & Services'],\n",
              "  'Inn On the Mexican War Streets': ['http://mlg.ucd.ie/modules/yalp/reviews_5QIICikdjyCqKS6hgkgjiQ.html',\n",
              "   'Hotels, Event Planning & Services, Bed & Breakfast, Hotels & Travel'],\n",
              "  'Johnnie Walker RV Center': ['http://mlg.ucd.ie/modules/yalp/reviews__ki-51g5W8beGcqvzVALfw.html',\n",
              "   'Automotive, Hotels & Travel, RV Rental, Auto Parts & Supplies, Body Shops, RV Dealers'],\n",
              "  'JoyridesAZ': ['http://mlg.ucd.ie/modules/yalp/reviews_Ed1w0deMDWZ4UFwJmaSEgQ.html',\n",
              "   'Event Planning & Services, Hotels & Travel, Transportation, Food Tours, Tours, Historical Tours, Wine Tours, Golf Cart Rentals, Taxis, Party Bus Rentals, Pedicabs'],\n",
              "  'La Quinta Inn & Suites Phoenix West Peoria': ['http://mlg.ucd.ie/modules/yalp/reviews_YPNoONJbywLnUUT8vbF_ZQ.html',\n",
              "   'Event Planning & Services, Hotels, Hotels & Travel'],\n",
              "  'Las Vegas Marriott': ['http://mlg.ucd.ie/modules/yalp/reviews_O7z7Qb0oOcVkrClpmkhyAg.html',\n",
              "   'Hotels, Event Planning & Services, Venues & Event Spaces, Hotels & Travel'],\n",
              "  'LuxXpress': ['http://mlg.ucd.ie/modules/yalp/reviews_3SudVNXtmAfmsgD06pqIYw.html',\n",
              "   'Transportation, Hotels & Travel'],\n",
              "  'METRO light rail': ['http://mlg.ucd.ie/modules/yalp/reviews_YkHd_jANsjKWZu42xhkaKw.html',\n",
              "   'Hotels & Travel, Public Services & Government, Transportation, Public Transportation'],\n",
              "  'Mandalay Bay Sports Book': ['http://mlg.ucd.ie/modules/yalp/reviews_ORmMxiJnz9sMnHLFTZtitw.html',\n",
              "   'Arts & Entertainment, Hotels & Travel, Event Planning & Services, Casinos, Hotels, Resorts'],\n",
              "  'Mercedes-Benz': ['http://mlg.ucd.ie/modules/yalp/reviews_Hz79RV53noQOyKqLxyhm2w.html',\n",
              "   'Car Rental, Car Dealers, Auto Parts & Supplies, Automotive, Hotels & Travel, Auto Repair'],\n",
              "  'Meridian Condo Resorts': ['http://mlg.ucd.ie/modules/yalp/reviews_ivyWJ7ho3TB6upzg27ROKQ.html',\n",
              "   'Resorts, Active Life, Vacation Rentals, Hotels, Golf, Hotels & Travel, Event Planning & Services'],\n",
              "  'Mesa Air Group': ['http://mlg.ucd.ie/modules/yalp/reviews_4glZtu7UodFIZ0t_7pYMXQ.html',\n",
              "   'Transportation, Airlines, Hotels & Travel'],\n",
              "  \"Mesa Temple Visitors' Center\": ['http://mlg.ucd.ie/modules/yalp/reviews_CEcTRHWmv9EVClUv0y3mEw.html',\n",
              "   'Visitor Centers, Hotels & Travel, Churches, Religious Organizations, Travel Services'],\n",
              "  'Motel 6': ['http://mlg.ucd.ie/modules/yalp/reviews_yckeKwCt1c7nXozE_sY76Q.html',\n",
              "   'Hotels & Travel, Hotels, Event Planning & Services'],\n",
              "  'Party Tours': ['http://mlg.ucd.ie/modules/yalp/reviews_sIogXWARDBB9f3CeF3vnew.html',\n",
              "   'Event Planning & Services, Nightlife, Dance Clubs, Party Bus Rentals, Tours, Limos, Bus Tours, Bars, Transportation, Club Crawl, Hotels & Travel'],\n",
              "  'Payless Car Rental': ['http://mlg.ucd.ie/modules/yalp/reviews_yo0fh_IKjofxANa59BUUwg.html',\n",
              "   'Car Rental, Hotels & Travel'],\n",
              "  'Phoenix-Mesa Gateway Airport': ['http://mlg.ucd.ie/modules/yalp/reviews_hAo9tNm7VF4bUKTq27jGdw.html',\n",
              "   'Hotels & Travel, Airports'],\n",
              "  'Promoter Now': ['http://mlg.ucd.ie/modules/yalp/reviews_fY0RCsymg465GQ7tmxLYog.html',\n",
              "   'Dance Clubs, Adult Entertainment, Party & Event Planning, Professional Services, Tours, Event Planning & Services, Travel Services, Nightlife, Hotels & Travel'],\n",
              "  'Pueblo El Mirage RV Resort - Roberts Resorts': ['http://mlg.ucd.ie/modules/yalp/reviews_1_5fQbRHciJUinP27yWBww.html',\n",
              "   'Party & Event Planning, Restaurants, Event Planning & Services, RV Parks, Vacation Rentals, Golf, Hotels & Travel, Venues & Event Spaces, Active Life'],\n",
              "  'Radisson Hotel': ['http://mlg.ucd.ie/modules/yalp/reviews_-8oIw0-YzvYNRydiOPyasw.html',\n",
              "   'Bed & Breakfast, Hotels & Travel, Event Planning & Services, Hotels'],\n",
              "  'Residence Inn Madison East': ['http://mlg.ucd.ie/modules/yalp/reviews_DQr0Awv24JVSg5eUyWoR3g.html',\n",
              "   'Hotels & Travel, Hotels, Event Planning & Services'],\n",
              "  'Rideqwest Transportation': ['http://mlg.ucd.ie/modules/yalp/reviews_FeuaUlubwfDXer9rfHfPvQ.html',\n",
              "   'Transportation, Taxis, Hotels & Travel, Limos'],\n",
              "  'Scott Clark Toyota': ['http://mlg.ucd.ie/modules/yalp/reviews_0l9jhK1pm_3JzZE5eYGGww.html',\n",
              "   'Auto Repair, Car Rental, Auto Parts & Supplies, Hotels & Travel, Used Car Dealers, Car Dealers, Automotive'],\n",
              "  'Shalimar Hotel': ['http://mlg.ucd.ie/modules/yalp/reviews_ZHqWq4Tc6JplK5V1cV-TDw.html',\n",
              "   'Hotels, Event Planning & Services, Hostels, Hotels & Travel'],\n",
              "  'Sheraton Desert Oasis Villas - Scottsdale': ['http://mlg.ucd.ie/modules/yalp/reviews_LTywGqbbdAlZr7R5vodlPw.html',\n",
              "   'Hotels & Travel, Event Planning & Services, Resorts, Hotels'],\n",
              "  'SpringHill Suites by Marriott Pittsburgh Monroeville': ['http://mlg.ucd.ie/modules/yalp/reviews__FKBxtZpTvJNd95b32y-zw.html',\n",
              "   'Hotels & Travel, Event Planning & Services, Hotels'],\n",
              "  'Taliesin West': ['http://mlg.ucd.ie/modules/yalp/reviews_-Ucy8i4uc_OzN8y5fkGVaQ.html',\n",
              "   'Event Planning & Services, Local Flavor, Hotels & Travel, Architectural Tours, Professional Services, Arts & Entertainment, Architects, Tours, Travel Services, Venues & Event Spaces, Museums'],\n",
              "  'The Glenmore Inn & Convention Centre': ['http://mlg.ucd.ie/modules/yalp/reviews_0qY7DsLEEwYaOJ5QUeVVug.html',\n",
              "   'Shopping, Caterers, Event Planning & Services, Hotels & Travel, Hotels, Venues & Event Spaces'],\n",
              "  'Toscana Condo Rentals': ['http://mlg.ucd.ie/modules/yalp/reviews_DQGh8Kayilc3VM63usnK5Q.html',\n",
              "   'Hotels, Hotels & Travel, Casinos, Event Planning & Services, Vacation Rentals, Arts & Entertainment'],\n",
              "  'TownePlace Suites Cleveland Airport': ['http://mlg.ucd.ie/modules/yalp/reviews_Sp6HBpMfnPGPQy8HODEmzA.html',\n",
              "   'Hotels, Event Planning & Services, Hotels & Travel'],\n",
              "  'TownePlace Suites by Marriott Cleveland Streetsboro': ['http://mlg.ucd.ie/modules/yalp/reviews_-VIovoVYsiTt7-U_BNOFnw.html',\n",
              "   'Hotels, Event Planning & Services, Hotels & Travel'],\n",
              "  'Twin Palms Rv Park': ['http://mlg.ucd.ie/modules/yalp/reviews_Xdv7w4SB6NTRSXMAHS90zQ.html',\n",
              "   'Hotels & Travel, RV Parks, Campgrounds'],\n",
              "  'Vegas Limo Coach': ['http://mlg.ucd.ie/modules/yalp/reviews_9de0HpyAgKZ0ltEOo3p6YA.html',\n",
              "   'Transportation, Hotels & Travel, Limos'],\n",
              "  'Verve Car Rental': ['http://mlg.ucd.ie/modules/yalp/reviews_zEM1xgiSXZwYkPAzfxuTWg.html',\n",
              "   'Car Rental, Hotels & Travel'],\n",
              "  'Wonder Travel': ['http://mlg.ucd.ie/modules/yalp/reviews_TsE3smUI7-oF0Twwd_wu9Q.html',\n",
              "   'Travel Services, Hotels & Travel, Tours'],\n",
              "  'Wyndham Garden Fitchburg Madison': ['http://mlg.ucd.ie/modules/yalp/reviews_fguf3pD0NGSfZb7ud6cTxA.html',\n",
              "   'Hotels, Hotels & Travel, Event Planning & Services'],\n",
              "  'Zipcar': ['http://mlg.ucd.ie/modules/yalp/reviews_3zdicvwBfRNaZTOwwupWQA.html',\n",
              "   'Car Rental, Truck Rental, Hotels & Travel, Automotive, Car Share Services'],\n",
              "  'the Ritz-Carlton Montreal': ['http://mlg.ucd.ie/modules/yalp/reviews_xSjAsBKHSYaPUwTgrbCDKw.html',\n",
              "   'Hotels & Travel, Hotels, Event Planning & Services']},\n",
              " 'Restaurants': {'Au Festin de Babette': ['http://mlg.ucd.ie/modules/yalp/reviews_9YL6FpVTp9tlOm9MCqfNfA.html',\n",
              "   'Ice Cream & Frozen Yogurt, Breakfast & Brunch, Coffee & Tea, Desserts, Restaurants, Food'],\n",
              "  'BV Pub and Pizzeria': ['http://mlg.ucd.ie/modules/yalp/reviews_qtotIYIF9U1PCEzMl1iE2w.html',\n",
              "   'Restaurants, Chicken Wings, Italian, Pizza'],\n",
              "  'Barros Pizza': ['http://mlg.ucd.ie/modules/yalp/reviews_vzoAKt7ND2YPLYfnVRi_Cg.html',\n",
              "   'Italian, Sandwiches, Restaurants, Pizza'],\n",
              "  'Beer Garden': ['http://mlg.ucd.ie/modules/yalp/reviews_3QzPhQ3ltbon0-1gC7Q18Q.html',\n",
              "   'Pubs, Pizza, Beer, Wine & Spirits, Restaurants, Nightlife, Food, Bars, Specialty Food'],\n",
              "  \"Biaggio's Pizzeria\": ['http://mlg.ucd.ie/modules/yalp/reviews_N6MzDoao6s68nAIW8vS9dQ.html',\n",
              "   'Italian, Restaurants, Food, Pizza, Specialty Food, Pasta Shops'],\n",
              "  'Blackfinn Ameripub': ['http://mlg.ucd.ie/modules/yalp/reviews_GmSomk7UiPR64MFUs0rp2Q.html',\n",
              "   'Restaurants, American (New)'],\n",
              "  \"Buford's Kitchen\": ['http://mlg.ucd.ie/modules/yalp/reviews_L3ysePkSGjp11VIcmA3A-Q.html',\n",
              "   'Burgers, Bars, Restaurants, Nightlife, Breakfast & Brunch, Southern'],\n",
              "  'Canis': ['http://mlg.ucd.ie/modules/yalp/reviews_WP1e-VmnTW2K0A9dMCF10g.html',\n",
              "   'Bars, Restaurants, Wine Bars, Nightlife, Canadian (New)'],\n",
              "  'Cannery Row Buffet': ['http://mlg.ucd.ie/modules/yalp/reviews_-P8dGzSVhJi-5oZ-8U2y0w.html',\n",
              "   'Buffets, Diners, Restaurants'],\n",
              "  \"Carbonara's Restaurant\": ['http://mlg.ucd.ie/modules/yalp/reviews_R7eLlAdeIYsxux_Vm0l5sg.html',\n",
              "   'Pizza, Italian, Restaurants'],\n",
              "  'Chick-fil-A': ['http://mlg.ucd.ie/modules/yalp/reviews_XxnJZbFBJ8BKPg0_4eJdAA.html',\n",
              "   'Fast Food, Caterers, Restaurants, Event Planning & Services, Chicken Wings'],\n",
              "  'Cocina Oaxaqueña': ['http://mlg.ucd.ie/modules/yalp/reviews_Yea_hg7GjYfOOzMeBSUNjg.html',\n",
              "   'Specialty Food, Ethnic Food, Mexican, Restaurants, Imported Food, Food'],\n",
              "  'Crystal & Jules': ['http://mlg.ucd.ie/modules/yalp/reviews_lej93fq8JwXy9tz-7zQhdA.html',\n",
              "   'Restaurants, American (New)'],\n",
              "  'Di Manno Bakery': ['http://mlg.ucd.ie/modules/yalp/reviews_ydSiR7YyALkmmACVNtXzhg.html',\n",
              "   'Restaurants, Bakeries, Food, Italian'],\n",
              "  'Express Pizzeria': ['http://mlg.ucd.ie/modules/yalp/reviews_Xz5tTSD3X3gACOiVn101tQ.html',\n",
              "   'Pizza, Restaurants'],\n",
              "  'Famous Gyro George': ['http://mlg.ucd.ie/modules/yalp/reviews_J8UNCSLgU0JagFLpicVWXg.html',\n",
              "   'Sandwiches, Restaurants, Middle Eastern, Greek, Breakfast & Brunch'],\n",
              "  'Forum Cafe': ['http://mlg.ucd.ie/modules/yalp/reviews_6kbj9mAWX4gCig-Y4WCdHA.html',\n",
              "   'Sandwiches, Restaurants, American (New)'],\n",
              "  'GreenMix': ['http://mlg.ucd.ie/modules/yalp/reviews_CbpQD3NxSEoN4v7VDXYHAA.html',\n",
              "   'Salad, Asian Fusion, Restaurants, American (Traditional), Food, Sandwiches'],\n",
              "  'Ground Zero': ['http://mlg.ucd.ie/modules/yalp/reviews_lYbyy6TTmpk_mlYuYAWkDg.html',\n",
              "   'Cafes, Coffee & Tea, Food, Restaurants, Sandwiches'],\n",
              "  'Hogs and Hops': ['http://mlg.ucd.ie/modules/yalp/reviews_u_vSbtOYpfnzhFRfEhqfyg.html',\n",
              "   'Barbeque, Restaurants'],\n",
              "  'Ichiban Fish House': ['http://mlg.ucd.ie/modules/yalp/reviews_7GSBz8XKGkX0f1XRJwBH_Q.html',\n",
              "   'Japanese, Sushi Bars, Seafood, Restaurants'],\n",
              "  \"Jimmy John's\": ['http://mlg.ucd.ie/modules/yalp/reviews_BPRsP7xV5RkMSCh24BTPzQ.html',\n",
              "   'Food Delivery Services, Restaurants, Sandwiches, Fast Food, Food, Delis'],\n",
              "  \"Joey & Gina's Restaurant\": ['http://mlg.ucd.ie/modules/yalp/reviews_qq2k2tohpim0gStdb9vCBw.html',\n",
              "   'Restaurants, Italian, Pizza'],\n",
              "  \"John Michael's Pub\": ['http://mlg.ucd.ie/modules/yalp/reviews_ZntrjpC6xAPHPVIYc_TUmA.html',\n",
              "   'Restaurants, Burgers, Sandwiches, Bars, Pubs, Nightlife, Sports Bars'],\n",
              "  'Joy Thai Restaurant': ['http://mlg.ucd.ie/modules/yalp/reviews_vqYCZseV9WqasZnO-iSQtg.html',\n",
              "   'Restaurants, Noodles, Seafood, Thai'],\n",
              "  'Kabab Palace': ['http://mlg.ucd.ie/modules/yalp/reviews_biVQDp3K_vNP1eK5wGZOJg.html',\n",
              "   'Indian, Buffets, Restaurants'],\n",
              "  'Le Fumoir Rubs': ['http://mlg.ucd.ie/modules/yalp/reviews_ssmZUmq3_ObYKjkb7xMndA.html',\n",
              "   'Barbeque, Restaurants, Burgers'],\n",
              "  \"Lola's\": ['http://mlg.ucd.ie/modules/yalp/reviews_cILk7PnJBxNsMmGhQU2cyA.html',\n",
              "   'Coffee & Tea, Food, Tapas Bars, Restaurants'],\n",
              "  'LongHorn Steakhouse': ['http://mlg.ucd.ie/modules/yalp/reviews_3deqbrFWWyHdlvAbmqWqMQ.html',\n",
              "   'Restaurants, Steakhouses, American (Traditional), Barbeque'],\n",
              "  \"Lyndhurst Grill by J. Alexander's\": ['http://mlg.ucd.ie/modules/yalp/reviews_PjNMZ_4KhfdxYhQvuORkhg.html',\n",
              "   'American (New), Restaurants'],\n",
              "  'Mandarin Chef': ['http://mlg.ucd.ie/modules/yalp/reviews__XmJ3Y-yGxG2BENWBnYWVQ.html',\n",
              "   'Chinese, Restaurants'],\n",
              "  'Mangiacake Ristorante & Catering': ['http://mlg.ucd.ie/modules/yalp/reviews_5D2lHX9z-psWbH5Dm0aZxQ.html',\n",
              "   'Food, Coffee & Tea, Restaurants, Italian'],\n",
              "  'Milano Italian Restaurant': ['http://mlg.ucd.ie/modules/yalp/reviews_lR4ybrBnCkWI-BMeDrJwFQ.html',\n",
              "   'Italian, Restaurants'],\n",
              "  'Mirch Masala': ['http://mlg.ucd.ie/modules/yalp/reviews_4scx_rtI9RZfFHWUxqPuHw.html',\n",
              "   'Restaurants, Indian, Buffets'],\n",
              "  'Mr Pho': ['http://mlg.ucd.ie/modules/yalp/reviews_iKISAYkTEH_KLn7DdNN4Yg.html',\n",
              "   'Vietnamese, Restaurants'],\n",
              "  \"Nando's Flame Grilled Chicken\": ['http://mlg.ucd.ie/modules/yalp/reviews_oXMvjbVKKr629a2FTxXtJA.html',\n",
              "   'South African, African, Barbeque, Chicken Wings, American (Traditional), Restaurants, Portuguese'],\n",
              "  \"Narong's Thai Kitchen\": ['http://mlg.ucd.ie/modules/yalp/reviews_caKRXynM5bY922pGtQhvfQ.html',\n",
              "   'Fast Food, Restaurants, Thai'],\n",
              "  'Nest Restaurant & Lounge': ['http://mlg.ucd.ie/modules/yalp/reviews_y3Wxd_BP3wI3i5HFG6FRnA.html',\n",
              "   'Nightlife, Breakfast & Brunch, Event Planning & Services, Cocktail Bars, American (New), Restaurants, Venues & Event Spaces, Lounges, Bars'],\n",
              "  'New Day Cafe': ['http://mlg.ucd.ie/modules/yalp/reviews_Yn-8zix5_blucvZo3G8kPw.html',\n",
              "   'American (New), Breakfast & Brunch, Burgers, American (Traditional), Restaurants'],\n",
              "  'Oaxaca Restaurante Y Cantina': ['http://mlg.ucd.ie/modules/yalp/reviews_WEpu2goj7QggSgL_nP2EMg.html',\n",
              "   'Restaurants, Mexican'],\n",
              "  'OddFellows': ['http://mlg.ucd.ie/modules/yalp/reviews_HyN6Aj7xcGnIewNwaUko_g.html',\n",
              "   'American (New), Canadian (New), Restaurants'],\n",
              "  'Orient House': ['http://mlg.ucd.ie/modules/yalp/reviews_ceuvH6NpDhpT1p4q1w93pA.html',\n",
              "   'Restaurants, Chinese'],\n",
              "  'Philly Pretzel Factory': ['http://mlg.ucd.ie/modules/yalp/reviews_vu8N7IKK8HC0a0omYvtPpQ.html',\n",
              "   'American (New), Restaurants, Pretzels, Food'],\n",
              "  'Pho Tién Phát': ['http://mlg.ucd.ie/modules/yalp/reviews_m6ez2OnTHn2-XF40Ry3IuA.html',\n",
              "   'Restaurants, Vegetarian, Food, Bubble Tea, Vietnamese'],\n",
              "  'Pita House': ['http://mlg.ucd.ie/modules/yalp/reviews_Xgk-d2x59qhPxOsuCKeShw.html',\n",
              "   'Restaurants, Nightlife, Greek, Middle Eastern, Bars, Hookah Bars'],\n",
              "  'Pita Jungle': ['http://mlg.ucd.ie/modules/yalp/reviews_nzV7HlERvD_v1DEfL_oiGQ.html',\n",
              "   'Middle Eastern, American (New), Restaurants, Mediterranean, Vegetarian, Greek'],\n",
              "  'Pizza Picazzo, LLC': ['http://mlg.ucd.ie/modules/yalp/reviews_8vnQAJ3zzI-iX_d0SI7BUA.html',\n",
              "   'Restaurants, Pizza'],\n",
              "  'Piñon Grill': ['http://mlg.ucd.ie/modules/yalp/reviews_8syeNR6GsIBp1r99vUuHhQ.html',\n",
              "   'Hotels & Travel, Event Planning & Services, American (New), Hotels, Restaurants'],\n",
              "  'Resto-Bar La Belle Province': ['http://mlg.ucd.ie/modules/yalp/reviews_rqtruxU_kvgCYNT5rgoB7Q.html',\n",
              "   'Restaurants, French'],\n",
              "  \"Ricky's All Day Grill\": ['http://mlg.ucd.ie/modules/yalp/reviews_GOav54PpK1x1y8NEsUMk0Q.html',\n",
              "   'Breakfast & Brunch, Food, Coffee & Tea, Canadian (New), Desserts, Restaurants'],\n",
              "  'Rocket Burger & Subs': ['http://mlg.ucd.ie/modules/yalp/reviews_-ZBfr1BHvArFp1d6XH8jOQ.html',\n",
              "   'Sandwiches, Salad, Hot Dogs, Burgers, Restaurants'],\n",
              "  'S&D Cafe': ['http://mlg.ucd.ie/modules/yalp/reviews_vn0wYNms_5PseeYZ6pfLmA.html',\n",
              "   'Restaurants, Sandwiches, Coffee & Tea, Cafes, Food'],\n",
              "  'Smokin Thyme Kitchen': ['http://mlg.ucd.ie/modules/yalp/reviews_FXCnmBZvK_7vaXOIv8txmw.html',\n",
              "   'Restaurants, Food Delivery Services, Burgers, Food, Sandwiches, Barbeque'],\n",
              "  'Solasta': ['http://mlg.ucd.ie/modules/yalp/reviews_vsiL3XBeoc4yh1lGWXwNdw.html',\n",
              "   'Vegan, Juice Bars & Smoothies, Restaurants, Gluten-Free, Food'],\n",
              "  'Star Ginger': ['http://mlg.ucd.ie/modules/yalp/reviews_bRs0ejlkGV3K4b-PaBROuQ.html',\n",
              "   'Vietnamese, Restaurants, Salad, Asian Fusion'],\n",
              "  'Sujeo': ['http://mlg.ucd.ie/modules/yalp/reviews_k1mNR7eIi-UWVmj_t23Yog.html',\n",
              "   'Korean, Restaurants, Asian Fusion, Noodles'],\n",
              "  'Thai Home': ['http://mlg.ucd.ie/modules/yalp/reviews_sGlJTru2c707Vevy3ZmNMw.html',\n",
              "   'Thai, Restaurants'],\n",
              "  'The Bier Markt': ['http://mlg.ucd.ie/modules/yalp/reviews_QrTvQw_aZOLk_8FZ8tQ_-w.html',\n",
              "   'Restaurants, Nightlife, Canadian (New), Beer, Wine & Spirits, Food, Belgian, Bars, Gastropubs'],\n",
              "  \"The Captain's Boil\": ['http://mlg.ucd.ie/modules/yalp/reviews_gVILTnDFDsVuVdxFVkRK7A.html',\n",
              "   'Seafood, Asian Fusion, Restaurants, Cajun/Creole'],\n",
              "  \"The Farmer's House\": ['http://mlg.ucd.ie/modules/yalp/reviews_7RUVYMpfc6_WbGYw6a_1Tw.html',\n",
              "   'Beer, Wine & Spirits, Salad, Tapas/Small Plates, Restaurants, Pizza, Food'],\n",
              "  'The Human Bean': ['http://mlg.ucd.ie/modules/yalp/reviews_ZxEvVRbOltIF0fua5SQssg.html',\n",
              "   'Restaurants, Coffee & Tea, Breakfast & Brunch, Food, Juice Bars & Smoothies'],\n",
              "  'The Keg Steakhouse + Bar - Macleod Trail': ['http://mlg.ucd.ie/modules/yalp/reviews_HAMLLfH-2ho37Y4zsa9bDw.html',\n",
              "   'Nightlife, Bars, Restaurants, Seafood, Steakhouses'],\n",
              "  'Tokyo Stop': ['http://mlg.ucd.ie/modules/yalp/reviews_EuPaczO6rMpDMrn-GtE_eA.html',\n",
              "   'Restaurants, Japanese'],\n",
              "  'Ultimate Cafe': ['http://mlg.ucd.ie/modules/yalp/reviews_N8bCOvrGH69jD3-CRc6Fpw.html',\n",
              "   'Restaurants, Italian'],\n",
              "  'Villa Pizza': ['http://mlg.ucd.ie/modules/yalp/reviews_LqnKUCoiQksIPaO0qFkuGg.html',\n",
              "   'Pizza, Restaurants'],\n",
              "  'Villa Risi': ['http://mlg.ucd.ie/modules/yalp/reviews_TZkwffx18AmMh9Yric5LjA.html',\n",
              "   'Restaurants'],\n",
              "  'Vivo Ristorante': ['http://mlg.ucd.ie/modules/yalp/reviews_Ah_W72utgLC8U4rIr6VtsA.html',\n",
              "   'Italian, Restaurants']}}"
            ]
          },
          "metadata": {
            "tags": []
          },
          "execution_count": 670
        }
      ]
    },
    {
      "cell_type": "code",
      "metadata": {
        "colab_type": "code",
        "id": "uxKIq1frZDf-",
        "colab": {}
      },
      "source": [
        "cat_reviews_links = getReviewsLinksForCategory(categories_links)\n"
      ],
      "execution_count": 0,
      "outputs": []
    },
    {
      "cell_type": "code",
      "metadata": {
        "colab_type": "code",
        "id": "GS-9tZsZZDgG",
        "outputId": "33630897-1797-4fe0-a62f-040005dda162",
        "colab": {
          "base_uri": "https://localhost:8080/",
          "height": 36
        }
      },
      "source": [
        "cat_reviews_links.keys()"
      ],
      "execution_count": 0,
      "outputs": [
        {
          "output_type": "execute_result",
          "data": {
            "text/plain": [
              "dict_keys(['Hotels and travel', 'Restaurants'])"
            ]
          },
          "metadata": {
            "tags": []
          },
          "execution_count": 672
        }
      ]
    },
    {
      "cell_type": "markdown",
      "metadata": {
        "colab_type": "text",
        "id": "uAqWvJxrZDfy"
      },
      "source": [
        "### For each review, adding class label "
      ]
    },
    {
      "cell_type": "markdown",
      "metadata": {
        "colab_type": "text",
        "id": "ZfLAu1wmZDf4"
      },
      "source": [
        "* Adding Column Class based on star rating:\n",
        "    * __Positive__ - greater than 3 star - 1\n",
        "    * __Negative__ - less than 4 star - 0"
      ]
    },
    {
      "cell_type": "code",
      "metadata": {
        "colab_type": "code",
        "id": "WTUY8b4IZDf6",
        "scrolled": true,
        "colab": {}
      },
      "source": [
        "\n",
        "def getReviewsDataForCategory(category_links):\n",
        "    \n",
        "    # list of values for each review of each category\n",
        "    data_list = []\n",
        "    \n",
        "    for business, link_tags in category_links.items():\n",
        "        \n",
        "        review_page_link, biz_tags = link_tags\n",
        "        \n",
        "        # to get all reviews published on category page\n",
        "        all_reviews = getHTMLSoup(review_page_link).findAll(\"div\", {\"class\": \"review\"})\n",
        "        \n",
        "        # for each review, storing various attributes\n",
        "        for review in all_reviews:\n",
        "            \n",
        "            # to get the revew text\n",
        "            review_text = review.find('p',{'class':'text'}).getText()\n",
        "            \n",
        "            # to get the number of stars \n",
        "            rating = int(review.find('img').get('alt').split('-')[0])\n",
        "            \n",
        "            # adding class label if stars are less than 4 then negative else positive\n",
        "            if rating > 3: \n",
        "                data_list.append([business, biz_tags, review_text,rating, 1])\n",
        "            else: \n",
        "                data_list.append([business, biz_tags, review_text,rating, 0])\n",
        "                \n",
        "    return data_list"
      ],
      "execution_count": 0,
      "outputs": []
    },
    {
      "cell_type": "markdown",
      "metadata": {
        "colab_type": "text",
        "id": "yzkaNxV4ZDgG"
      },
      "source": [
        "\n",
        "### Store them as two separate datasets. \n",
        "\n"
      ]
    },
    {
      "cell_type": "markdown",
      "metadata": {
        "colab_type": "text",
        "id": "BS_p_aPdBWl9"
      },
      "source": [
        "__For Hotels & Travel__"
      ]
    },
    {
      "cell_type": "code",
      "metadata": {
        "colab_type": "code",
        "id": "Gxcsd8bRZDgP",
        "colab": {}
      },
      "source": [
        "hotels_travels_dat = getReviewsDataForCategory(cat_reviews_links['Hotels and travel'])"
      ],
      "execution_count": 0,
      "outputs": []
    },
    {
      "cell_type": "code",
      "metadata": {
        "colab_type": "code",
        "id": "kNsvy6ATZDgX",
        "colab": {}
      },
      "source": [
        "hotels_travels_sentiment_df = pd.DataFrame(hotels_travels_dat,\n",
        "                                    columns=['business_name','tags','review_text','rating', 'class'])"
      ],
      "execution_count": 0,
      "outputs": []
    },
    {
      "cell_type": "code",
      "metadata": {
        "colab_type": "code",
        "id": "Zf6y78PyZDgg",
        "outputId": "1b228c14-7d51-44f8-e02c-a8e0ab0f193b",
        "colab": {
          "base_uri": "https://localhost:8080/",
          "height": 36
        }
      },
      "source": [
        "hotels_travels_sentiment_df.shape"
      ],
      "execution_count": 0,
      "outputs": [
        {
          "output_type": "execute_result",
          "data": {
            "text/plain": [
              "(1410, 5)"
            ]
          },
          "metadata": {
            "tags": []
          },
          "execution_count": 676
        }
      ]
    },
    {
      "cell_type": "code",
      "metadata": {
        "colab_type": "code",
        "id": "B3m7PebKZDgn",
        "outputId": "dadffe64-3c4b-4a04-e83f-dfddf9cac510",
        "colab": {
          "base_uri": "https://localhost:8080/",
          "height": 206
        }
      },
      "source": [
        "hotels_travels_sentiment_df.head()"
      ],
      "execution_count": 0,
      "outputs": [
        {
          "output_type": "execute_result",
          "data": {
            "text/html": [
              "<div>\n",
              "<style scoped>\n",
              "    .dataframe tbody tr th:only-of-type {\n",
              "        vertical-align: middle;\n",
              "    }\n",
              "\n",
              "    .dataframe tbody tr th {\n",
              "        vertical-align: top;\n",
              "    }\n",
              "\n",
              "    .dataframe thead th {\n",
              "        text-align: right;\n",
              "    }\n",
              "</style>\n",
              "<table border=\"1\" class=\"dataframe\">\n",
              "  <thead>\n",
              "    <tr style=\"text-align: right;\">\n",
              "      <th></th>\n",
              "      <th>business_name</th>\n",
              "      <th>tags</th>\n",
              "      <th>review_text</th>\n",
              "      <th>rating</th>\n",
              "      <th>class</th>\n",
              "    </tr>\n",
              "  </thead>\n",
              "  <tbody>\n",
              "    <tr>\n",
              "      <th>0</th>\n",
              "      <td>Aeroport Taxi &amp; Limousine Service</td>\n",
              "      <td>Hotels &amp; Travel, Airport Shuttles, Transportat...</td>\n",
              "      <td>I have used this service before and was satisf...</td>\n",
              "      <td>1</td>\n",
              "      <td>0</td>\n",
              "    </tr>\n",
              "    <tr>\n",
              "      <th>1</th>\n",
              "      <td>Aeroport Taxi &amp; Limousine Service</td>\n",
              "      <td>Hotels &amp; Travel, Airport Shuttles, Transportat...</td>\n",
              "      <td>First time I tried using them the driver was n...</td>\n",
              "      <td>1</td>\n",
              "      <td>0</td>\n",
              "    </tr>\n",
              "    <tr>\n",
              "      <th>2</th>\n",
              "      <td>Aeroport Taxi &amp; Limousine Service</td>\n",
              "      <td>Hotels &amp; Travel, Airport Shuttles, Transportat...</td>\n",
              "      <td>Driver picked me up on time at 6AM and even kn...</td>\n",
              "      <td>5</td>\n",
              "      <td>1</td>\n",
              "    </tr>\n",
              "    <tr>\n",
              "      <th>3</th>\n",
              "      <td>Aeroport Taxi &amp; Limousine Service</td>\n",
              "      <td>Hotels &amp; Travel, Airport Shuttles, Transportat...</td>\n",
              "      <td>First time using this taxi and limo company as...</td>\n",
              "      <td>5</td>\n",
              "      <td>1</td>\n",
              "    </tr>\n",
              "    <tr>\n",
              "      <th>4</th>\n",
              "      <td>Aeroport Taxi &amp; Limousine Service</td>\n",
              "      <td>Hotels &amp; Travel, Airport Shuttles, Transportat...</td>\n",
              "      <td>Great experience. Driver was early and was ver...</td>\n",
              "      <td>5</td>\n",
              "      <td>1</td>\n",
              "    </tr>\n",
              "  </tbody>\n",
              "</table>\n",
              "</div>"
            ],
            "text/plain": [
              "                       business_name  \\\n",
              "0  Aeroport Taxi & Limousine Service   \n",
              "1  Aeroport Taxi & Limousine Service   \n",
              "2  Aeroport Taxi & Limousine Service   \n",
              "3  Aeroport Taxi & Limousine Service   \n",
              "4  Aeroport Taxi & Limousine Service   \n",
              "\n",
              "                                                tags  \\\n",
              "0  Hotels & Travel, Airport Shuttles, Transportat...   \n",
              "1  Hotels & Travel, Airport Shuttles, Transportat...   \n",
              "2  Hotels & Travel, Airport Shuttles, Transportat...   \n",
              "3  Hotels & Travel, Airport Shuttles, Transportat...   \n",
              "4  Hotels & Travel, Airport Shuttles, Transportat...   \n",
              "\n",
              "                                         review_text  rating  class  \n",
              "0  I have used this service before and was satisf...       1      0  \n",
              "1  First time I tried using them the driver was n...       1      0  \n",
              "2  Driver picked me up on time at 6AM and even kn...       5      1  \n",
              "3  First time using this taxi and limo company as...       5      1  \n",
              "4  Great experience. Driver was early and was ver...       5      1  "
            ]
          },
          "metadata": {
            "tags": []
          },
          "execution_count": 677
        }
      ]
    },
    {
      "cell_type": "code",
      "metadata": {
        "colab_type": "code",
        "id": "9ehJ2IZyZDgw",
        "colab": {}
      },
      "source": [
        "hotels_travels_sentiment_df.to_csv('hotels_and_travel_yelp_data.csv', encoding='utf-8', index=False)"
      ],
      "execution_count": 0,
      "outputs": []
    },
    {
      "cell_type": "markdown",
      "metadata": {
        "colab_type": "text",
        "id": "876OqmOaBcvo"
      },
      "source": [
        "__For Restaurants__"
      ]
    },
    {
      "cell_type": "code",
      "metadata": {
        "colab_type": "code",
        "id": "boj7H5ddZDg4",
        "colab": {}
      },
      "source": [
        "restaurants_dat = getReviewsDataForCategory(cat_reviews_links['Restaurants'])"
      ],
      "execution_count": 0,
      "outputs": []
    },
    {
      "cell_type": "code",
      "metadata": {
        "colab_type": "code",
        "id": "PghFH70AZDg9",
        "colab": {}
      },
      "source": [
        "restaurants_sentiment_df = pd.DataFrame(restaurants_dat,\n",
        "                                    columns=['business_name','tags','review_text','rating', 'class'])"
      ],
      "execution_count": 0,
      "outputs": []
    },
    {
      "cell_type": "code",
      "metadata": {
        "colab_type": "code",
        "id": "zm4rfhm9ZDg_",
        "outputId": "10b9baec-ea29-4911-c178-e8dffe9c3c81",
        "colab": {
          "base_uri": "https://localhost:8080/",
          "height": 36
        }
      },
      "source": [
        "restaurants_sentiment_df.shape"
      ],
      "execution_count": 0,
      "outputs": [
        {
          "output_type": "execute_result",
          "data": {
            "text/plain": [
              "(1440, 5)"
            ]
          },
          "metadata": {
            "tags": []
          },
          "execution_count": 681
        }
      ]
    },
    {
      "cell_type": "code",
      "metadata": {
        "colab_type": "code",
        "id": "Tl5IWx_0ZDhF",
        "outputId": "bbc114e9-c53d-4dd6-d20d-6cb96c1a5e38",
        "colab": {
          "base_uri": "https://localhost:8080/",
          "height": 206
        }
      },
      "source": [
        "restaurants_sentiment_df.head()"
      ],
      "execution_count": 0,
      "outputs": [
        {
          "output_type": "execute_result",
          "data": {
            "text/html": [
              "<div>\n",
              "<style scoped>\n",
              "    .dataframe tbody tr th:only-of-type {\n",
              "        vertical-align: middle;\n",
              "    }\n",
              "\n",
              "    .dataframe tbody tr th {\n",
              "        vertical-align: top;\n",
              "    }\n",
              "\n",
              "    .dataframe thead th {\n",
              "        text-align: right;\n",
              "    }\n",
              "</style>\n",
              "<table border=\"1\" class=\"dataframe\">\n",
              "  <thead>\n",
              "    <tr style=\"text-align: right;\">\n",
              "      <th></th>\n",
              "      <th>business_name</th>\n",
              "      <th>tags</th>\n",
              "      <th>review_text</th>\n",
              "      <th>rating</th>\n",
              "      <th>class</th>\n",
              "    </tr>\n",
              "  </thead>\n",
              "  <tbody>\n",
              "    <tr>\n",
              "      <th>0</th>\n",
              "      <td>Au Festin de Babette</td>\n",
              "      <td>Ice Cream &amp; Frozen Yogurt, Breakfast &amp; Brunch,...</td>\n",
              "      <td>Too expensive for what they had... i had an eg...</td>\n",
              "      <td>2</td>\n",
              "      <td>0</td>\n",
              "    </tr>\n",
              "    <tr>\n",
              "      <th>1</th>\n",
              "      <td>Au Festin de Babette</td>\n",
              "      <td>Ice Cream &amp; Frozen Yogurt, Breakfast &amp; Brunch,...</td>\n",
              "      <td>Very rustic place. Mismatched furniture, off K...</td>\n",
              "      <td>4</td>\n",
              "      <td>1</td>\n",
              "    </tr>\n",
              "    <tr>\n",
              "      <th>2</th>\n",
              "      <td>Au Festin de Babette</td>\n",
              "      <td>Ice Cream &amp; Frozen Yogurt, Breakfast &amp; Brunch,...</td>\n",
              "      <td>I highly recommend Au Festin de Babette for th...</td>\n",
              "      <td>5</td>\n",
              "      <td>1</td>\n",
              "    </tr>\n",
              "    <tr>\n",
              "      <th>3</th>\n",
              "      <td>Au Festin de Babette</td>\n",
              "      <td>Ice Cream &amp; Frozen Yogurt, Breakfast &amp; Brunch,...</td>\n",
              "      <td>Amazing soup and dauphinoise. BUT the wait for...</td>\n",
              "      <td>3</td>\n",
              "      <td>0</td>\n",
              "    </tr>\n",
              "    <tr>\n",
              "      <th>4</th>\n",
              "      <td>Au Festin de Babette</td>\n",
              "      <td>Ice Cream &amp; Frozen Yogurt, Breakfast &amp; Brunch,...</td>\n",
              "      <td>I went here by recommendation of a friend. Tho...</td>\n",
              "      <td>2</td>\n",
              "      <td>0</td>\n",
              "    </tr>\n",
              "  </tbody>\n",
              "</table>\n",
              "</div>"
            ],
            "text/plain": [
              "          business_name                                               tags  \\\n",
              "0  Au Festin de Babette  Ice Cream & Frozen Yogurt, Breakfast & Brunch,...   \n",
              "1  Au Festin de Babette  Ice Cream & Frozen Yogurt, Breakfast & Brunch,...   \n",
              "2  Au Festin de Babette  Ice Cream & Frozen Yogurt, Breakfast & Brunch,...   \n",
              "3  Au Festin de Babette  Ice Cream & Frozen Yogurt, Breakfast & Brunch,...   \n",
              "4  Au Festin de Babette  Ice Cream & Frozen Yogurt, Breakfast & Brunch,...   \n",
              "\n",
              "                                         review_text  rating  class  \n",
              "0  Too expensive for what they had... i had an eg...       2      0  \n",
              "1  Very rustic place. Mismatched furniture, off K...       4      1  \n",
              "2  I highly recommend Au Festin de Babette for th...       5      1  \n",
              "3  Amazing soup and dauphinoise. BUT the wait for...       3      0  \n",
              "4  I went here by recommendation of a friend. Tho...       2      0  "
            ]
          },
          "metadata": {
            "tags": []
          },
          "execution_count": 682
        }
      ]
    },
    {
      "cell_type": "code",
      "metadata": {
        "colab_type": "code",
        "id": "DjIg4pBuZDhI",
        "colab": {}
      },
      "source": [
        "restaurants_sentiment_df.to_csv('restaurants_yelp_data.csv', encoding='utf-8', index=False)"
      ],
      "execution_count": 0,
      "outputs": []
    },
    {
      "cell_type": "code",
      "metadata": {
        "colab_type": "code",
        "id": "XFyIXjiPZDhb",
        "colab": {}
      },
      "source": [
        "def plotStarsDistribution(df,col_name,category):\n",
        "    x=df[col_name].value_counts()\n",
        "    x=x.sort_index()\n",
        "    plt.figure(figsize=(8,8))\n",
        "    ax= sns.barplot(x.index, x.values, alpha=0.8)\n",
        "    plt.title(\"Reviews Star Rating Distribution for {}\".format(category))\n",
        "    plt.ylabel('No. of Reviews', fontsize=15)\n",
        "    plt.xlabel('Star Ratings ', fontsize=15)\n",
        "\n",
        "    #adding the text labels\n",
        "    rects = ax.patches\n",
        "    labels = x.values\n",
        "    for rect, label in zip(rects, labels):\n",
        "        height = rect.get_height()\n",
        "        ax.text(rect.get_x() + rect.get_width()/2, height + 5, label, ha='center', va='bottom')\n",
        "\n",
        "    plt.show()\n",
        "\n"
      ],
      "execution_count": 0,
      "outputs": []
    },
    {
      "cell_type": "markdown",
      "metadata": {
        "colab_type": "text",
        "id": "J86gxy1RZDhf"
      },
      "source": [
        "\n",
        "# Data Analysis\n",
        "\n",
        "For both category datasets:\n",
        "    \n",
        "    \n",
        "__From the reviews in this category, apply appropriate preprocessing steps\n",
        "to create a numeric representation of the data, suitable for classification.__\n",
        "\n"
      ]
    },
    {
      "cell_type": "code",
      "metadata": {
        "id": "vcvSNC9tuQiS",
        "colab_type": "code",
        "outputId": "450cdba7-22ef-4c78-ba51-bd596329eb61",
        "colab": {}
      },
      "source": [
        "hotels_travels_sentiment_df.shape"
      ],
      "execution_count": 0,
      "outputs": [
        {
          "output_type": "execute_result",
          "data": {
            "text/plain": [
              "(1410, 5)"
            ]
          },
          "metadata": {
            "tags": []
          },
          "execution_count": 685
        }
      ]
    },
    {
      "cell_type": "code",
      "metadata": {
        "id": "lSl8C-wbuQie",
        "colab_type": "code",
        "outputId": "0c78107c-7ec4-4955-bff4-c4bb70c9a59f",
        "colab": {}
      },
      "source": [
        "hotels_travels_sentiment_df['rating'].value_counts()"
      ],
      "execution_count": 0,
      "outputs": [
        {
          "output_type": "execute_result",
          "data": {
            "text/plain": [
              "5    534\n",
              "1    440\n",
              "4    248\n",
              "2    121\n",
              "3     67\n",
              "Name: rating, dtype: int64"
            ]
          },
          "metadata": {
            "tags": []
          },
          "execution_count": 686
        }
      ]
    },
    {
      "cell_type": "markdown",
      "metadata": {
        "id": "xBUXI_AMuQil",
        "colab_type": "text"
      },
      "source": [
        "## Hotels and Travels dataset  analysis\n",
        "\n",
        "* Positive = 782 or 55.4%\n",
        "* Negative = 628 or 44.6%\n",
        "\n",
        "__Positive class tuples are 10% more than negative which would impact the model training but by much.__"
      ]
    },
    {
      "cell_type": "code",
      "metadata": {
        "colab_type": "code",
        "id": "yrrKscYHZDhg",
        "outputId": "f22a8a3d-19c2-45d3-b6db-1832be844610",
        "colab": {
          "base_uri": "https://localhost:8080/",
          "height": 518
        }
      },
      "source": [
        "plotStarsDistribution(hotels_travels_sentiment_df,'rating','Hotels & Travels')"
      ],
      "execution_count": 0,
      "outputs": [
        {
          "output_type": "stream",
          "text": [
            "C:\\ProgramData\\Anaconda3\\lib\\site-packages\\seaborn\\categorical.py:1460: FutureWarning: remove_na is deprecated and is a private function. Do not use.\n",
            "  stat_data = remove_na(group_data)\n"
          ],
          "name": "stderr"
        },
        {
          "output_type": "display_data",
          "data": {
            "image/png": "[encoded data removed]",
            "text/plain": [
              "<matplotlib.figure.Figure at 0x1f211824c50>"
            ]
          },
          "metadata": {
            "tags": []
          }
        }
      ]
    },
    {
      "cell_type": "code",
      "metadata": {
        "id": "9Mmgs5tYuQiw",
        "colab_type": "code",
        "outputId": "cace8abd-da9b-4a19-d101-58cd03277c9f",
        "colab": {}
      },
      "source": [
        "restaurants_sentiment_df['rating'].value_counts()"
      ],
      "execution_count": 0,
      "outputs": [
        {
          "output_type": "execute_result",
          "data": {
            "text/plain": [
              "5    598\n",
              "4    335\n",
              "1    235\n",
              "2    176\n",
              "3     96\n",
              "Name: rating, dtype: int64"
            ]
          },
          "metadata": {
            "tags": []
          },
          "execution_count": 688
        }
      ]
    },
    {
      "cell_type": "code",
      "metadata": {
        "id": "SnhhSpNfuQi5",
        "colab_type": "code",
        "outputId": "7b91f6ab-6f39-4409-ea19-26a4296bf95b",
        "colab": {}
      },
      "source": [
        "restaurants_sentiment_df.shape"
      ],
      "execution_count": 0,
      "outputs": [
        {
          "output_type": "execute_result",
          "data": {
            "text/plain": [
              "(1440, 5)"
            ]
          },
          "metadata": {
            "tags": []
          },
          "execution_count": 689
        }
      ]
    },
    {
      "cell_type": "markdown",
      "metadata": {
        "id": "eEozTDhruQjR",
        "colab_type": "text"
      },
      "source": [
        "## Restaurant Dataset class data analysis\n",
        "* Positive = 933 or 64.7%\n",
        "* Negative = 507 or 35.3% \n",
        "\n",
        "\n",
        "* __Positive class tuples are 30% more than Negative class tuples__\n",
        "* __There is class imbalance in restaurant positive and negative data which will impact the model training. Also will increase bias towards positive class in predictions__\n",
        "* __Have to resample the dataset__\n"
      ]
    },
    {
      "cell_type": "code",
      "metadata": {
        "colab_type": "code",
        "id": "FW1GfjMiZDhm",
        "outputId": "63465210-319c-4684-9ffd-d7bf612a4906",
        "colab": {
          "base_uri": "https://localhost:8080/",
          "height": 518
        }
      },
      "source": [
        "plotStarsDistribution(restaurants_sentiment_df,'rating','Restaurants')"
      ],
      "execution_count": 0,
      "outputs": [
        {
          "output_type": "stream",
          "text": [
            "C:\\ProgramData\\Anaconda3\\lib\\site-packages\\seaborn\\categorical.py:1460: FutureWarning: remove_na is deprecated and is a private function. Do not use.\n",
            "  stat_data = remove_na(group_data)\n"
          ],
          "name": "stderr"
        },
        {
          "output_type": "display_data",
          "data": {
            "image/png": "[encoded data removed]",
            "text/plain": [
              "<matplotlib.figure.Figure at 0x1f210997cc0>"
            ]
          },
          "metadata": {
            "tags": []
          }
        }
      ]
    },
    {
      "cell_type": "code",
      "metadata": {
        "colab_type": "code",
        "id": "tGwmHY0PZDht",
        "outputId": "06b49ca8-50c1-4ca0-83dd-352bcc5e5b43",
        "colab": {
          "base_uri": "https://localhost:8080/",
          "height": 204
        }
      },
      "source": [
        "hotels_travels_sentiment_df.info()"
      ],
      "execution_count": 0,
      "outputs": [
        {
          "output_type": "stream",
          "text": [
            "<class 'pandas.core.frame.DataFrame'>\n",
            "RangeIndex: 1410 entries, 0 to 1409\n",
            "Data columns (total 5 columns):\n",
            "business_name    1410 non-null object\n",
            "tags             1410 non-null object\n",
            "review_text      1410 non-null object\n",
            "rating           1410 non-null int64\n",
            "class            1410 non-null int64\n",
            "dtypes: int64(2), object(3)\n",
            "memory usage: 55.2+ KB\n"
          ],
          "name": "stdout"
        }
      ]
    },
    {
      "cell_type": "markdown",
      "metadata": {
        "colab_type": "text",
        "id": "8bqjhwGYBnvE"
      },
      "source": [
        "### Adding new feature text length"
      ]
    },
    {
      "cell_type": "code",
      "metadata": {
        "colab_type": "code",
        "id": "t6IPlJS1ZDhz",
        "colab": {}
      },
      "source": [
        "hotels_travels_sentiment_df['text length'] = hotels_travels_sentiment_df['review_text'].apply(len)"
      ],
      "execution_count": 0,
      "outputs": []
    },
    {
      "cell_type": "code",
      "metadata": {
        "colab_type": "code",
        "id": "DySOPsBdB0z1",
        "colab": {}
      },
      "source": [
        "restaurants_sentiment_df['text length'] = restaurants_sentiment_df['review_text'].apply(len)"
      ],
      "execution_count": 0,
      "outputs": []
    },
    {
      "cell_type": "code",
      "metadata": {
        "colab_type": "code",
        "id": "oCby189QZDh2",
        "outputId": "0bed915f-22c6-4953-d8dc-fa203585ab71",
        "colab": {
          "base_uri": "https://localhost:8080/",
          "height": 310
        }
      },
      "source": [
        "hotels_travels_sentiment_df.head()"
      ],
      "execution_count": 0,
      "outputs": [
        {
          "output_type": "execute_result",
          "data": {
            "text/html": [
              "<div>\n",
              "<style scoped>\n",
              "    .dataframe tbody tr th:only-of-type {\n",
              "        vertical-align: middle;\n",
              "    }\n",
              "\n",
              "    .dataframe tbody tr th {\n",
              "        vertical-align: top;\n",
              "    }\n",
              "\n",
              "    .dataframe thead th {\n",
              "        text-align: right;\n",
              "    }\n",
              "</style>\n",
              "<table border=\"1\" class=\"dataframe\">\n",
              "  <thead>\n",
              "    <tr style=\"text-align: right;\">\n",
              "      <th></th>\n",
              "      <th>business_name</th>\n",
              "      <th>tags</th>\n",
              "      <th>review_text</th>\n",
              "      <th>rating</th>\n",
              "      <th>class</th>\n",
              "      <th>text length</th>\n",
              "    </tr>\n",
              "  </thead>\n",
              "  <tbody>\n",
              "    <tr>\n",
              "      <th>0</th>\n",
              "      <td>Aeroport Taxi &amp; Limousine Service</td>\n",
              "      <td>Hotels &amp; Travel, Airport Shuttles, Transportat...</td>\n",
              "      <td>I have used this service before and was satisf...</td>\n",
              "      <td>1</td>\n",
              "      <td>0</td>\n",
              "      <td>3250</td>\n",
              "    </tr>\n",
              "    <tr>\n",
              "      <th>1</th>\n",
              "      <td>Aeroport Taxi &amp; Limousine Service</td>\n",
              "      <td>Hotels &amp; Travel, Airport Shuttles, Transportat...</td>\n",
              "      <td>First time I tried using them the driver was n...</td>\n",
              "      <td>1</td>\n",
              "      <td>0</td>\n",
              "      <td>1112</td>\n",
              "    </tr>\n",
              "    <tr>\n",
              "      <th>2</th>\n",
              "      <td>Aeroport Taxi &amp; Limousine Service</td>\n",
              "      <td>Hotels &amp; Travel, Airport Shuttles, Transportat...</td>\n",
              "      <td>Driver picked me up on time at 6AM and even kn...</td>\n",
              "      <td>5</td>\n",
              "      <td>1</td>\n",
              "      <td>253</td>\n",
              "    </tr>\n",
              "    <tr>\n",
              "      <th>3</th>\n",
              "      <td>Aeroport Taxi &amp; Limousine Service</td>\n",
              "      <td>Hotels &amp; Travel, Airport Shuttles, Transportat...</td>\n",
              "      <td>First time using this taxi and limo company as...</td>\n",
              "      <td>5</td>\n",
              "      <td>1</td>\n",
              "      <td>281</td>\n",
              "    </tr>\n",
              "    <tr>\n",
              "      <th>4</th>\n",
              "      <td>Aeroport Taxi &amp; Limousine Service</td>\n",
              "      <td>Hotels &amp; Travel, Airport Shuttles, Transportat...</td>\n",
              "      <td>Great experience. Driver was early and was ver...</td>\n",
              "      <td>5</td>\n",
              "      <td>1</td>\n",
              "      <td>136</td>\n",
              "    </tr>\n",
              "  </tbody>\n",
              "</table>\n",
              "</div>"
            ],
            "text/plain": [
              "                       business_name  \\\n",
              "0  Aeroport Taxi & Limousine Service   \n",
              "1  Aeroport Taxi & Limousine Service   \n",
              "2  Aeroport Taxi & Limousine Service   \n",
              "3  Aeroport Taxi & Limousine Service   \n",
              "4  Aeroport Taxi & Limousine Service   \n",
              "\n",
              "                                                tags  \\\n",
              "0  Hotels & Travel, Airport Shuttles, Transportat...   \n",
              "1  Hotels & Travel, Airport Shuttles, Transportat...   \n",
              "2  Hotels & Travel, Airport Shuttles, Transportat...   \n",
              "3  Hotels & Travel, Airport Shuttles, Transportat...   \n",
              "4  Hotels & Travel, Airport Shuttles, Transportat...   \n",
              "\n",
              "                                         review_text  rating  class  \\\n",
              "0  I have used this service before and was satisf...       1      0   \n",
              "1  First time I tried using them the driver was n...       1      0   \n",
              "2  Driver picked me up on time at 6AM and even kn...       5      1   \n",
              "3  First time using this taxi and limo company as...       5      1   \n",
              "4  Great experience. Driver was early and was ver...       5      1   \n",
              "\n",
              "   text length  \n",
              "0         3250  \n",
              "1         1112  \n",
              "2          253  \n",
              "3          281  \n",
              "4          136  "
            ]
          },
          "metadata": {
            "tags": []
          },
          "execution_count": 694
        }
      ]
    },
    {
      "cell_type": "code",
      "metadata": {
        "colab_type": "code",
        "id": "-yPE7ZN1ZDh5",
        "outputId": "7369dc3b-2a54-4b5b-a8ad-ed9bed218afd",
        "colab": {
          "base_uri": "https://localhost:8080/",
          "height": 264
        }
      },
      "source": [
        "g = sns.FacetGrid(data=hotels_travels_sentiment_df, col='rating')\n",
        "g.map(plt.hist, 'text length', bins=50)"
      ],
      "execution_count": 0,
      "outputs": [
        {
          "output_type": "execute_result",
          "data": {
            "text/plain": [
              "<seaborn.axisgrid.FacetGrid at 0x1f21186e3c8>"
            ]
          },
          "metadata": {
            "tags": []
          },
          "execution_count": 695
        },
        {
          "output_type": "display_data",
          "data": {
            "image/png": "[encoded data removed]",
            "text/plain": [
              "<matplotlib.figure.Figure at 0x1f21184d278>"
            ]
          },
          "metadata": {
            "tags": []
          }
        }
      ]
    },
    {
      "cell_type": "code",
      "metadata": {
        "colab_type": "code",
        "id": "vxxbb7vsZDiB",
        "outputId": "408d61d1-aebd-4142-c7df-82629477e454",
        "colab": {
          "base_uri": "https://localhost:8080/",
          "height": 302
        }
      },
      "source": [
        "sns.boxplot(x='rating', y='text length', data=hotels_travels_sentiment_df)"
      ],
      "execution_count": 0,
      "outputs": [
        {
          "output_type": "stream",
          "text": [
            "C:\\ProgramData\\Anaconda3\\lib\\site-packages\\seaborn\\categorical.py:462: FutureWarning: remove_na is deprecated and is a private function. Do not use.\n",
            "  box_data = remove_na(group_data)\n"
          ],
          "name": "stderr"
        },
        {
          "output_type": "execute_result",
          "data": {
            "text/plain": [
              "<matplotlib.axes._subplots.AxesSubplot at 0x1f211b53dd8>"
            ]
          },
          "metadata": {
            "tags": []
          },
          "execution_count": 696
        },
        {
          "output_type": "display_data",
          "data": {
            "image/png": "[encoded data removed]",
            "text/plain": [
              "<matplotlib.figure.Figure at 0x1f2107ecc18>"
            ]
          },
          "metadata": {
            "tags": []
          }
        }
      ]
    },
    {
      "cell_type": "markdown",
      "metadata": {
        "colab_type": "text",
        "id": "31M3RKGjZDiK"
      },
      "source": [
        "### DataSet Separation X and y for both Categories"
      ]
    },
    {
      "cell_type": "markdown",
      "metadata": {
        "colab_type": "text",
        "id": "qVTD07pEZDiL"
      },
      "source": [
        "__For Hotels and Travels Category__"
      ]
    },
    {
      "cell_type": "code",
      "metadata": {
        "colab_type": "code",
        "id": "9ew52djvZDiM",
        "colab": {}
      },
      "source": [
        "X_hotels_travels = hotels_travels_sentiment_df['review_text']\n",
        "y_hotels_travels = hotels_travels_sentiment_df['class']"
      ],
      "execution_count": 0,
      "outputs": []
    },
    {
      "cell_type": "markdown",
      "metadata": {
        "colab_type": "text",
        "id": "wv5ch7EMZDiO"
      },
      "source": [
        "__For Restaurant Category__"
      ]
    },
    {
      "cell_type": "code",
      "metadata": {
        "colab_type": "code",
        "id": "2eF65ndYZDiO",
        "colab": {}
      },
      "source": [
        "X_restaurants = restaurants_sentiment_df['review_text']\n",
        "y_restaurants = restaurants_sentiment_df['class']"
      ],
      "execution_count": 0,
      "outputs": []
    },
    {
      "cell_type": "code",
      "metadata": {
        "colab_type": "code",
        "id": "AQNsK01gZDic",
        "outputId": "c93f9faa-6d3a-4a74-b5b1-9ec050f1da3a",
        "scrolled": true,
        "colab": {
          "base_uri": "https://localhost:8080/",
          "height": 174
        }
      },
      "source": [
        "X_hotels_travels.head()"
      ],
      "execution_count": 0,
      "outputs": [
        {
          "output_type": "execute_result",
          "data": {
            "text/plain": [
              "0    I have used this service before and was satisf...\n",
              "1    First time I tried using them the driver was n...\n",
              "2    Driver picked me up on time at 6AM and even kn...\n",
              "3    First time using this taxi and limo company as...\n",
              "4    Great experience. Driver was early and was ver...\n",
              "Name: review_text, dtype: object"
            ]
          },
          "metadata": {
            "tags": []
          },
          "execution_count": 699
        }
      ]
    },
    {
      "cell_type": "code",
      "metadata": {
        "colab_type": "code",
        "id": "8RVYGcJSZDie",
        "outputId": "733a46dd-a2a8-4d1d-c18e-a82a47d70520",
        "scrolled": true,
        "colab": {
          "base_uri": "https://localhost:8080/",
          "height": 174
        }
      },
      "source": [
        "y_hotels_travels.head()"
      ],
      "execution_count": 0,
      "outputs": [
        {
          "output_type": "execute_result",
          "data": {
            "text/plain": [
              "0    0\n",
              "1    0\n",
              "2    1\n",
              "3    1\n",
              "4    1\n",
              "Name: class, dtype: int64"
            ]
          },
          "metadata": {
            "tags": []
          },
          "execution_count": 700
        }
      ]
    },
    {
      "cell_type": "markdown",
      "metadata": {
        "colab_type": "text",
        "id": "LWAKSIn7ZDih"
      },
      "source": [
        "### Preprocessing Steps\n",
        "\n",
        "* __Tokenization using RegexTokenizer of nltk__\n",
        "* __Punctuation removal to get only words__\n",
        "* __Stop words are meaningless words which are only used to carry out sentence formation. Removing them will help get meaningful corpus of words__\n",
        "* __Normalization of words to lowercase it will help make the count matrix more dense__"
      ]
    },
    {
      "cell_type": "code",
      "metadata": {
        "colab_type": "code",
        "id": "596GYmSXZDii",
        "colab": {}
      },
      "source": [
        "def preprocessReviewText(review_text):\n",
        "    # tokenizing text into tokens using nltk lib function word_tokenize\n",
        "    tokenizer = RegexpTokenizer(r'\\w+')\n",
        "    \n",
        "    # punctuations filtering from the text tokens \n",
        "    token_punc_removed = tokenizer.tokenize(review_text)\n",
        "    \n",
        "    # using stop word list published by SMART by Cornell University, \n",
        "    # SMART (System for the Mechanical Analysis and Retrieval of Text) \n",
        "    # containing 571 stop words.\n",
        "    smart_stop_words = open('smart_stop_words.txt').read().split('\\n')\n",
        "    token_stopwords_removed = list(filter(lambda word: word.lower() not in set(smart_stop_words), token_punc_removed))\n",
        "    \n",
        "    # normalising all words to lowercase\n",
        "    norm_tokens = [word.lower() for word in token_stopwords_removed if not word.isdigit()]\n",
        "    return norm_tokens"
      ],
      "execution_count": 0,
      "outputs": []
    },
    {
      "cell_type": "markdown",
      "metadata": {
        "colab_type": "text",
        "id": "laTHOpFZZDik"
      },
      "source": [
        "### Creating feature vector for classification using Bag of words\n",
        "\n",
        "* unique words will be represented by numeric value"
      ]
    },
    {
      "cell_type": "code",
      "metadata": {
        "colab_type": "code",
        "id": "juqMPPAJD55d",
        "colab": {}
      },
      "source": [
        "def generateBOWforCategory(cat, X_cat ):\n",
        "    # tokens with their frequencies\n",
        "    # adding min_df = 3 , It will ignore all the tokens with frequency count less than 3.\n",
        "    bow_transformer = CountVectorizer(analyzer=preprocessReviewText,min_df = 3).fit(X_cat)\n",
        "    print(\"Vocabulary Length for Category {} is {}\".format(cat, len(bow_transformer.vocabulary_)))\n",
        "    # print(bow_transformer.get_feature_names())\n",
        "    # for vectorisation process, \n",
        "    # To transform  X_cat dataframe into a sparse matrix using .transform() method \n",
        "    # on our bag-of-words transformed object\n",
        "    bow_transformed = bow_transformer.transform(X_cat)\n",
        "    print(\"Sparse Matrix of Bag of Words for Category {} \\n\".format(cat))\n",
        "\n",
        "    print(\"Sparse Matrix Attributes: \\n\")\n",
        "    print('Shape of Sparse Matrix for {}: {}'.format(cat, bow_transformed.shape))\n",
        "    print('Amount of Non-Zero occurrences: ', bow_transformed.nnz)\n",
        "\n",
        "    # Percentage of non-zero values\n",
        "    density = (100.0 * bow_transformed.nnz / (bow_transformed.shape[0] * bow_transformed.shape[1]))\n",
        "    print('Density: {}'.format((density)))\n",
        "    return bow_transformed\n",
        "  \n",
        "  "
      ],
      "execution_count": 0,
      "outputs": []
    },
    {
      "cell_type": "markdown",
      "metadata": {
        "colab_type": "text",
        "id": "KDuEv3ecZDil"
      },
      "source": [
        "### Reviews text to Vector Conversion using CountVecorizer() from scikit_learn\n",
        "\n",
        "\n",
        "__A matrix of token counts, indicating how many instances of a particular word appear in a review.__\n",
        "\n",
        "__it will end up as sparse matrix__"
      ]
    },
    {
      "cell_type": "markdown",
      "metadata": {
        "colab_type": "text",
        "id": "ITcNAfj1ZDin"
      },
      "source": [
        "__For Hotel and Travels__"
      ]
    },
    {
      "cell_type": "code",
      "metadata": {
        "colab_type": "code",
        "id": "G4aT3QSBZDit",
        "outputId": "b815e70d-548a-434e-98bc-25b68efc8d07",
        "colab": {
          "base_uri": "https://localhost:8080/",
          "height": 194
        }
      },
      "source": [
        "bow_hotels_travels_transformed = generateBOWforCategory(\"Hotels & Travel\", X_hotels_travels)"
      ],
      "execution_count": 0,
      "outputs": [
        {
          "output_type": "stream",
          "text": [
            "Vocabulary Length for Category Hotels & Travel is 3691\n",
            "Sparse Matrix of Bag of Words for Category Hotels & Travel \n",
            "\n",
            "Sparse Matrix Attributes: \n",
            "\n",
            "Shape of Sparse Matrix for Hotels & Travel: (1410, 3691)\n",
            "Amount of Non-Zero occurrences:  58845\n",
            "Density: 1.1306974411593467\n"
          ],
          "name": "stdout"
        }
      ]
    },
    {
      "cell_type": "markdown",
      "metadata": {
        "colab_type": "text",
        "id": "pj0P-4WCCohC"
      },
      "source": [
        "__For Restaurants__"
      ]
    },
    {
      "cell_type": "code",
      "metadata": {
        "colab_type": "code",
        "id": "B1OKjEG8Nyyz",
        "outputId": "33a490c6-c2b3-498b-bc0d-819f4084f324",
        "colab": {
          "base_uri": "https://localhost:8080/",
          "height": 205
        }
      },
      "source": [
        "bow_restaurants_transformed = generateBOWforCategory(\"Restaurants\", X_restaurants)"
      ],
      "execution_count": 0,
      "outputs": [
        {
          "output_type": "stream",
          "text": [
            "Vocabulary Length for Category Restaurants is 2957\n",
            "Sparse Matrix of Bag of Words for Category Restaurants \n",
            "\n",
            "Sparse Matrix Attributes: \n",
            "\n",
            "Shape of Sparse Matrix for Restaurants: (1440, 2957)\n",
            "Amount of Non-Zero occurrences:  47804\n",
            "Density: 1.1226656145492804\n"
          ],
          "name": "stdout"
        }
      ]
    },
    {
      "cell_type": "markdown",
      "metadata": {
        "colab_type": "text",
        "id": "H9I4rQKTZDlJ"
      },
      "source": [
        "### Training data and test data\n",
        "\n",
        "As we have finished processing the review text in X, It’s time to split our X and y into a training and a test set using train_test_split from Scikit-learn. We will use 30% of the dataset for testing."
      ]
    },
    {
      "cell_type": "markdown",
      "metadata": {
        "colab_type": "text",
        "id": "pEspRmgYZDlK"
      },
      "source": [
        "__For Hotel and Travels Category__"
      ]
    },
    {
      "cell_type": "code",
      "metadata": {
        "colab_type": "code",
        "id": "tDYGxjzWZDlM",
        "colab": {}
      },
      "source": [
        "X_ht_train, X_ht_test, y_ht_train, y_ht_test = train_test_split(bow_hotels_travels_transformed,\n",
        "                                                                y_hotels_travels, \n",
        "                                                                test_size=0.3, random_state=101)"
      ],
      "execution_count": 0,
      "outputs": []
    },
    {
      "cell_type": "markdown",
      "metadata": {
        "colab_type": "text",
        "id": "SJ1ZoG7bZDlR"
      },
      "source": [
        "__For Restaurants__\n"
      ]
    },
    {
      "cell_type": "code",
      "metadata": {
        "colab_type": "code",
        "id": "T7g4yDjAZDlU",
        "colab": {}
      },
      "source": [
        "X_rest_train, X_rest_test, y_rest_train, y_rest_test = train_test_split(bow_restaurants_transformed,\n",
        "                                                                y_restaurants, \n",
        "                                                                test_size=0.3, random_state=101)"
      ],
      "execution_count": 0,
      "outputs": []
    },
    {
      "cell_type": "markdown",
      "metadata": {
        "colab_type": "text",
        "id": "p-P0flE0ZDlY"
      },
      "source": [
        "## Classification models to distinguish between “positive” and “negative” reviews"
      ]
    },
    {
      "cell_type": "markdown",
      "metadata": {
        "colab_type": "text",
        "id": "jHdddQIiZDlh"
      },
      "source": [
        "__Test the predictions of the classification model using an appropriate evaluation strategy. Report and discuss the evaluation results in your notebook__"
      ]
    },
    {
      "cell_type": "markdown",
      "metadata": {
        "colab_type": "text",
        "id": "6JERkewxZDlh"
      },
      "source": [
        "### Testing and evaluating our model"
      ]
    },
    {
      "cell_type": "code",
      "metadata": {
        "colab_type": "code",
        "id": "9mMX9g6tY4WV",
        "colab": {}
      },
      "source": [
        "def print_confusion_matrix(conf_mat, cls_names, fig_size = (6,4), font_size = 14 ):\n",
        "    # conf_mat = confusion matrix will be ndarray passed\n",
        "    # cls_names = list of classes\n",
        "    df_cm = pd.DataFrame(conf_mat, index=cls_names, columns=cls_names)\n",
        "    fig = plt.figure(figsize=fig_size)\n",
        "\n",
        "    try:\n",
        "        heatmap = sns.heatmap(df_cm, annot=True, fmt=\"d\")\n",
        "    except ValueError:\n",
        "        raise ValueError(\"Confusion matrix values must be integers.\")\n",
        "\n",
        "    heatmap.yaxis.set_ticklabels( heatmap.yaxis.get_ticklabels(), \n",
        "                                    rotation=0, ha='right', fontsize=font_size)\n",
        "\n",
        "    heatmap.xaxis.set_ticklabels( heatmap.xaxis.get_ticklabels(), \n",
        "                                    rotation=45, ha='right', fontsize=font_size)\n",
        "    plt.ylabel('True label')\n",
        "    plt.xlabel('Predicted label')\n",
        "\n",
        "    return fig"
      ],
      "execution_count": 0,
      "outputs": []
    },
    {
      "cell_type": "code",
      "metadata": {
        "colab_type": "code",
        "id": "JASEBH7VYYIX",
        "colab": {}
      },
      "source": [
        "# Maintaing list for eval purpose\n",
        "columns=['Category','Classifier', 'Precision','Recall','F1 Score', 'Accuracy']\n",
        "eval_records =[]\n",
        "model_list = {}\n",
        "model_list['Hotels & Travels'] = []\n",
        "model_list['Restaurants'] = []"
      ],
      "execution_count": 0,
      "outputs": []
    },
    {
      "cell_type": "code",
      "metadata": {
        "colab_type": "code",
        "id": "0nGrdSGsZDli",
        "colab": {}
      },
      "source": [
        "def trainAndEvaluateClassifier(cat, clf_name, clf, X, y, X_test, y_test):\n",
        "    # training the classifier\n",
        "    clf.fit(X, y)\n",
        "    \n",
        "    print(\"For Category {} Evaluation Report for Classifier: {} \\n\".format(cat, clf_name))\n",
        "    # collecting predictions on test data\n",
        "    y_preds = clf.predict(X_test)\n",
        "    print(classification_report(y_test, y_preds))\n",
        "    \n",
        "    y_pred_proba = clf.predict_proba(X_test)[::,1]\n",
        "    fpr, tpr, _ = metrics.roc_curve(y_test,  y_pred_proba)\n",
        "    auc = metrics.roc_auc_score(y_test, y_pred_proba)\n",
        "    \n",
        "    model_list[cat].append([clf_name,fpr,tpr,auc])\n",
        "    \n",
        "    accuracy = metrics.accuracy_score(y_test, y_preds)\n",
        "    print(\"Accuracy: {} \\n\".format(str(accuracy)))\n",
        "    \n",
        "    precision, recall, fscore, support = score(y_test, y_preds,average='micro')\n",
        "    \n",
        "    print(\"Confusion Matrix \")\n",
        "    class_names = ['Positive', 'Negative']\n",
        "    cm = confusion_matrix(y_test, y_preds)\n",
        "    print_confusion_matrix(cm, class_names)\n",
        "    \n",
        "    eval_records.append([cat, clf_name, precision, recall, fscore, accuracy])\n",
        "    "
      ],
      "execution_count": 0,
      "outputs": []
    },
    {
      "cell_type": "code",
      "metadata": {
        "id": "i_1XNVFYuQnM",
        "colab_type": "code",
        "colab": {}
      },
      "source": [
        "def getBestParams(param_grid, clf, X_train, y_train):\n",
        "    grid = GridSearchCV(clf, param_grid, cv=5)\n",
        "    grid.fit(X_train, y_train)\n",
        "    print(\"Best cross-validation score: {:.2f}\".format(grid.best_score_))\n",
        "    print(\"Best parameters: \", grid.best_params_)\n",
        "    print(\"Best estimator: \", grid.best_estimator_)\n",
        "    "
      ],
      "execution_count": 0,
      "outputs": []
    },
    {
      "cell_type": "markdown",
      "metadata": {
        "id": "42IQE7HwuQnO",
        "colab_type": "text"
      },
      "source": [
        "### k-Nearest Neighbour Classifier\n"
      ]
    },
    {
      "cell_type": "code",
      "metadata": {
        "id": "ic1hKx11uQnO",
        "colab_type": "code",
        "outputId": "7bb4bb44-f0b3-4847-e84d-390d2997e2de",
        "colab": {}
      },
      "source": [
        "knn_param_grid = {'n_neighbors': [2, 3, 5, 7, 10]}\n",
        "knn_clf = KNeighborsClassifier()\n",
        "getBestParams(knn_param_grid, knn_clf, X_ht_train, y_ht_train)"
      ],
      "execution_count": 0,
      "outputs": [
        {
          "output_type": "stream",
          "text": [
            "Best cross-validation score: 0.69\n",
            "Best parameters:  {'n_neighbors': 10}\n",
            "Best estimator:  KNeighborsClassifier(algorithm='auto', leaf_size=30, metric='minkowski',\n",
            "           metric_params=None, n_jobs=1, n_neighbors=10, p=2,\n",
            "           weights='uniform')\n"
          ],
          "name": "stdout"
        }
      ]
    },
    {
      "cell_type": "code",
      "metadata": {
        "id": "2u2SCNYzuQnT",
        "colab_type": "code",
        "outputId": "ee522221-1a59-456c-f5e3-bb387f260479",
        "colab": {}
      },
      "source": [
        "knn_clf = KNeighborsClassifier(n_neighbors=2)\n",
        "knn_clf"
      ],
      "execution_count": 0,
      "outputs": [
        {
          "output_type": "execute_result",
          "data": {
            "text/plain": [
              "KNeighborsClassifier(algorithm='auto', leaf_size=30, metric='minkowski',\n",
              "           metric_params=None, n_jobs=1, n_neighbors=2, p=2,\n",
              "           weights='uniform')"
            ]
          },
          "metadata": {
            "tags": []
          },
          "execution_count": 712
        }
      ]
    },
    {
      "cell_type": "code",
      "metadata": {
        "id": "-teDbk0suQnf",
        "colab_type": "code",
        "outputId": "1e3e5e0c-6b5c-4fc5-91c9-38bcf1b22512",
        "colab": {}
      },
      "source": [
        "trainAndEvaluateClassifier('Hotels & Travels', 'HT-KNN',\n",
        "                               knn_clf, X_ht_train, y_ht_train, X_ht_test, y_ht_test )"
      ],
      "execution_count": 0,
      "outputs": [
        {
          "output_type": "stream",
          "text": [
            "For Category Hotels & Travels Evaluation Report for Classifier: HT-KNN \n",
            "\n",
            "             precision    recall  f1-score   support\n",
            "\n",
            "          0       0.65      0.61      0.63       201\n",
            "          1       0.67      0.70      0.68       222\n",
            "\n",
            "avg / total       0.66      0.66      0.66       423\n",
            "\n",
            "Accuracy: 0.657210401891 \n",
            "\n",
            "Confusion Matrix \n"
          ],
          "name": "stdout"
        },
        {
          "output_type": "display_data",
          "data": {
            "image/png": "[encoded data removed]",
            "text/plain": [
              "<matplotlib.figure.Figure at 0x1f21091df28>"
            ]
          },
          "metadata": {
            "tags": []
          }
        }
      ]
    },
    {
      "cell_type": "code",
      "metadata": {
        "id": "axVm8RV0uQoE",
        "colab_type": "code",
        "outputId": "90828463-e36e-4e38-8331-8ebfc3a724c6",
        "colab": {}
      },
      "source": [
        "trainAndEvaluateClassifier('Restaurants', 'R-KNN',\n",
        "                               knn_clf, X_rest_train, y_rest_train, X_rest_test, y_rest_test )"
      ],
      "execution_count": 0,
      "outputs": [
        {
          "output_type": "stream",
          "text": [
            "For Category Restaurants Evaluation Report for Classifier: R-KNN \n",
            "\n",
            "             precision    recall  f1-score   support\n",
            "\n",
            "          0       0.49      0.70      0.57       145\n",
            "          1       0.81      0.62      0.70       287\n",
            "\n",
            "avg / total       0.70      0.65      0.66       432\n",
            "\n",
            "Accuracy: 0.650462962963 \n",
            "\n",
            "Confusion Matrix \n"
          ],
          "name": "stdout"
        },
        {
          "output_type": "display_data",
          "data": {
            "image/png": "[encoded data removed]",
            "text/plain": [
              "<matplotlib.figure.Figure at 0x1f21094c710>"
            ]
          },
          "metadata": {
            "tags": []
          }
        }
      ]
    },
    {
      "cell_type": "markdown",
      "metadata": {
        "colab_type": "text",
        "id": "kZkRASs6ZDlY"
      },
      "source": [
        "### Multinomial Naive Bayes Classifier\n",
        "\n",
        "Training our model\n",
        "\n",
        "Multinomial Naive Bayes is a specialised version of Naive Bayes designed more for text documents. Let’s build a Multinomial Naive Bayes model and fit it to our training set (X_train and y_train)."
      ]
    },
    {
      "cell_type": "markdown",
      "metadata": {
        "colab_type": "text",
        "id": "d_sjTw2FZDly"
      },
      "source": [
        "Next, let’s evaluate our predictions against the actual ratings (stored in y_test) using confusion_matrix and classification_report from Scikit-learn."
      ]
    },
    {
      "cell_type": "code",
      "metadata": {
        "id": "fT45nMbJuQoT",
        "colab_type": "code",
        "outputId": "0b0afe80-481d-4d54-cd1c-7ae43c6ed41f",
        "colab": {}
      },
      "source": [
        "nb_clf = MultinomialNB()\n",
        "nb_clf"
      ],
      "execution_count": 0,
      "outputs": [
        {
          "output_type": "execute_result",
          "data": {
            "text/plain": [
              "MultinomialNB(alpha=1.0, class_prior=None, fit_prior=True)"
            ]
          },
          "metadata": {
            "tags": []
          },
          "execution_count": 715
        }
      ]
    },
    {
      "cell_type": "markdown",
      "metadata": {
        "colab_type": "text",
        "id": "_ZkC2BsBZDln"
      },
      "source": [
        "__For Hotels and Travels__"
      ]
    },
    {
      "cell_type": "code",
      "metadata": {
        "colab_type": "code",
        "id": "TfNl_52LZDlo",
        "outputId": "5f4f3247-4018-4a9c-e4c2-e2892229917a",
        "colab": {
          "base_uri": "https://localhost:8080/",
          "height": 299
        }
      },
      "source": [
        "trainAndEvaluateClassifier('Hotels & Travels', 'HT-Multinomial Naive Bayes',\n",
        "                               nb_clf, X_ht_train, y_ht_train, X_ht_test, y_ht_test )"
      ],
      "execution_count": 0,
      "outputs": [
        {
          "output_type": "stream",
          "text": [
            "For Category Hotels & Travels Evaluation Report for Classifier: HT-Multinomial Naive Bayes \n",
            "\n",
            "             precision    recall  f1-score   support\n",
            "\n",
            "          0       0.89      0.80      0.84       201\n",
            "          1       0.83      0.91      0.87       222\n",
            "\n",
            "avg / total       0.86      0.86      0.86       423\n",
            "\n",
            "Accuracy: 0.858156028369 \n",
            "\n",
            "Confusion Matrix \n"
          ],
          "name": "stdout"
        },
        {
          "output_type": "display_data",
          "data": {
            "image/png": "[encoded data removed]",
            "text/plain": [
              "<matplotlib.figure.Figure at 0x1f20e858b38>"
            ]
          },
          "metadata": {
            "tags": []
          }
        }
      ]
    },
    {
      "cell_type": "markdown",
      "metadata": {
        "colab_type": "text",
        "id": "6UxIda3jZDl1"
      },
      "source": [
        "__For Restaurants__"
      ]
    },
    {
      "cell_type": "code",
      "metadata": {
        "colab_type": "code",
        "id": "ufgkSM4uZDlu",
        "outputId": "079b327f-ccd2-4bef-e934-e1308d68326c",
        "colab": {
          "base_uri": "https://localhost:8080/",
          "height": 867
        }
      },
      "source": [
        "trainAndEvaluateClassifier('Restaurants', 'R-Multinomial Naive Bayes',\n",
        "                               nb_clf, X_rest_train, y_rest_train, X_rest_test, y_rest_test )"
      ],
      "execution_count": 0,
      "outputs": [
        {
          "output_type": "stream",
          "text": [
            "For Category Restaurants Evaluation Report for Classifier: R-Multinomial Naive Bayes \n",
            "\n",
            "             precision    recall  f1-score   support\n",
            "\n",
            "          0       0.81      0.83      0.82       145\n",
            "          1       0.91      0.90      0.91       287\n",
            "\n",
            "avg / total       0.88      0.88      0.88       432\n",
            "\n",
            "Accuracy: 0.877314814815 \n",
            "\n",
            "Confusion Matrix \n"
          ],
          "name": "stdout"
        },
        {
          "output_type": "display_data",
          "data": {
            "image/png": "[encoded data removed]",
            "text/plain": [
              "<matplotlib.figure.Figure at 0x1f210ba40b8>"
            ]
          },
          "metadata": {
            "tags": []
          }
        }
      ]
    },
    {
      "cell_type": "markdown",
      "metadata": {
        "colab_type": "text",
        "id": "2OkeJrxraO6O"
      },
      "source": [
        "### Logistic Regression Classifier\n",
        "\n",
        "for high dimensional sparse data like ours, LogisticRegression often works best.\n",
        "\n",
        "  * Grid Search: for paramater tuning of LogisticRegression. To determine what value of coefficeint ‘C’ provides better accuracy.\n",
        "  \n",
        "  * Cross validation: in order to avoid overfitting of data."
      ]
    },
    {
      "cell_type": "code",
      "metadata": {
        "colab_type": "code",
        "id": "zixCRAltZDl4",
        "outputId": "08750d0e-7f0d-42a3-9941-51b80f054cdd",
        "colab": {}
      },
      "source": [
        "logreg_param_grid = {'C': [0.001, 0.01, 0.1, 1, 10]}\n",
        "logreg_clf = LogisticRegression()\n",
        "getBestParams(logreg_param_grid, logreg_clf, X_ht_train, y_ht_train)"
      ],
      "execution_count": 0,
      "outputs": [
        {
          "output_type": "stream",
          "text": [
            "Best cross-validation score: 0.88\n",
            "Best parameters:  {'C': 10}\n",
            "Best estimator:  LogisticRegression(C=10, class_weight=None, dual=False, fit_intercept=True,\n",
            "          intercept_scaling=1, max_iter=100, multi_class='ovr', n_jobs=1,\n",
            "          penalty='l2', random_state=None, solver='liblinear', tol=0.0001,\n",
            "          verbose=0, warm_start=False)\n"
          ],
          "name": "stdout"
        }
      ]
    },
    {
      "cell_type": "code",
      "metadata": {
        "colab_type": "code",
        "id": "FS28NtjTZDl5",
        "outputId": "4e6e8615-206a-49df-8b62-9193a827b909",
        "colab": {}
      },
      "source": [
        "lr_clf = LogisticRegression(C=1, class_weight=None, dual=False, fit_intercept=True,\n",
        "          intercept_scaling=1, max_iter=100, multi_class='ovr', n_jobs=1,\n",
        "          penalty='l2', random_state=None, solver='liblinear', tol=0.0001,\n",
        "          verbose=0, warm_start=False)\n",
        "lr_clf"
      ],
      "execution_count": 0,
      "outputs": [
        {
          "output_type": "execute_result",
          "data": {
            "text/plain": [
              "LogisticRegression(C=1, class_weight=None, dual=False, fit_intercept=True,\n",
              "          intercept_scaling=1, max_iter=100, multi_class='ovr', n_jobs=1,\n",
              "          penalty='l2', random_state=None, solver='liblinear', tol=0.0001,\n",
              "          verbose=0, warm_start=False)"
            ]
          },
          "metadata": {
            "tags": []
          },
          "execution_count": 719
        }
      ]
    },
    {
      "cell_type": "code",
      "metadata": {
        "colab_type": "code",
        "id": "5xe4StCLZDl7",
        "outputId": "c429c74e-1067-4c9c-9615-2c2917808228",
        "colab": {}
      },
      "source": [
        "trainAndEvaluateClassifier('Hotels & Travels', 'HT-Logistic Regression',\n",
        "                               lr_clf, X_ht_train, y_ht_train, X_ht_test, y_ht_test )"
      ],
      "execution_count": 0,
      "outputs": [
        {
          "output_type": "stream",
          "text": [
            "For Category Hotels & Travels Evaluation Report for Classifier: HT-Logistic Regression \n",
            "\n",
            "             precision    recall  f1-score   support\n",
            "\n",
            "          0       0.91      0.79      0.85       201\n",
            "          1       0.83      0.93      0.88       222\n",
            "\n",
            "avg / total       0.87      0.86      0.86       423\n",
            "\n",
            "Accuracy: 0.862884160757 \n",
            "\n",
            "Confusion Matrix \n"
          ],
          "name": "stdout"
        },
        {
          "output_type": "display_data",
          "data": {
            "image/png": "[encoded data removed]",
            "text/plain": [
              "<matplotlib.figure.Figure at 0x1f2102e3630>"
            ]
          },
          "metadata": {
            "tags": []
          }
        }
      ]
    },
    {
      "cell_type": "code",
      "metadata": {
        "id": "PH_zsDWcuQpJ",
        "colab_type": "code",
        "outputId": "ca544887-1f53-46a0-f6d0-1ffb3e18f26e",
        "colab": {}
      },
      "source": [
        "trainAndEvaluateClassifier('Restaurants', 'R-Logistic Regression',\n",
        "                               lr_clf, X_rest_train, y_rest_train, X_rest_test, y_rest_test )"
      ],
      "execution_count": 0,
      "outputs": [
        {
          "output_type": "stream",
          "text": [
            "For Category Restaurants Evaluation Report for Classifier: R-Logistic Regression \n",
            "\n",
            "             precision    recall  f1-score   support\n",
            "\n",
            "          0       0.78      0.77      0.78       145\n",
            "          1       0.89      0.89      0.89       287\n",
            "\n",
            "avg / total       0.85      0.85      0.85       432\n",
            "\n",
            "Accuracy: 0.849537037037 \n",
            "\n",
            "Confusion Matrix \n"
          ],
          "name": "stdout"
        },
        {
          "output_type": "display_data",
          "data": {
            "image/png": "[encoded data removed]",
            "text/plain": [
              "<matplotlib.figure.Figure at 0x1f211725860>"
            ]
          },
          "metadata": {
            "tags": []
          }
        }
      ]
    },
    {
      "cell_type": "markdown",
      "metadata": {
        "id": "J0T8-o4YuQpP",
        "colab_type": "text"
      },
      "source": [
        "### RandomForest Classifier"
      ]
    },
    {
      "cell_type": "code",
      "metadata": {
        "id": "zEjphGVtuQpR",
        "colab_type": "code",
        "outputId": "f6d6e805-972f-4915-a8d8-ed72cd6536b0",
        "colab": {}
      },
      "source": [
        "rf_param_grid = {'n_estimators': [5, 10, 20, 30, 50, 70, 90]}\n",
        "rf_clf = RandomForestClassifier()\n",
        "getBestParams(rf_param_grid, rf_clf, X_ht_train, y_ht_train)"
      ],
      "execution_count": 0,
      "outputs": [
        {
          "output_type": "stream",
          "text": [
            "Best cross-validation score: 0.84\n",
            "Best parameters:  {'n_estimators': 70}\n",
            "Best estimator:  RandomForestClassifier(bootstrap=True, class_weight=None, criterion='gini',\n",
            "            max_depth=None, max_features='auto', max_leaf_nodes=None,\n",
            "            min_impurity_split=1e-07, min_samples_leaf=1,\n",
            "            min_samples_split=2, min_weight_fraction_leaf=0.0,\n",
            "            n_estimators=70, n_jobs=1, oob_score=False, random_state=None,\n",
            "            verbose=0, warm_start=False)\n"
          ],
          "name": "stdout"
        }
      ]
    },
    {
      "cell_type": "code",
      "metadata": {
        "id": "K8XJluAtuQpV",
        "colab_type": "code",
        "outputId": "f6b5a05e-1c06-4e57-e51a-16c1cf5fdd0e",
        "colab": {}
      },
      "source": [
        "model_rfc = RandomForestClassifier(n_estimators = 90)\n",
        "model_rfc"
      ],
      "execution_count": 0,
      "outputs": [
        {
          "output_type": "execute_result",
          "data": {
            "text/plain": [
              "RandomForestClassifier(bootstrap=True, class_weight=None, criterion='gini',\n",
              "            max_depth=None, max_features='auto', max_leaf_nodes=None,\n",
              "            min_impurity_split=1e-07, min_samples_leaf=1,\n",
              "            min_samples_split=2, min_weight_fraction_leaf=0.0,\n",
              "            n_estimators=90, n_jobs=1, oob_score=False, random_state=None,\n",
              "            verbose=0, warm_start=False)"
            ]
          },
          "metadata": {
            "tags": []
          },
          "execution_count": 723
        }
      ]
    },
    {
      "cell_type": "code",
      "metadata": {
        "id": "TGIDAOkxuQpX",
        "colab_type": "code",
        "outputId": "23ab4bc0-37da-4033-9b9f-d12c57647bf5",
        "colab": {}
      },
      "source": [
        "trainAndEvaluateClassifier('Hotels & Travels', 'HT-Random Forest',\n",
        "                               model_rfc, X_ht_train, y_ht_train, X_ht_test, y_ht_test )"
      ],
      "execution_count": 0,
      "outputs": [
        {
          "output_type": "stream",
          "text": [
            "For Category Hotels & Travels Evaluation Report for Classifier: HT-Random Forest \n",
            "\n",
            "             precision    recall  f1-score   support\n",
            "\n",
            "          0       0.92      0.71      0.80       201\n",
            "          1       0.78      0.95      0.86       222\n",
            "\n",
            "avg / total       0.85      0.83      0.83       423\n",
            "\n",
            "Accuracy: 0.832151300236 \n",
            "\n",
            "Confusion Matrix \n"
          ],
          "name": "stdout"
        },
        {
          "output_type": "display_data",
          "data": {
            "image/png": "[encoded data removed]",
            "text/plain": [
              "<matplotlib.figure.Figure at 0x1f210ab7208>"
            ]
          },
          "metadata": {
            "tags": []
          }
        }
      ]
    },
    {
      "cell_type": "code",
      "metadata": {
        "id": "fsVQrnOfuQpa",
        "colab_type": "code",
        "outputId": "7b3b5e0e-5d4e-4263-8c3f-2e1c74c912c2",
        "colab": {}
      },
      "source": [
        "trainAndEvaluateClassifier('Restaurants', 'R-Random Forest ',\n",
        "                               model_rfc, X_rest_train, y_rest_train, X_rest_test, y_rest_test )"
      ],
      "execution_count": 0,
      "outputs": [
        {
          "output_type": "stream",
          "text": [
            "For Category Restaurants Evaluation Report for Classifier: R-Random Forest  \n",
            "\n",
            "             precision    recall  f1-score   support\n",
            "\n",
            "          0       0.81      0.66      0.73       145\n",
            "          1       0.84      0.92      0.88       287\n",
            "\n",
            "avg / total       0.83      0.83      0.83       432\n",
            "\n",
            "Accuracy: 0.833333333333 \n",
            "\n",
            "Confusion Matrix \n"
          ],
          "name": "stdout"
        },
        {
          "output_type": "display_data",
          "data": {
            "image/png": "[encoded data removed]",
            "text/plain": [
              "<matplotlib.figure.Figure at 0x1f210996160>"
            ]
          },
          "metadata": {
            "tags": []
          }
        }
      ]
    },
    {
      "cell_type": "markdown",
      "metadata": {
        "id": "uXdOa9ijuQph",
        "colab_type": "text"
      },
      "source": [
        "### Gradient Boosting Classifier"
      ]
    },
    {
      "cell_type": "code",
      "metadata": {
        "id": "2OYqshcfuQpj",
        "colab_type": "code",
        "outputId": "61531519-7cea-42c8-fd4d-02499180275d",
        "colab": {}
      },
      "source": [
        "model_gb = GradientBoostingClassifier(learning_rate=0.1, n_estimators=100)\n",
        "model_gb"
      ],
      "execution_count": 0,
      "outputs": [
        {
          "output_type": "execute_result",
          "data": {
            "text/plain": [
              "GradientBoostingClassifier(criterion='friedman_mse', init=None,\n",
              "              learning_rate=0.1, loss='deviance', max_depth=3,\n",
              "              max_features=None, max_leaf_nodes=None,\n",
              "              min_impurity_split=1e-07, min_samples_leaf=1,\n",
              "              min_samples_split=2, min_weight_fraction_leaf=0.0,\n",
              "              n_estimators=100, presort='auto', random_state=None,\n",
              "              subsample=1.0, verbose=0, warm_start=False)"
            ]
          },
          "metadata": {
            "tags": []
          },
          "execution_count": 726
        }
      ]
    },
    {
      "cell_type": "code",
      "metadata": {
        "id": "AH7mq_IHuQpo",
        "colab_type": "code",
        "outputId": "613a5098-0db6-4a3f-af86-d48e5501946a",
        "colab": {}
      },
      "source": [
        "trainAndEvaluateClassifier('Hotels & Travels', 'HT-Gradient Boosting',\n",
        "                               model_gb, X_ht_train.toarray(), y_ht_train, X_ht_test.toarray(), y_ht_test )"
      ],
      "execution_count": 0,
      "outputs": [
        {
          "output_type": "stream",
          "text": [
            "For Category Hotels & Travels Evaluation Report for Classifier: HT-Gradient Boosting \n",
            "\n",
            "             precision    recall  f1-score   support\n",
            "\n",
            "          0       0.94      0.72      0.81       201\n",
            "          1       0.79      0.95      0.86       222\n",
            "\n",
            "avg / total       0.86      0.84      0.84       423\n",
            "\n",
            "Accuracy: 0.841607565012 \n",
            "\n",
            "Confusion Matrix \n"
          ],
          "name": "stdout"
        },
        {
          "output_type": "display_data",
          "data": {
            "image/png": "[encoded data removed]",
            "text/plain": [
              "<matplotlib.figure.Figure at 0x1f211661048>"
            ]
          },
          "metadata": {
            "tags": []
          }
        }
      ]
    },
    {
      "cell_type": "code",
      "metadata": {
        "id": "zX46ZUHpuQpr",
        "colab_type": "code",
        "outputId": "48cf3109-8c85-403a-c7be-042ad89dc5fc",
        "colab": {}
      },
      "source": [
        "trainAndEvaluateClassifier('Restaurants', 'R-Gradient Boosting',\n",
        "                               model_rfc, X_rest_train.toarray(), y_rest_train, X_rest_test, y_rest_test )"
      ],
      "execution_count": 0,
      "outputs": [
        {
          "output_type": "stream",
          "text": [
            "For Category Restaurants Evaluation Report for Classifier: R-Gradient Boosting \n",
            "\n",
            "             precision    recall  f1-score   support\n",
            "\n",
            "          0       0.80      0.67      0.73       145\n",
            "          1       0.85      0.91      0.88       287\n",
            "\n",
            "avg / total       0.83      0.83      0.83       432\n",
            "\n",
            "Accuracy: 0.831018518519 \n",
            "\n",
            "Confusion Matrix \n"
          ],
          "name": "stdout"
        },
        {
          "output_type": "display_data",
          "data": {
            "image/png": "[encoded data removed]",
            "text/plain": [
              "<matplotlib.figure.Figure at 0x1f210d08710>"
            ]
          },
          "metadata": {
            "tags": []
          }
        }
      ]
    },
    {
      "cell_type": "markdown",
      "metadata": {
        "id": "Tt9hjT32uQpw",
        "colab_type": "text"
      },
      "source": [
        "## ROC Analysis for All Models"
      ]
    },
    {
      "cell_type": "code",
      "metadata": {
        "id": "JxQMXF7LuQpx",
        "colab_type": "code",
        "colab": {}
      },
      "source": [
        "def generateROC(model_list):\n",
        "    plt.figure(figsize = (7,6),dpi = 100)\n",
        "    plt.plot([0, 1], [0, 1])\n",
        "    for i in range(0,len(model_list)):\n",
        "        clf_name = model_list[i][0]\n",
        "        fpr = model_list[i][1]\n",
        "        tpr = model_list[i][2]\n",
        "        auc = model_list[i][3]\n",
        "        plt.plot(fpr,tpr,label=\"{}, auc={}\".format( clf_name,str(auc)))\n",
        "        \n",
        "    plt.xlabel('False Positive Rate')\n",
        "    plt.ylabel('True Positive Rate')\n",
        "    plt.title('ROC curve (Test), AUC')\n",
        "    plt.legend(loc=4)\n",
        "    plt.grid(True)\n",
        "    plt.show()"
      ],
      "execution_count": 0,
      "outputs": []
    },
    {
      "cell_type": "markdown",
      "metadata": {
        "id": "kLpnzPpduQp1",
        "colab_type": "text"
      },
      "source": [
        "### Below are the ROC cureves for Hotels & Travels(HT) and Restaurants(R)"
      ]
    },
    {
      "cell_type": "code",
      "metadata": {
        "id": "06XCkzMluQp2",
        "colab_type": "code",
        "outputId": "a7a0f0ee-0905-4122-a58c-698c7b0be78a",
        "colab": {}
      },
      "source": [
        "for cat in model_list.keys():\n",
        "    generateROC(model_list[cat])"
      ],
      "execution_count": 0,
      "outputs": [
        {
          "output_type": "display_data",
          "data": {
            "image/png": "[encoded data removed]",
            "text/plain": [
              "<matplotlib.figure.Figure at 0x1f210ed79b0>"
            ]
          },
          "metadata": {
            "tags": []
          }
        },
        {
          "output_type": "display_data",
          "data": {
            "image/png": "[encoded data removed]",
            "text/plain": [
              "<matplotlib.figure.Figure at 0x1f2102f07f0>"
            ]
          },
          "metadata": {
            "tags": []
          }
        }
      ]
    },
    {
      "cell_type": "markdown",
      "metadata": {
        "id": "KnM9Nq30uQp6",
        "colab_type": "text"
      },
      "source": [
        "* For category Hotels & Travel, Logistic Regression Model Performed very well.\n",
        "* For category Restaurants, Both Logitic Regression and Naive Bayes Performed better than other 3 Models.\n",
        "* KNN performance was close the chance performance."
      ]
    },
    {
      "cell_type": "markdown",
      "metadata": {
        "id": "F3pfLubQuQp8",
        "colab_type": "text"
      },
      "source": [
        "## Classifier Evaluation Comparison Results"
      ]
    },
    {
      "cell_type": "code",
      "metadata": {
        "id": "1PWKCKsVuQp8",
        "colab_type": "code",
        "outputId": "d3972a44-7113-478c-edf7-d58368ffb058",
        "colab": {}
      },
      "source": [
        "results_df = pd.DataFrame(eval_records, columns=columns)\n",
        "\n",
        "# Sort the rows of dataframe by column 'Name' inplace\n",
        "results_df.sort_values(by='Accuracy' , ascending=False, inplace=True)\n",
        "\n",
        "results_df"
      ],
      "execution_count": 0,
      "outputs": [
        {
          "output_type": "execute_result",
          "data": {
            "text/html": [
              "<div>\n",
              "<style scoped>\n",
              "    .dataframe tbody tr th:only-of-type {\n",
              "        vertical-align: middle;\n",
              "    }\n",
              "\n",
              "    .dataframe tbody tr th {\n",
              "        vertical-align: top;\n",
              "    }\n",
              "\n",
              "    .dataframe thead th {\n",
              "        text-align: right;\n",
              "    }\n",
              "</style>\n",
              "<table border=\"1\" class=\"dataframe\">\n",
              "  <thead>\n",
              "    <tr style=\"text-align: right;\">\n",
              "      <th></th>\n",
              "      <th>Category</th>\n",
              "      <th>Classifier</th>\n",
              "      <th>Precision</th>\n",
              "      <th>Recall</th>\n",
              "      <th>F1 Score</th>\n",
              "      <th>Accuracy</th>\n",
              "    </tr>\n",
              "  </thead>\n",
              "  <tbody>\n",
              "    <tr>\n",
              "      <th>3</th>\n",
              "      <td>Restaurants</td>\n",
              "      <td>R-Multinomial Naive Bayes</td>\n",
              "      <td>0.877315</td>\n",
              "      <td>0.877315</td>\n",
              "      <td>0.877315</td>\n",
              "      <td>0.877315</td>\n",
              "    </tr>\n",
              "    <tr>\n",
              "      <th>4</th>\n",
              "      <td>Hotels &amp; Travels</td>\n",
              "      <td>HT-Logistic Regression</td>\n",
              "      <td>0.862884</td>\n",
              "      <td>0.862884</td>\n",
              "      <td>0.862884</td>\n",
              "      <td>0.862884</td>\n",
              "    </tr>\n",
              "    <tr>\n",
              "      <th>2</th>\n",
              "      <td>Hotels &amp; Travels</td>\n",
              "      <td>HT-Multinomial Naive Bayes</td>\n",
              "      <td>0.858156</td>\n",
              "      <td>0.858156</td>\n",
              "      <td>0.858156</td>\n",
              "      <td>0.858156</td>\n",
              "    </tr>\n",
              "    <tr>\n",
              "      <th>5</th>\n",
              "      <td>Restaurants</td>\n",
              "      <td>R-Logistic Regression</td>\n",
              "      <td>0.849537</td>\n",
              "      <td>0.849537</td>\n",
              "      <td>0.849537</td>\n",
              "      <td>0.849537</td>\n",
              "    </tr>\n",
              "    <tr>\n",
              "      <th>8</th>\n",
              "      <td>Hotels &amp; Travels</td>\n",
              "      <td>HT-Gradient Boosting</td>\n",
              "      <td>0.841608</td>\n",
              "      <td>0.841608</td>\n",
              "      <td>0.841608</td>\n",
              "      <td>0.841608</td>\n",
              "    </tr>\n",
              "    <tr>\n",
              "      <th>7</th>\n",
              "      <td>Restaurants</td>\n",
              "      <td>R-Random Forest</td>\n",
              "      <td>0.833333</td>\n",
              "      <td>0.833333</td>\n",
              "      <td>0.833333</td>\n",
              "      <td>0.833333</td>\n",
              "    </tr>\n",
              "    <tr>\n",
              "      <th>6</th>\n",
              "      <td>Hotels &amp; Travels</td>\n",
              "      <td>HT-Random Forest</td>\n",
              "      <td>0.832151</td>\n",
              "      <td>0.832151</td>\n",
              "      <td>0.832151</td>\n",
              "      <td>0.832151</td>\n",
              "    </tr>\n",
              "    <tr>\n",
              "      <th>9</th>\n",
              "      <td>Restaurants</td>\n",
              "      <td>R-Gradient Boosting</td>\n",
              "      <td>0.831019</td>\n",
              "      <td>0.831019</td>\n",
              "      <td>0.831019</td>\n",
              "      <td>0.831019</td>\n",
              "    </tr>\n",
              "    <tr>\n",
              "      <th>0</th>\n",
              "      <td>Hotels &amp; Travels</td>\n",
              "      <td>HT-KNN</td>\n",
              "      <td>0.657210</td>\n",
              "      <td>0.657210</td>\n",
              "      <td>0.657210</td>\n",
              "      <td>0.657210</td>\n",
              "    </tr>\n",
              "    <tr>\n",
              "      <th>1</th>\n",
              "      <td>Restaurants</td>\n",
              "      <td>R-KNN</td>\n",
              "      <td>0.650463</td>\n",
              "      <td>0.650463</td>\n",
              "      <td>0.650463</td>\n",
              "      <td>0.650463</td>\n",
              "    </tr>\n",
              "  </tbody>\n",
              "</table>\n",
              "</div>"
            ],
            "text/plain": [
              "           Category                  Classifier  Precision    Recall  \\\n",
              "3       Restaurants   R-Multinomial Naive Bayes   0.877315  0.877315   \n",
              "4  Hotels & Travels      HT-Logistic Regression   0.862884  0.862884   \n",
              "2  Hotels & Travels  HT-Multinomial Naive Bayes   0.858156  0.858156   \n",
              "5       Restaurants       R-Logistic Regression   0.849537  0.849537   \n",
              "8  Hotels & Travels        HT-Gradient Boosting   0.841608  0.841608   \n",
              "7       Restaurants            R-Random Forest    0.833333  0.833333   \n",
              "6  Hotels & Travels            HT-Random Forest   0.832151  0.832151   \n",
              "9       Restaurants         R-Gradient Boosting   0.831019  0.831019   \n",
              "0  Hotels & Travels                      HT-KNN   0.657210  0.657210   \n",
              "1       Restaurants                       R-KNN   0.650463  0.650463   \n",
              "\n",
              "   F1 Score  Accuracy  \n",
              "3  0.877315  0.877315  \n",
              "4  0.862884  0.862884  \n",
              "2  0.858156  0.858156  \n",
              "5  0.849537  0.849537  \n",
              "8  0.841608  0.841608  \n",
              "7  0.833333  0.833333  \n",
              "6  0.832151  0.832151  \n",
              "9  0.831019  0.831019  \n",
              "0  0.657210  0.657210  \n",
              "1  0.650463  0.650463  "
            ]
          },
          "metadata": {
            "tags": []
          },
          "execution_count": 731
        }
      ]
    },
    {
      "cell_type": "markdown",
      "metadata": {
        "id": "c1YePHcruQqC",
        "colab_type": "text"
      },
      "source": [
        "## Observations\n",
        "\n",
        "* From the ROC curve analysis It can be observed that KNN classifier performed the worst and Logistic Regression performed best.\n",
        "\n",
        "* It can be infer that overall models performed better on Hotels & Travels category data than Restaurants category data.\n",
        "\n",
        "* After analysing the confusion matrix of each model. Observed that there is class imbalance in Restaurant category data which degraded the recall performance of models.\n",
        "\n"
      ]
    },
    {
      "cell_type": "markdown",
      "metadata": {
        "colab_type": "text",
        "id": "brTie6JnZDl-"
      },
      "source": [
        "# Evaluate how well your two classification models transfer between category."
      ]
    },
    {
      "cell_type": "code",
      "metadata": {
        "id": "MQRBaNj6uQqE",
        "colab_type": "code",
        "colab": {}
      },
      "source": [
        "# Maintaing list for eval purpose\n",
        "columns=['Category','Classifier', 'Precision','Recall','F1 Score', 'Accuracy']\n",
        "eval_records =[]\n",
        "model_list = {}\n",
        "model_list['Hotels & Travels'] = []\n",
        "model_list['Restaurants'] = []"
      ],
      "execution_count": 0,
      "outputs": []
    },
    {
      "cell_type": "markdown",
      "metadata": {
        "id": "VzFCsN9zuQqH",
        "colab_type": "text"
      },
      "source": [
        "## Performing Experments with Logistic Regression\n",
        "\n",
        "__Log Reg was best in 5 models tested in Task 2.__"
      ]
    },
    {
      "cell_type": "code",
      "metadata": {
        "id": "gD80ujH9uQqI",
        "colab_type": "code",
        "colab": {}
      },
      "source": [
        "lr_clf = LogisticRegression(C=1, class_weight=None, dual=False, fit_intercept=True,\n",
        "          intercept_scaling=1, max_iter=100, multi_class='ovr', n_jobs=1,\n",
        "          penalty='l2', random_state=None, solver='liblinear', tol=0.0001,\n",
        "          verbose=0, warm_start=False)"
      ],
      "execution_count": 0,
      "outputs": []
    },
    {
      "cell_type": "markdown",
      "metadata": {
        "colab_type": "text",
        "collapsed": true,
        "id": "9lKj6Hd6ZDl-"
      },
      "source": [
        "### Train a classification model on the data from “Hotels & Travels”, and \n",
        "### evaluate its performance on the data from “Restaurants”."
      ]
    },
    {
      "cell_type": "code",
      "metadata": {
        "id": "BuCpNkG7uQuc",
        "colab_type": "code",
        "colab": {}
      },
      "source": [
        "bow_vec = CountVectorizer(analyzer=preprocessReviewText,min_df = 3)\n",
        "bow_ht_transformed = bow_vec.fit_transform(X_hotels_travels)\n",
        "transformed_for_rest = bow_vec.transform(X_restaurants)\n"
      ],
      "execution_count": 0,
      "outputs": []
    },
    {
      "cell_type": "code",
      "metadata": {
        "id": "2_5KhBDRuQue",
        "colab_type": "code",
        "colab": {}
      },
      "source": [
        "X_rest_train, X_rest_test, y_rest_train, y_rest_test = train_test_split(transformed_for_rest, y_restaurants, \n",
        "                                                                test_size=0.3, random_state=101)"
      ],
      "execution_count": 0,
      "outputs": []
    },
    {
      "cell_type": "code",
      "metadata": {
        "id": "fr93B6tnuQuh",
        "colab_type": "code",
        "outputId": "5698acc1-165a-46c2-88c9-7a358a078181",
        "colab": {}
      },
      "source": [
        "trainAndEvaluateClassifier('Restaurants', 'Logistic Regression',\n",
        "                               lr_clf, X_rest_train, y_rest_train, X_rest_test, y_rest_test )"
      ],
      "execution_count": 0,
      "outputs": [
        {
          "output_type": "stream",
          "text": [
            "For Category Restaurants Evaluation Report for Classifier: Logistic Regression \n",
            "\n",
            "             precision    recall  f1-score   support\n",
            "\n",
            "          0       0.75      0.80      0.78       145\n",
            "          1       0.90      0.87      0.88       287\n",
            "\n",
            "avg / total       0.85      0.84      0.85       432\n",
            "\n",
            "Accuracy: 0.844907407407 \n",
            "\n",
            "Confusion Matrix \n"
          ],
          "name": "stdout"
        },
        {
          "output_type": "display_data",
          "data": {
            "image/png": "[encoded data removed]",
            "text/plain": [
              "<matplotlib.figure.Figure at 0x1f20a3bc978>"
            ]
          },
          "metadata": {
            "tags": []
          }
        }
      ]
    },
    {
      "cell_type": "markdown",
      "metadata": {
        "colab_type": "text",
        "collapsed": true,
        "id": "R0-IoVK5ZDmA"
      },
      "source": [
        "### Train a classification model on the data from “Restaurants”, and \n",
        "### evaluate its performance on the data from “Hotel & Travels”"
      ]
    },
    {
      "cell_type": "code",
      "metadata": {
        "id": "lWTBBobwuQuo",
        "colab_type": "code",
        "colab": {}
      },
      "source": [
        "bow_vec = CountVectorizer(analyzer=preprocessReviewText,min_df = 3)\n",
        "bow_rest_transformed = bow_vec.fit_transform(X_restaurants)\n",
        "transformed_for_ht = bow_vec.transform(X_hotels_travels)\n",
        "lr_clf = LogisticRegression(C=1, class_weight=None, dual=False, fit_intercept=True,\n",
        "          intercept_scaling=1, max_iter=100, multi_class='ovr', n_jobs=1,\n",
        "          penalty='l2', random_state=None, solver='liblinear', tol=0.0001,\n",
        "          verbose=0, warm_start=False)"
      ],
      "execution_count": 0,
      "outputs": []
    },
    {
      "cell_type": "code",
      "metadata": {
        "id": "hdX-l4d_uQut",
        "colab_type": "code",
        "colab": {}
      },
      "source": [
        "X_ht_train, X_ht_test, y_ht_train, y_ht_test = train_test_split(transformed_for_ht, y_hotels_travels, \n",
        "                                                                test_size=0.3, random_state=101)"
      ],
      "execution_count": 0,
      "outputs": []
    },
    {
      "cell_type": "code",
      "metadata": {
        "id": "-6MdJfBluQu1",
        "colab_type": "code",
        "outputId": "fa0de6e0-477d-4de6-9e79-7283545741df",
        "colab": {}
      },
      "source": [
        "trainAndEvaluateClassifier('Hotels & Travels', 'Logistic Regression',\n",
        "                               lr_clf, X_ht_train, y_ht_train, X_ht_test, y_ht_test )"
      ],
      "execution_count": 0,
      "outputs": [
        {
          "output_type": "stream",
          "text": [
            "For Category Hotels & Travels Evaluation Report for Classifier: Logistic Regression \n",
            "\n",
            "             precision    recall  f1-score   support\n",
            "\n",
            "          0       0.91      0.79      0.85       201\n",
            "          1       0.83      0.93      0.88       222\n",
            "\n",
            "avg / total       0.87      0.86      0.86       423\n",
            "\n",
            "Accuracy: 0.862884160757 \n",
            "\n",
            "Confusion Matrix \n"
          ],
          "name": "stdout"
        },
        {
          "output_type": "display_data",
          "data": {
            "image/png": "[encoded data removed]",
            "text/plain": [
              "<matplotlib.figure.Figure at 0x1f211695080>"
            ]
          },
          "metadata": {
            "tags": []
          }
        }
      ]
    },
    {
      "cell_type": "code",
      "metadata": {
        "id": "iRLRBzNYuQu3",
        "colab_type": "code",
        "outputId": "549403c9-52e7-44b1-bd2c-02e78229e215",
        "colab": {}
      },
      "source": [
        "for cat in model_list.keys():\n",
        "    generateROC(model_list[cat])"
      ],
      "execution_count": 0,
      "outputs": [
        {
          "output_type": "display_data",
          "data": {
            "image/png": "[encoded data removed]",
            "text/plain": [
              "<matplotlib.figure.Figure at 0x1f20fe9eb70>"
            ]
          },
          "metadata": {
            "tags": []
          }
        },
        {
          "output_type": "display_data",
          "data": {
            "image/png": "[encoded data removed]",
            "text/plain": [
              "<matplotlib.figure.Figure at 0x1f210eb8860>"
            ]
          },
          "metadata": {
            "tags": []
          }
        }
      ]
    },
    {
      "cell_type": "markdown",
      "metadata": {
        "id": "53RKXCZ1uQu7",
        "colab_type": "text"
      },
      "source": [
        "### Experiment Summary"
      ]
    },
    {
      "cell_type": "code",
      "metadata": {
        "id": "LJhPfK5zuQu-",
        "colab_type": "code",
        "outputId": "fe0f967d-7fe6-405e-b5af-9f0c2f5acd18",
        "colab": {}
      },
      "source": [
        "results_df = pd.DataFrame(eval_records, columns=columns)\n",
        "\n",
        "# Sort the rows of dataframe by column 'Name' inplace\n",
        "results_df.sort_values(by='Accuracy' , ascending=False, inplace=True)\n",
        "\n",
        "results_df"
      ],
      "execution_count": 0,
      "outputs": [
        {
          "output_type": "execute_result",
          "data": {
            "text/html": [
              "<div>\n",
              "<style scoped>\n",
              "    .dataframe tbody tr th:only-of-type {\n",
              "        vertical-align: middle;\n",
              "    }\n",
              "\n",
              "    .dataframe tbody tr th {\n",
              "        vertical-align: top;\n",
              "    }\n",
              "\n",
              "    .dataframe thead th {\n",
              "        text-align: right;\n",
              "    }\n",
              "</style>\n",
              "<table border=\"1\" class=\"dataframe\">\n",
              "  <thead>\n",
              "    <tr style=\"text-align: right;\">\n",
              "      <th></th>\n",
              "      <th>Category</th>\n",
              "      <th>Classifier</th>\n",
              "      <th>Precision</th>\n",
              "      <th>Recall</th>\n",
              "      <th>F1 Score</th>\n",
              "      <th>Accuracy</th>\n",
              "    </tr>\n",
              "  </thead>\n",
              "  <tbody>\n",
              "    <tr>\n",
              "      <th>1</th>\n",
              "      <td>Hotels &amp; Travels</td>\n",
              "      <td>Logistic Regression</td>\n",
              "      <td>0.862884</td>\n",
              "      <td>0.862884</td>\n",
              "      <td>0.862884</td>\n",
              "      <td>0.862884</td>\n",
              "    </tr>\n",
              "    <tr>\n",
              "      <th>0</th>\n",
              "      <td>Restaurants</td>\n",
              "      <td>Logistic Regression</td>\n",
              "      <td>0.844907</td>\n",
              "      <td>0.844907</td>\n",
              "      <td>0.844907</td>\n",
              "      <td>0.844907</td>\n",
              "    </tr>\n",
              "  </tbody>\n",
              "</table>\n",
              "</div>"
            ],
            "text/plain": [
              "           Category           Classifier  Precision    Recall  F1 Score  \\\n",
              "1  Hotels & Travels  Logistic Regression   0.862884  0.862884  0.862884   \n",
              "0       Restaurants  Logistic Regression   0.844907  0.844907  0.844907   \n",
              "\n",
              "   Accuracy  \n",
              "1  0.862884  \n",
              "0  0.844907  "
            ]
          },
          "metadata": {
            "tags": []
          },
          "execution_count": 741
        }
      ]
    },
    {
      "cell_type": "markdown",
      "metadata": {
        "id": "uhk9s-OFvcwg",
        "colab_type": "text"
      },
      "source": [
        "## Observation\n",
        "\n",
        "*  In this particular case Models category transfer worked pretty well because hotels & travels is similar domain as other category Restaurants.\n",
        "\n",
        "* This is not the valid way of comparison as the vocabulary it built upon won't be efficient to predict from text data of different domain\n",
        "\n",
        "* vectorization significance will get decreased.\n",
        "\n",
        "* Class imbalance in Restaurant category handling will lead to greater accuracy and imporve recall on other class as well."
      ]
    }
  ]
}