{
  "nbformat": 4,
  "nbformat_minor": 0,
  "metadata": {
    "colab": {
      "name": "Text Preprocessing & Web Scraping.ipynb",
      "version": "0.3.2",
      "provenance": [],
      "collapsed_sections": [],
      "include_colab_link": true
    },
    "kernelspec": {
      "display_name": "Python 3",
      "language": "python",
      "name": "python3"
    }
  },
  "cells": [
    {
      "cell_type": "markdown",
      "metadata": {
        "id": "view-in-github",
        "colab_type": "text"
      },
      "source": [
        "<a href=\"https://colab.research.google.com/github/rex17/Machine-Learning-Practice/blob/master/Text%20Analytics/Text%20Preprocessing%20%26%20Web%20Scraping.ipynb\" target=\"_parent\"><img src=\"https://colab.research.google.com/assets/colab-badge.svg\" alt=\"Open In Colab\"/></a>"
      ]
    },
    {
      "metadata": {
        "id": "aIeKGJ-ss9Fa",
        "colab_type": "text"
      },
      "cell_type": "markdown",
      "source": [
        "# Text Preprocessing & Web Scraping"
      ]
    },
    {
      "metadata": {
        "id": "yH0waHvps9Fh",
        "colab_type": "text"
      },
      "cell_type": "markdown",
      "source": [
        "## Sample Data Import"
      ]
    },
    {
      "metadata": {
        "id": "wMqYm-uvs9Fk",
        "colab_type": "code",
        "colab": {},
        "outputId": "8e625da2-f443-429d-fcea-4779792d82e8"
      },
      "cell_type": "code",
      "source": [
        "import nltk\n",
        "file_handle = open('test_text.txt') # text file containing more than 200 words\n",
        "text_data = file_handle.read()\n",
        "text_data"
      ],
      "execution_count": 0,
      "outputs": [
        {
          "output_type": "execute_result",
          "data": {
            "text/plain": [
              "'Hackers are illegally generating Monero, Bitcoin and other cryptocurrencies by exploiting a software flaw that was leaked from the U.S. government, according to new research, raising questions about the security of one of the fastest-growing corners of financial markets.\\nDetected cases of illicit cryptocurrency mining -- the digital equivalent of minting money -- have surged 459 percent in 2018 compared to last year, Cyber Threat Alliance said in a report released Wednesday.\\nThe spike is tied to the 2017 leak of Eternal Blue, a tool to exploit vulnerabilities in outdated Microsoft Systems software. When the tool became known, it tipped hackers to a previously unknown flaw in the software, now the basis of some hackersâ€™ efforts to commandeer computing power of others to generate digital currency.\\nAs of July this year, 85 percent of all illicit cryptocurrency mining has targeted Monero, according to the report. Bitcoin made up about 8 percent, while other cryptocurrencies accounted for 7 percent.\\nHackers can \"sit back and watch the money roll in,\" said Neil Jenkins, chief analytic officer of Cyber Threat Alliance, a group formed in 2014 by a consortium of cyber-security firms to share intelligence about cyber-threats. While the hacks are occurring across the globe, a significant portion are in the U.S., he added.\\n\\n'"
            ]
          },
          "metadata": {
            "tags": []
          },
          "execution_count": 36
        }
      ]
    },
    {
      "metadata": {
        "id": "k_P3URdvtP-j",
        "colab_type": "text"
      },
      "cell_type": "markdown",
      "source": [
        "## Tokenization"
      ]
    },
    {
      "metadata": {
        "id": "10ECXZXZs9F4",
        "colab_type": "code",
        "colab": {},
        "outputId": "09c88777-b07b-4726-ff1e-4e983650acff"
      },
      "cell_type": "code",
      "source": [
        "tokens = nltk.word_tokenize(text_data)\n",
        "print(tokens)"
      ],
      "execution_count": 0,
      "outputs": [
        {
          "output_type": "stream",
          "text": [
            "['Hackers', 'are', 'illegally', 'generating', 'Monero', ',', 'Bitcoin', 'and', 'other', 'cryptocurrencies', 'by', 'exploiting', 'a', 'software', 'flaw', 'that', 'was', 'leaked', 'from', 'the', 'U.S.', 'government', ',', 'according', 'to', 'new', 'research', ',', 'raising', 'questions', 'about', 'the', 'security', 'of', 'one', 'of', 'the', 'fastest-growing', 'corners', 'of', 'financial', 'markets', '.', 'Detected', 'cases', 'of', 'illicit', 'cryptocurrency', 'mining', '--', 'the', 'digital', 'equivalent', 'of', 'minting', 'money', '--', 'have', 'surged', '459', 'percent', 'in', '2018', 'compared', 'to', 'last', 'year', ',', 'Cyber', 'Threat', 'Alliance', 'said', 'in', 'a', 'report', 'released', 'Wednesday', '.', 'The', 'spike', 'is', 'tied', 'to', 'the', '2017', 'leak', 'of', 'Eternal', 'Blue', ',', 'a', 'tool', 'to', 'exploit', 'vulnerabilities', 'in', 'outdated', 'Microsoft', 'Systems', 'software', '.', 'When', 'the', 'tool', 'became', 'known', ',', 'it', 'tipped', 'hackers', 'to', 'a', 'previously', 'unknown', 'flaw', 'in', 'the', 'software', ',', 'now', 'the', 'basis', 'of', 'some', 'hackersâ€™', 'efforts', 'to', 'commandeer', 'computing', 'power', 'of', 'others', 'to', 'generate', 'digital', 'currency', '.', 'As', 'of', 'July', 'this', 'year', ',', '85', 'percent', 'of', 'all', 'illicit', 'cryptocurrency', 'mining', 'has', 'targeted', 'Monero', ',', 'according', 'to', 'the', 'report', '.', 'Bitcoin', 'made', 'up', 'about', '8', 'percent', ',', 'while', 'other', 'cryptocurrencies', 'accounted', 'for', '7', 'percent', '.', 'Hackers', 'can', '``', 'sit', 'back', 'and', 'watch', 'the', 'money', 'roll', 'in', ',', \"''\", 'said', 'Neil', 'Jenkins', ',', 'chief', 'analytic', 'officer', 'of', 'Cyber', 'Threat', 'Alliance', ',', 'a', 'group', 'formed', 'in', '2014', 'by', 'a', 'consortium', 'of', 'cyber-security', 'firms', 'to', 'share', 'intelligence', 'about', 'cyber-threats', '.', 'While', 'the', 'hacks', 'are', 'occurring', 'across', 'the', 'globe', ',', 'a', 'significant', 'portion', 'are', 'in', 'the', 'U.S.', ',', 'he', 'added', '.']\n"
          ],
          "name": "stdout"
        }
      ]
    },
    {
      "metadata": {
        "id": "Lv1WP8tUs9GF",
        "colab_type": "text"
      },
      "cell_type": "markdown",
      "source": [
        " ### Oddities and how they might be handled\n",
        "* Chars ',' , '.' , '--',`` are not required punctuation - Removed using filter-lambda function\n",
        "* Words like a, an, the, are like insignificant words can be removed using NLTK stopwords corpus\n"
      ]
    },
    {
      "metadata": {
        "id": "ijMkt7Hks9GI",
        "colab_type": "text"
      },
      "cell_type": "markdown",
      "source": [
        "## Punctuation and Stop Words Removal"
      ]
    },
    {
      "metadata": {
        "id": "UFVBCSmTs9GJ",
        "colab_type": "code",
        "colab": {},
        "outputId": "7e56dd6a-4966-44c7-9404-bca026e5716f"
      },
      "cell_type": "code",
      "source": [
        "token_punc_removed = list(filter(lambda word: word not in \"',--.``''\", tokens))\n",
        "from nltk.corpus import stopwords\n",
        "token_stopwords_removed = list(filter(lambda word: word not in set(stopwords.words('english')), token_punc_removed))\n",
        "norm_tokens = [word.lower() for word in token_stopwords_removed ]\n",
        "print(norm_tokens)"
      ],
      "execution_count": 0,
      "outputs": [
        {
          "output_type": "stream",
          "text": [
            "['hackers', 'illegally', 'generating', 'monero', 'bitcoin', 'cryptocurrencies', 'exploiting', 'software', 'flaw', 'leaked', 'u.s.', 'government', 'according', 'new', 'research', 'raising', 'questions', 'security', 'one', 'fastest-growing', 'corners', 'financial', 'markets', 'detected', 'cases', 'illicit', 'cryptocurrency', 'mining', 'digital', 'equivalent', 'minting', 'money', 'surged', '459', 'percent', '2018', 'compared', 'last', 'year', 'cyber', 'threat', 'alliance', 'said', 'report', 'released', 'wednesday', 'the', 'spike', 'tied', '2017', 'leak', 'eternal', 'blue', 'tool', 'exploit', 'vulnerabilities', 'outdated', 'microsoft', 'systems', 'software', 'when', 'tool', 'became', 'known', 'tipped', 'hackers', 'previously', 'unknown', 'flaw', 'software', 'basis', 'hackersâ€™', 'efforts', 'commandeer', 'computing', 'power', 'others', 'generate', 'digital', 'currency', 'as', 'july', 'year', '85', 'percent', 'illicit', 'cryptocurrency', 'mining', 'targeted', 'monero', 'according', 'report', 'bitcoin', 'made', '8', 'percent', 'cryptocurrencies', 'accounted', '7', 'percent', 'hackers', 'sit', 'back', 'watch', 'money', 'roll', 'said', 'neil', 'jenkins', 'chief', 'analytic', 'officer', 'cyber', 'threat', 'alliance', 'group', 'formed', '2014', 'consortium', 'cyber-security', 'firms', 'share', 'intelligence', 'cyber-threats', 'while', 'hacks', 'occurring', 'across', 'globe', 'significant', 'portion', 'u.s.', 'added']\n"
          ],
          "name": "stdout"
        }
      ]
    },
    {
      "metadata": {
        "id": "6LpMaID6s9GT",
        "colab_type": "text"
      },
      "cell_type": "markdown",
      "source": [
        "## Part of Speech Tagging "
      ]
    },
    {
      "metadata": {
        "id": "gdBcRyzvs9GV",
        "colab_type": "code",
        "colab": {},
        "outputId": "4891c0fc-cc17-49d5-b086-d3b3d781b6f1"
      },
      "cell_type": "code",
      "source": [
        "text_with_pos = nltk.pos_tag(norm_tokens)\n",
        "print(text_with_pos)"
      ],
      "execution_count": 0,
      "outputs": [
        {
          "output_type": "stream",
          "text": [
            "[('hackers', 'NNS'), ('illegally', 'RB'), ('generating', 'VBG'), ('monero', 'NN'), ('bitcoin', 'NN'), ('cryptocurrencies', 'NNS'), ('exploiting', 'VBG'), ('software', 'NN'), ('flaw', 'NN'), ('leaked', 'VBD'), ('u.s.', 'JJ'), ('government', 'NN'), ('according', 'VBG'), ('new', 'JJ'), ('research', 'NN'), ('raising', 'VBG'), ('questions', 'NNS'), ('security', 'NN'), ('one', 'CD'), ('fastest-growing', 'NN'), ('corners', 'NNS'), ('financial', 'JJ'), ('markets', 'NNS'), ('detected', 'VBD'), ('cases', 'NNS'), ('illicit', 'JJ'), ('cryptocurrency', 'NN'), ('mining', 'NN'), ('digital', 'JJ'), ('equivalent', 'JJ'), ('minting', 'VBG'), ('money', 'NN'), ('surged', 'VBD'), ('459', 'CD'), ('percent', 'NN'), ('2018', 'CD'), ('compared', 'VBN'), ('last', 'JJ'), ('year', 'NN'), ('cyber', 'VBD'), ('threat', 'NN'), ('alliance', 'NN'), ('said', 'VBD'), ('report', 'NN'), ('released', 'VBN'), ('wednesday', 'IN'), ('the', 'DT'), ('spike', 'NN'), ('tied', 'VBD'), ('2017', 'CD'), ('leak', 'JJ'), ('eternal', 'JJ'), ('blue', 'NN'), ('tool', 'NN'), ('exploit', 'JJ'), ('vulnerabilities', 'NNS'), ('outdated', 'VBD'), ('microsoft', 'JJ'), ('systems', 'NNS'), ('software', 'NN'), ('when', 'WRB'), ('tool', 'NN'), ('became', 'VBD'), ('known', 'VBN'), ('tipped', 'JJ'), ('hackers', 'NNS'), ('previously', 'RB'), ('unknown', 'JJ'), ('flaw', 'NN'), ('software', 'NN'), ('basis', 'NN'), ('hackersâ€™', 'NN'), ('efforts', 'NNS'), ('commandeer', 'NN'), ('computing', 'VBG'), ('power', 'NN'), ('others', 'NNS'), ('generate', 'VBP'), ('digital', 'JJ'), ('currency', 'NN'), ('as', 'IN'), ('july', 'JJ'), ('year', 'NN'), ('85', 'CD'), ('percent', 'NN'), ('illicit', 'NN'), ('cryptocurrency', 'NN'), ('mining', 'NN'), ('targeted', 'VBD'), ('monero', 'CD'), ('according', 'VBG'), ('report', 'NN'), ('bitcoin', 'NN'), ('made', 'VBD'), ('8', 'CD'), ('percent', 'NN'), ('cryptocurrencies', 'NNS'), ('accounted', 'VBD'), ('7', 'CD'), ('percent', 'NN'), ('hackers', 'NNS'), ('sit', 'VBP'), ('back', 'RB'), ('watch', 'JJ'), ('money', 'NN'), ('roll', 'NN'), ('said', 'VBD'), ('neil', 'JJ'), ('jenkins', 'NNS'), ('chief', 'JJ'), ('analytic', 'JJ'), ('officer', 'NN'), ('cyber', 'NN'), ('threat', 'NN'), ('alliance', 'NN'), ('group', 'NN'), ('formed', 'VBD'), ('2014', 'CD'), ('consortium', 'NN'), ('cyber-security', 'NN'), ('firms', 'NNS'), ('share', 'NN'), ('intelligence', 'NN'), ('cyber-threats', 'NNS'), ('while', 'IN'), ('hacks', 'NNS'), ('occurring', 'VBG'), ('across', 'IN'), ('globe', 'NN'), ('significant', 'JJ'), ('portion', 'NN'), ('u.s.', 'NN'), ('added', 'VBD')]\n"
          ],
          "name": "stdout"
        }
      ]
    },
    {
      "metadata": {
        "id": "ef1jSZ0Vs9Gj",
        "colab_type": "text"
      },
      "cell_type": "markdown",
      "source": [
        "# Stemming with Porter Stemmer "
      ]
    },
    {
      "metadata": {
        "id": "LzfkqFqHs9Gp",
        "colab_type": "code",
        "colab": {},
        "outputId": "99385e22-7f8f-429c-8aa4-ed6407e0bfdb"
      },
      "cell_type": "code",
      "source": [
        "from nltk.stem import PorterStemmer\n",
        "file_handle = open('test_text_2.txt') # text file containing more than 200 words\n",
        "text_data = file_handle.read()\n",
        "text_data"
      ],
      "execution_count": 0,
      "outputs": [
        {
          "output_type": "execute_result",
          "data": {
            "text/plain": [
              "'A Met Eireann forecaster said: \"Cloudy this morning with outbreaks of rain. Brighter this afternoon and evening as rain clears. Cool. Highest temperatures 12 to 14 degrees.\\n\\n\"Dry tonight with good clear spells. Cool with light winds. Minimum temperatures 4 to 6 degrees.\\n\\n\"Fine and dry tomorrow. Good sunny spells. Light northwest breezes. High of 12 to 14 degrees.\"\\n\\nThese low temperatures are expected to last into next week although it will be very dry.\\n\\nThe forecaster added: \"Other than isolated showers near north coasts, Sunday night will be dry but noticeably cool.\\n\\n\"Both Monday and Tuesday will be fine and dry days with varying cloud and sunny spells. Daytime temperatures however will be on the cool side- typically in the low to mid - teens.\\n\\n\"Even though winds will be light and variable, night will be distinctly chilly with grass frosts in places.\\n\\n\"It will get somewhat milder for Wednesday and Thursday as southwest breezes pick up. Most of the south and east of the country staying dry with light winds, but outbreaks of rain will affect northwestern counties at times.\\n\\n\"The latter part of the week will continue essentially dry. It\\'ll be milder too with winds staying light, but a little rain may recur near north coasts.\" '"
            ]
          },
          "metadata": {
            "tags": []
          },
          "execution_count": 28
        }
      ]
    },
    {
      "metadata": {
        "id": "vRJxE-bYs9G3",
        "colab_type": "code",
        "colab": {},
        "outputId": "df9fc333-422f-48fb-ec75-954b48d6234b"
      },
      "cell_type": "code",
      "source": [
        "tokens = nltk.word_tokenize(text_data)\n",
        "norm_tokens = [word.lower() for word in tokens ]\n",
        "token_punc_removed = list(filter(lambda word: word not in \"',--:.``''\", norm_tokens))\n",
        "token_stopwords_removed = list(filter(lambda word: word not in set(stopwords.words('english')), token_punc_removed))\n",
        "stemmer = PorterStemmer()\n",
        "after_stemming = [stemmer.stem(token) for token in token_stopwords_removed] \n",
        "print(after_stemming)"
      ],
      "execution_count": 0,
      "outputs": [
        {
          "output_type": "stream",
          "text": [
            "['met', 'eireann', 'forecast', 'said', 'cloudi', 'morn', 'outbreak', 'rain', 'brighter', 'afternoon', 'even', 'rain', 'clear', 'cool', 'highest', 'temperatur', '12', '14', 'degre', 'dri', 'tonight', 'good', 'clear', 'spell', 'cool', 'light', 'wind', 'minimum', 'temperatur', '4', '6', 'degre', 'fine', 'dri', 'tomorrow', 'good', 'sunni', 'spell', 'light', 'northwest', 'breez', 'high', '12', '14', 'degre', 'low', 'temperatur', 'expect', 'last', 'next', 'week', 'although', 'dri', 'forecast', 'ad', 'isol', 'shower', 'near', 'north', 'coast', 'sunday', 'night', 'dri', 'notic', 'cool', 'monday', 'tuesday', 'fine', 'dri', 'day', 'vari', 'cloud', 'sunni', 'spell', 'daytim', 'temperatur', 'howev', 'cool', 'side-', 'typic', 'low', 'mid', 'teen', 'even', 'though', 'wind', 'light', 'variabl', 'night', 'distinctli', 'chilli', 'grass', 'frost', 'place', 'get', 'somewhat', 'milder', 'wednesday', 'thursday', 'southwest', 'breez', 'pick', 'south', 'east', 'countri', 'stay', 'dri', 'light', 'wind', 'outbreak', 'rain', 'affect', 'northwestern', 'counti', 'time', 'latter', 'part', 'week', 'continu', 'essenti', 'dri', \"'ll\", 'milder', 'wind', 'stay', 'light', 'littl', 'rain', 'may', 'recur', 'near', 'north', 'coast']\n"
          ],
          "name": "stdout"
        }
      ]
    },
    {
      "metadata": {
        "id": "qTd5gTmqs9HJ",
        "colab_type": "text"
      },
      "cell_type": "markdown",
      "source": [
        "#### Porter Stemming have removed the suffixes from words such as \n",
        "\n",
        "* \"er\" from \"forecaster\" to forecast\n",
        "* \"ing\" fron \"morning\" to morn -> this have changed the semantics\n",
        "* \"ing\" from evening that became even which is also affected the semantics\n",
        "* it dosent consider the context of the words when stemming it."
      ]
    },
    {
      "metadata": {
        "id": "0o-6a8_ut2Hv",
        "colab_type": "text"
      },
      "cell_type": "markdown",
      "source": [
        "# Lemmatization with WordNetLemmatizer"
      ]
    },
    {
      "metadata": {
        "id": "m9oY5YRVs9HM",
        "colab_type": "code",
        "colab": {},
        "outputId": "fdc47700-8e18-4a22-a6c0-41e1d60fac88"
      },
      "cell_type": "code",
      "source": [
        "print(\"\\n================== After Porter Stemming ===================\\n\")\n",
        "print(\" \".join(after_stemming))\n",
        "pos_tagged = nltk.pos_tag(token_stopwords_removed)\n",
        "\n",
        "def convert_tags(tag):\n",
        "    if tag == 'vbd' or tag == 'vbg' or tag == 'vbz':\n",
        "        return 'v'\n",
        "    else:\n",
        "        return 'n'\n",
        "\n",
        "wnl = nltk.WordNetLemmatizer()\n",
        "print(\"\\n================== After Lemmatization ===================\\n\")\n",
        "after_lemmatization = []\n",
        "for item in pos_tagged:\n",
        "    new_tag = convert_tags(item[1].lower())\n",
        "    out = wnl.lemmatize(item[0], new_tag)\n",
        "    after_lemmatization.append(out)\n",
        "\n",
        "print(\" \".join(after_lemmatization))"
      ],
      "execution_count": 0,
      "outputs": [
        {
          "output_type": "stream",
          "text": [
            "\n",
            "================== After Porter Stemming ===================\n",
            "\n",
            "met eireann forecast said cloudi morn outbreak rain brighter afternoon even rain clear cool highest temperatur 12 14 degre dri tonight good clear spell cool light wind minimum temperatur 4 6 degre fine dri tomorrow good sunni spell light northwest breez high 12 14 degre low temperatur expect last next week although dri forecast ad isol shower near north coast sunday night dri notic cool monday tuesday fine dri day vari cloud sunni spell daytim temperatur howev cool side- typic low mid teen even though wind light variabl night distinctli chilli grass frost place get somewhat milder wednesday thursday southwest breez pick south east countri stay dri light wind outbreak rain affect northwestern counti time latter part week continu essenti dri 'll milder wind stay light littl rain may recur near north coast\n",
            "\n",
            "================== After Lemmatization ===================\n",
            "\n",
            "met eireann forecaster say cloudy morning outbreak rain brighter afternoon even rain clear cool highest temperature 12 14 degree dry tonight good clear spell cool light wind minimum temperature 4 6 degree fine dry tomorrow good sunny spell light northwest breeze high 12 14 degree low temperature expected last next week although dry forecaster add isolated shower near north coast sunday night dry noticeably cool monday tuesday fine dry day vary cloud sunny spell daytime temperature however cool side- typically low mid teen even though wind light variable night distinctly chilly grass frost place get somewhat milder wednesday thursday southwest breeze pick south east country stay dry light wind outbreak rain affect northwestern county time latter part week continue essentially dry 'll milder wind stay light little rain may recur near north coast\n"
          ],
          "name": "stdout"
        }
      ]
    },
    {
      "metadata": {
        "id": "IEVPdSSys9HU",
        "colab_type": "text"
      },
      "cell_type": "markdown",
      "source": [
        "## Observation : \n",
        "After comparison of Porter Stemming and Lemmatization results I think Lemmatization technique is better because it relates words as per context and keep it whole which keep semantics intact. On the other hand stemming distort the meaning of words more frequently."
      ]
    },
    {
      "metadata": {
        "id": "W0FuzXc7s9HW",
        "colab_type": "text"
      },
      "cell_type": "markdown",
      "source": [
        "# Web Scraping with BeautifulSoup - IMDB top 50 list 2018"
      ]
    },
    {
      "metadata": {
        "id": "8lPMxD5As9HX",
        "colab_type": "text"
      },
      "cell_type": "markdown",
      "source": [
        "*Accessed IMDB Site to get to the list of top 50 movies of 2018 by Number of votes*'\n",
        "\n",
        "Used beautifulSoup with inspect element to get the Name of the class of the div which had the Title of the movie from each movie description snippet."
      ]
    },
    {
      "metadata": {
        "scrolled": true,
        "id": "oNL3Gt1bs9Ha",
        "colab_type": "code",
        "colab": {},
        "outputId": "e42f81b1-4715-46d1-b668-3a93cd64f90b"
      },
      "cell_type": "code",
      "source": [
        "import urllib.request, urllib.parse, urllib.error\n",
        "from bs4 import BeautifulSoup as bsup\n",
        "\n",
        "url = \"https://www.imdb.com/search/title?release_date=2018&sort=num_votes,desc&page=1\"\n",
        "html = urllib.request.urlopen(url).read()\n",
        "\n",
        "soup = bsup(html,'html.parser')\n",
        "movies_divs = soup.find_all('div', class_ = 'lister-item mode-advanced')\n",
        "print(soup.title)\n",
        "top_50_movie_list = []\n",
        "for item in movies_divs:\n",
        "    top_50_movie_list.append(item.h3.a.text)\n",
        "print(top_50_movie_list)"
      ],
      "execution_count": 0,
      "outputs": [
        {
          "output_type": "stream",
          "text": [
            "<title>IMDb: Most Voted Titles Released 2018-01-01 to 2018-12-31 - IMDb</title>\n",
            "['Avengers: Infinity War', 'Black Panther', 'Deadpool 2', 'Ready Player One', 'A Quiet Place', 'Annihilation', 'Jurassic World: Fallen Kingdom', 'Solo: A Star Wars Story', 'Mission: Impossible - Fallout', 'Tomb Raider', 'Game Night', 'Red Sparrow', 'Incredibles 2', 'Ant-Man and the Wasp', 'Altered Carbon', 'Hereditary', 'Rampage', \"Ocean's Eight\", 'Maze Runner: The Death Cure', 'Isle of Dogs', 'The Cloverfield Paradox', 'Pacific Rim: Uprising', 'The Commuter', 'Love, Simon', 'Upgrade', 'Den of Thieves', 'Enes Batur Hayal mi Gerçek mi?', 'Tag', 'The Meg', 'Lost in Space', 'Sicario: Day of the Soldado', 'Sacred Games', 'Blockers', 'Skyscraper', '12 Strong', 'Death Wish', 'The Nun', \"To All the Boys I've Loved Before\", 'Fifty Shades Freed', 'Insidious: The Last Key', 'O Mecanismo', 'Mamma Mia! Here We Go Again', 'BlacKkKlansman', 'The Kissing Booth', 'Sanju', 'When We First Met', 'Extinction', 'I Feel Pretty', 'How It Ends', 'The Equalizer 2']\n"
          ],
          "name": "stdout"
        }
      ]
    },
    {
      "metadata": {
        "id": "5FnadfMms9Hl",
        "colab_type": "text"
      },
      "cell_type": "markdown",
      "source": [
        "$ python bs_impl.py<br>\n",
        "IMDb: Most Voted Titles Released 2018-01-01 to 2018-12-31 - IMDb<br>\n",
        "['Avengers: Infinity War', 'Black Panther', 'Deadpool 2', 'Ready Player One', 'A Quiet Place', 'Annihilation', 'Jurassic World: Fallen Kingdom', 'Solo: A Star Wars Story', 'Mission: Impossible - Fallout', 'Tomb Raider', 'Game Night', 'Red Sparrow', 'Incredibles 2', 'Ant-Man and the Wasp', 'Altered Carbon', 'Rampage', 'Hereditary', \"Ocean's Eight\", 'Maze Runner: The Death Cure', 'The Cloverfield Paradox', 'Isle of Dogs', 'Pacific Rim: Uprising', 'The Commuter', 'Love, Simon', 'Upgrade', 'Den of Thieves', 'Enes Batur Hayal mi Gerçek mi?', 'Tag', 'Lost in Space', 'The Meg', 'Sacred Games', 'Blockers', 'Sicario: Day of the Soldado', '12 Strong', 'Skyscraper', 'Death Wish', \"To All the Boys I've Loved Before\", 'Fifty Shades Freed', 'The Nun', 'Insidious: The Last Key', 'O Mecanismo', 'Mamma Mia! Here We Go Again', 'BlacKkKlansman', 'The Kissing Booth', 'Sanju', 'When We First Met', 'Extinction', 'I Feel Pretty', 'How It Ends', 'The Equalizer 2']"
      ]
    }
  ]
}