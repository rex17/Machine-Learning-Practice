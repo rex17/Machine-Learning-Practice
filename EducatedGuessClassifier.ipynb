{
  "nbformat": 4,
  "nbformat_minor": 0,
  "metadata": {
    "colab": {
      "name": "EducatedGuessClassifier.ipynb",
      "version": "0.3.2",
      "provenance": [],
      "collapsed_sections": [],
      "toc_visible": true,
      "include_colab_link": true
    },
    "kernelspec": {
      "name": "python3",
      "display_name": "Python 3"
    },
    "accelerator": "TPU"
  },
  "cells": [
    {
      "cell_type": "markdown",
      "metadata": {
        "id": "view-in-github",
        "colab_type": "text"
      },
      "source": [
        "<a href=\"https://colab.research.google.com/github/rex17/Machine-Learning-Practice/blob/master/EducatedGuessClassifier.ipynb\" target=\"_parent\"><img src=\"https://colab.research.google.com/assets/colab-badge.svg\" alt=\"Open In Colab\"/></a>"
      ]
    },
    {
      "metadata": {
        "id": "m8zstCpj50xK",
        "colab_type": "text"
      },
      "cell_type": "markdown",
      "source": [
        "# Machine Learning in Python - Roll your Own Estimator Example"
      ]
    },
    {
      "metadata": {
        "id": "dpeMz1HP50xS",
        "colab_type": "text"
      },
      "cell_type": "markdown",
      "source": [
        "This notebooks demonstrates how scikit-learn can be extended to include new models by implementing the **EducatedGuessClassifier**. \n",
        "\n",
        "The **EducatedGuessClassifier** is a **very naive** classification algorithm that calculates the distribution across classes in a training dataset and when asked to make a prediction returns a random class selected according to that distribution. The EducatedGuessClassifier only works for categorical target features. \n",
        "\n",
        "The EducatedGuessClassifier is very simple:\n",
        "* **Training:** Simply calculate the distribtion across the target levels in the trianing dataset. And store these as a map.\n",
        "* **Prediction:** When a new prediction needs to draw a random value from the sistrubiton ddefined based on the training dataset. \n",
        "\n",
        "**NOTE THAT THE EDUCATEDGUESSCLASSIFIER IS A TERRIBLE MODEL AND IS ONLY USED AS A VERY SIMPLE DEMONSTRATION OF HOW TO IMPLEMENT AN ML ALGORITHM IN SCIKIT-LEARN**"
      ]
    },
    {
      "metadata": {
        "id": "nTahIInxVVWY",
        "colab_type": "code",
        "colab": {}
      },
      "cell_type": "code",
      "source": [
        ""
      ],
      "execution_count": 0,
      "outputs": []
    },
    {
      "metadata": {
        "id": "Ulo-pNaPVXVr",
        "colab_type": "code",
        "colab": {
          "resources": {
            "http://localhost:8080/nbextensions/google.colab/files.js": {
              "data": "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",
              "ok": true,
              "headers": [
                [
                  "content-type",
                  "application/javascript"
                ]
              ],
              "status": 200,
              "status_text": "OK"
            }
          },
          "base_uri": "https://localhost:8080/",
          "height": 146
        },
        "outputId": "04d00868-4317-4c12-8134-b9f2455fc12b"
      },
      "cell_type": "code",
      "source": [
        "from google.colab import files\n",
        "\n",
        "uploaded = files.upload()\n",
        "\n",
        "for fn in uploaded.keys():\n",
        "  print('User uploaded file \"{name}\" with length {length} bytes'.format(\n",
        "      name=fn, length=len(uploaded[fn])))"
      ],
      "execution_count": 3,
      "outputs": [
        {
          "output_type": "display_data",
          "data": {
            "text/html": [
              "\n",
              "     <input type=\"file\" id=\"files-61fc1ec3-9ebe-4f16-99e6-5a056297a7d2\" name=\"files[]\" multiple disabled />\n",
              "     <output id=\"result-61fc1ec3-9ebe-4f16-99e6-5a056297a7d2\">\n",
              "      Upload widget is only available when the cell has been executed in the\n",
              "      current browser session. Please rerun this cell to enable.\n",
              "      </output>\n",
              "      <script src=\"/nbextensions/google.colab/files.js\"></script> "
            ],
            "text/plain": [
              "<IPython.core.display.HTML object>"
            ]
          },
          "metadata": {
            "tags": []
          }
        },
        {
          "output_type": "stream",
          "text": [
            "Saving fashion-mnist_test.csv to fashion-mnist_test.csv\n",
            "Saving fashion-mnist_train.csv to fashion-mnist_train.csv\n",
            "User uploaded file \"fashion-mnist_test.csv\" with length 22176691 bytes\n",
            "User uploaded file \"fashion-mnist_train.csv\" with length 133047193 bytes\n"
          ],
          "name": "stdout"
        }
      ]
    },
    {
      "metadata": {
        "id": "VCiOvkj150xU",
        "colab_type": "text"
      },
      "cell_type": "markdown",
      "source": [
        "## Import Packages Etc"
      ]
    },
    {
      "metadata": {
        "id": "Ud0DYG1C50xf",
        "colab_type": "code",
        "colab": {}
      },
      "cell_type": "code",
      "source": [
        "from IPython.display import display, HTML, Image\n",
        "\n",
        "from TAS_Python_Utilities import data_viz\n",
        "from TAS_Python_Utilities import data_viz_target\n",
        "from TAS_Python_Utilities import visualize_tree\n",
        "\n",
        "import pandas as pd\n",
        "import numpy as np\n",
        "import matplotlib.pyplot as plt\n",
        "from matplotlib import pyplot\n",
        "import random\n",
        "\n",
        "from sklearn.model_selection import GridSearchCV\n",
        "from sklearn.model_selection import cross_val_score\n",
        "from sklearn.model_selection import train_test_split\n",
        "from sklearn.base import BaseEstimator, ClassifierMixin\n",
        "from sklearn.utils.validation import check_X_y, check_array, check_is_fitted\n",
        "from sklearn.utils.multiclass import unique_labels\n",
        "from sklearn import metrics\n",
        "from scipy.spatial import distance\n",
        "\n",
        "\n",
        "%matplotlib inline\n",
        "#%qtconsole"
      ],
      "execution_count": 0,
      "outputs": []
    },
    {
      "metadata": {
        "id": "H_HXQnfH50xp",
        "colab_type": "text"
      },
      "cell_type": "markdown",
      "source": [
        "## Define EducatedGuessClassifier"
      ]
    },
    {
      "metadata": {
        "id": "Wlhdfil150xu",
        "colab_type": "text"
      },
      "cell_type": "markdown",
      "source": [
        "Define and test out the EducatedGuessClassifier class. To build a scikit-learn classifier we extend from the **BaseEstimator** and **ClassifierMixin** classes and implement the **init**, **fit**, **predict**, and **predict_proba** methods."
      ]
    },
    {
      "metadata": {
        "id": "ON1sxLJ950xx",
        "colab_type": "text"
      },
      "cell_type": "markdown",
      "source": [
        "### Define the EducatedGuessClassifier Class"
      ]
    },
    {
      "metadata": {
        "id": "5yJ1rhut50x2",
        "colab_type": "code",
        "colab": {}
      },
      "cell_type": "code",
      "source": [
        "# Create a new classifier which is based on the sckit-learn BaseEstimator and ClassifierMixin classes\n",
        "class EducatedGuessClassifier(BaseEstimator, ClassifierMixin):\n",
        "    \"\"\"The EducatedGuessClassifier is a very naive classification algorithm that calculates the distribution across classes in a training dataset and when asked to make a prediction returns a random class selected according to that distribution. The EducatedGuessClassifier only works for categorical target features. \n",
        "        - Training: \n",
        "            Simply calculate the distribtion across the target levels \n",
        "            in the trianing dataset. And store these as a map.\n",
        "        - Prediction: \n",
        "            When a new prediction needs to draw a random value from the distrubiton \n",
        "            defined based on the training dataset. \n",
        "\n",
        "    Parameters\n",
        "    ----------\n",
        "    add_noise string, optional (default = False)\n",
        "        Whether or not a little bit of noise should be added to the distribution.\n",
        "\n",
        "    Attributes\n",
        "    ----------\n",
        "    classes_ : array of shape = [n_classes] \n",
        "        The class labels (single output problem).\n",
        "    distribution_: dict\n",
        "        A dictionary of the probability of each class.\n",
        "        \n",
        "    Notes\n",
        "    -----\n",
        "    \n",
        "\n",
        "    See also\n",
        "    --------\n",
        "    \n",
        "    ----------\n",
        "    \n",
        "    Examples\n",
        "    --------\n",
        "    >>> from sklearn.datasets import load_iris\n",
        "    >>> from sklearn.model_selection import cross_val_score\n",
        "    >>> clf = EducatedGuessClassifier()\n",
        "    >>> iris = load_iris()\n",
        "    >>> cross_val_score(clf, iris.data, iris.target, cv=10)\n",
        "\n",
        "    \"\"\"\n",
        "    \n",
        "    # Constructor for the classifier object\n",
        "    def __init__(self, add_noise = False):\n",
        "        self.add_noise = add_noise\n",
        "\n",
        "    # The fit function to train a classifier\n",
        "    def fit(self, X, y):\n",
        "        \"\"\"Build a decision tree classifier from the training set (X, y).\n",
        "        Parameters\n",
        "        ----------\n",
        "        X : array-like or sparse matrix, shape = [n_samples, n_features]\n",
        "            The training input samples. Internally, it will be converted to\n",
        "            ``dtype=np.float32`` and if a sparse matrix is provided\n",
        "            to a sparse ``csc_matrix``.\n",
        "        y : array-like, shape = [n_samples] \n",
        "            The target values (class labels) as integers or strings.\n",
        "        Returns\n",
        "        -------\n",
        "        self : object\n",
        "        \"\"\"\n",
        "            \n",
        "        # Check that X and y have correct shape\n",
        "        X, y = check_X_y(X, y)\n",
        "\n",
        "        # Count the number of occurrences of each class in the target vector \n",
        "        # (uses numpy unique function that returns a list of unique values and their counts)\n",
        "        unique, counts = np.unique(y, return_counts=True)\n",
        "        \n",
        "        # Store the classes seen during fit\n",
        "        self.classes_ = unique\n",
        "\n",
        "        # Normalise the counts to sum to 1\n",
        "        dist = counts/sum(counts)\n",
        "            \n",
        "        # If the add_noise attribute is true add a little noise to the distribution\n",
        "        if(self.add_noise):\n",
        "            for i in  range(len(dist)):\n",
        "                dist[i] = dist[i] + dist[i]*random.uniform(-0.25, 0.25)\n",
        "            # Renormalise the distribution\n",
        "            dist = dist/sum(dist)\n",
        "            \n",
        "        # Create a new dictionary of classes and their normalised frequencies (the distribution)\n",
        "        self.distribution_ = dict(zip(unique, dist))\n",
        "        \n",
        "        # Return the classifier\n",
        "        return self\n",
        "\n",
        "    # The predict function to make a set of predictions for a set of query instances\n",
        "    def predict(self, X):\n",
        "        \"\"\"Predict class labels of the input samples X.\n",
        "        Parameters\n",
        "        ----------\n",
        "        X : array-like or sparse matrix of shape = [n_samples, n_features]\n",
        "            The input samples. Internally, it will be converted to\n",
        "            ``dtype=np.float32`` and if a sparse matrix is provided\n",
        "            to a sparse ``csr_matrix``.\n",
        "        Returns\n",
        "        -------\n",
        "        p : array of shape = [n_samples, ].\n",
        "            The predicted class labels of the input samples. \n",
        "        \"\"\"\n",
        "        \n",
        "        # Check is fit had been called by confirming that the distributions_ dictionary has been set up\n",
        "        check_is_fitted(self, ['distribution_'])\n",
        "\n",
        "        # Check that the input features match the type and shape of the training features\n",
        "        X = check_array(X)\n",
        "\n",
        "        # Initialise an empty list to store the predictions made\n",
        "        predictions = list()\n",
        "        \n",
        "        # Iterate through the query instances in the query dataset \n",
        "        for instance in X:\n",
        "            \n",
        "            #Generate a random class according to the learned distribution\n",
        "            pred = random.choices(list(self.distribution_.keys()), list(self.distribution_.values()))\n",
        "            \n",
        "            predictions.append(pred[0])\n",
        "            \n",
        "        return np.array(predictions)\n",
        "    \n",
        "    \n",
        "    # The predict function to make a set of predictions for a set of query instances\n",
        "    def predict_proba(self, X):\n",
        "        \"\"\"Predict class probabilities of the input samples X.\n",
        "        Parameters\n",
        "        ----------\n",
        "        X : array-like matrix of shape = [n_samples, n_features]\n",
        "            The input samples. \n",
        "        Returns\n",
        "        -------\n",
        "        p : array of shape = [n_samples, n_labels].\n",
        "            The predicted class label probabilities of the input samples. \n",
        "        \"\"\"\n",
        "        \n",
        "        # Check is fit had been called by confirming that the distributions_ dictionary has been set up\n",
        "        check_is_fitted(self, ['distribution_'])\n",
        "\n",
        "        # Check that the input features match the type and shape of the training features\n",
        "        X = check_array(X)\n",
        "\n",
        "        # Initialise an array to store the prediction scores generated\n",
        "        predictions = np.zeros((len(X), len(self.classes_)))\n",
        "\n",
        "        # Iterate through the query instances in the query dataset \n",
        "        for idx, instance in enumerate(X):\n",
        "            \n",
        "            #Generate a random class according to the learned distribution\n",
        "            pred = random.choices(list(self.distribution_.keys()), list(self.distribution_.values()))[0]\n",
        "\n",
        "            # Always give the predicted class a probability of 0.9 and all other classes the remining probability mass  equally distributed.\n",
        "            predictions[idx, ]= 0.1/(len(self.classes_) - 1)\n",
        "            predictions[idx, list(self.classes_).index(pred)] = 0.9\n",
        "            \n",
        "        return predictions"
      ],
      "execution_count": 0,
      "outputs": []
    },
    {
      "metadata": {
        "id": "ddSivqT250x9",
        "colab_type": "text"
      },
      "cell_type": "markdown",
      "source": [
        "### Test the EducatedGuessClassifier"
      ]
    },
    {
      "metadata": {
        "id": "_MNxbgzn50yA",
        "colab_type": "text"
      },
      "cell_type": "markdown",
      "source": [
        "Do a simple test of the EducatedGuessClassifier"
      ]
    },
    {
      "metadata": {
        "id": "vO_G8C-M50yE",
        "colab_type": "code",
        "colab": {}
      },
      "cell_type": "code",
      "source": [
        "a = np.array([[1,23,3,4], [5,6,7,8], [7,5,6,2], [4,9,12,43]])\n",
        "y = np.array([1, 2, 2, 2])"
      ],
      "execution_count": 0,
      "outputs": []
    },
    {
      "metadata": {
        "id": "Gis0pHqr50yM",
        "colab_type": "code",
        "colab": {}
      },
      "cell_type": "code",
      "source": [
        "my_model = EducatedGuessClassifier()"
      ],
      "execution_count": 0,
      "outputs": []
    },
    {
      "metadata": {
        "id": "1VlP7stI50yU",
        "colab_type": "code",
        "colab": {
          "base_uri": "https://localhost:8080/",
          "height": 36
        },
        "outputId": "da3cf667-9ca2-45af-8ebd-30ed27fe722d"
      },
      "cell_type": "code",
      "source": [
        "my_model.fit(a, y)"
      ],
      "execution_count": 8,
      "outputs": [
        {
          "output_type": "execute_result",
          "data": {
            "text/plain": [
              "EducatedGuessClassifier(add_noise=False)"
            ]
          },
          "metadata": {
            "tags": []
          },
          "execution_count": 8
        }
      ]
    },
    {
      "metadata": {
        "id": "J00Uvto-50yd",
        "colab_type": "code",
        "colab": {
          "base_uri": "https://localhost:8080/",
          "height": 36
        },
        "outputId": "85368bb6-4ace-4e46-8468-77b56809d81b"
      },
      "cell_type": "code",
      "source": [
        "my_model.distribution_"
      ],
      "execution_count": 9,
      "outputs": [
        {
          "output_type": "execute_result",
          "data": {
            "text/plain": [
              "{1: 0.25, 2: 0.75}"
            ]
          },
          "metadata": {
            "tags": []
          },
          "execution_count": 9
        }
      ]
    },
    {
      "metadata": {
        "id": "9NgXKr5o50yn",
        "colab_type": "code",
        "colab": {}
      },
      "cell_type": "code",
      "source": [
        "q = np.array([[2,15,6,21], [8,9,7,6]])"
      ],
      "execution_count": 0,
      "outputs": []
    },
    {
      "metadata": {
        "id": "jiNwg6Vt50y0",
        "colab_type": "code",
        "colab": {
          "base_uri": "https://localhost:8080/",
          "height": 36
        },
        "outputId": "c06d1b70-6939-4a3d-c27c-54c78c105ddd"
      },
      "cell_type": "code",
      "source": [
        "my_model.predict(q)"
      ],
      "execution_count": 11,
      "outputs": [
        {
          "output_type": "execute_result",
          "data": {
            "text/plain": [
              "array([2, 1])"
            ]
          },
          "metadata": {
            "tags": []
          },
          "execution_count": 11
        }
      ]
    },
    {
      "metadata": {
        "id": "saqK8MHI50y4",
        "colab_type": "code",
        "colab": {
          "base_uri": "https://localhost:8080/",
          "height": 54
        },
        "outputId": "ebbbde8d-19db-4dbf-c30a-3ab91f5ba102"
      },
      "cell_type": "code",
      "source": [
        "my_model.predict_proba(q)"
      ],
      "execution_count": 12,
      "outputs": [
        {
          "output_type": "execute_result",
          "data": {
            "text/plain": [
              "array([[0.1, 0.9],\n",
              "       [0.1, 0.9]])"
            ]
          },
          "metadata": {
            "tags": []
          },
          "execution_count": 12
        }
      ]
    },
    {
      "metadata": {
        "id": "AiP46S-F50y9",
        "colab_type": "text"
      },
      "cell_type": "markdown",
      "source": [
        "Fit a model to the iris dataset"
      ]
    },
    {
      "metadata": {
        "id": "5OyZIO1T50zA",
        "colab_type": "code",
        "colab": {
          "base_uri": "https://localhost:8080/",
          "height": 36
        },
        "outputId": "5f3ebbbc-82c5-4f37-df05-a5c17131734b"
      },
      "cell_type": "code",
      "source": [
        "from sklearn.datasets import load_iris\n",
        "iris = load_iris()\n",
        "\n",
        "clf = EducatedGuessClassifier()\n",
        "clf.fit(iris.data, iris.target)\n",
        "clf.distribution_"
      ],
      "execution_count": 13,
      "outputs": [
        {
          "output_type": "execute_result",
          "data": {
            "text/plain": [
              "{0: 0.3333333333333333, 1: 0.3333333333333333, 2: 0.3333333333333333}"
            ]
          },
          "metadata": {
            "tags": []
          },
          "execution_count": 13
        }
      ]
    },
    {
      "metadata": {
        "id": "eWAsRRba50zJ",
        "colab_type": "text"
      },
      "cell_type": "markdown",
      "source": [
        "Do simple Iris cross validation expeirment"
      ]
    },
    {
      "metadata": {
        "id": "oytwrHp450zN",
        "colab_type": "code",
        "colab": {
          "base_uri": "https://localhost:8080/",
          "height": 54
        },
        "outputId": "9a094f21-8024-4859-fdc7-383d02dc5f64"
      },
      "cell_type": "code",
      "source": [
        "clf = EducatedGuessClassifier()\n",
        "cross_val_score(clf, iris.data, iris.target, cv=10)"
      ],
      "execution_count": 14,
      "outputs": [
        {
          "output_type": "execute_result",
          "data": {
            "text/plain": [
              "array([0.26666667, 0.33333333, 0.33333333, 0.4       , 0.4       ,\n",
              "       0.33333333, 0.4       , 0.33333333, 0.33333333, 0.4       ])"
            ]
          },
          "metadata": {
            "tags": []
          },
          "execution_count": 14
        }
      ]
    },
    {
      "metadata": {
        "id": "3Dp0uJwz50zV",
        "colab_type": "text"
      },
      "cell_type": "markdown",
      "source": [
        "Fit a model to the iris dataset with noise added to the distribution"
      ]
    },
    {
      "metadata": {
        "id": "DAYpNvBM50zY",
        "colab_type": "code",
        "colab": {
          "base_uri": "https://localhost:8080/",
          "height": 36
        },
        "outputId": "c11d4da5-fa66-4871-f058-fbe0c937fd04"
      },
      "cell_type": "code",
      "source": [
        "clf = EducatedGuessClassifier(add_noise = True)\n",
        "clf.fit(iris.data, iris.target)\n",
        "clf.distribution_"
      ],
      "execution_count": 15,
      "outputs": [
        {
          "output_type": "execute_result",
          "data": {
            "text/plain": [
              "{0: 0.36506740438251944, 1: 0.25784767072720716, 2: 0.3770849248902733}"
            ]
          },
          "metadata": {
            "tags": []
          },
          "execution_count": 15
        }
      ]
    },
    {
      "metadata": {
        "id": "9tDR7wk550zc",
        "colab_type": "code",
        "colab": {
          "base_uri": "https://localhost:8080/",
          "height": 54
        },
        "outputId": "0d37c2f1-66f0-47d5-883f-0ed26bcd6e8e"
      },
      "cell_type": "code",
      "source": [
        "from sklearn.datasets import load_iris\n",
        "clf = EducatedGuessClassifier(add_noise = True)\n",
        "iris = load_iris()\n",
        "cross_val_score(clf, iris.data, iris.target, cv=10)"
      ],
      "execution_count": 16,
      "outputs": [
        {
          "output_type": "execute_result",
          "data": {
            "text/plain": [
              "array([0.53333333, 0.26666667, 0.2       , 0.2       , 0.4       ,\n",
              "       0.2       , 0.53333333, 0.33333333, 0.26666667, 0.4       ])"
            ]
          },
          "metadata": {
            "tags": []
          },
          "execution_count": 16
        }
      ]
    },
    {
      "metadata": {
        "id": "6Z48Xs1t50zo",
        "colab_type": "text"
      },
      "cell_type": "markdown",
      "source": [
        "## Load & Partition Data"
      ]
    },
    {
      "metadata": {
        "id": "dc5Z-WY150zq",
        "colab_type": "text"
      },
      "cell_type": "markdown",
      "source": [
        "### Setup - IMPORTANT"
      ]
    },
    {
      "metadata": {
        "id": "hbTnwIxn50zs",
        "colab_type": "text"
      },
      "cell_type": "markdown",
      "source": [
        "Take only a sample of the dataset for fast testing"
      ]
    },
    {
      "metadata": {
        "id": "tI3ovEZS50zw",
        "colab_type": "code",
        "colab": {}
      },
      "cell_type": "code",
      "source": [
        "data_sampling_rate = 0.1"
      ],
      "execution_count": 0,
      "outputs": []
    },
    {
      "metadata": {
        "id": "2XkHCt3d50z3",
        "colab_type": "text"
      },
      "cell_type": "markdown",
      "source": [
        "Setup the number of folds for all grid searches (should be 5 - 10)"
      ]
    },
    {
      "metadata": {
        "id": "rF2PRkC850z4",
        "colab_type": "code",
        "colab": {}
      },
      "cell_type": "code",
      "source": [
        "cv_folds = 10"
      ],
      "execution_count": 0,
      "outputs": []
    },
    {
      "metadata": {
        "id": "UA-c60rH500B",
        "colab_type": "text"
      },
      "cell_type": "markdown",
      "source": [
        "### Load & Partition Data"
      ]
    },
    {
      "metadata": {
        "id": "jWP6U10u500P",
        "colab_type": "text"
      },
      "cell_type": "markdown",
      "source": [
        "Load the dataset and explore it."
      ]
    },
    {
      "metadata": {
        "scrolled": false,
        "id": "SoSLZSd7500R",
        "colab_type": "code",
        "colab": {
          "base_uri": "https://localhost:8080/",
          "height": 255
        },
        "outputId": "79b19f7b-c0d6-49c1-b8eb-d3a5107202b9"
      },
      "cell_type": "code",
      "source": [
        "dataset = pd.read_csv('fashion-mnist_train.csv')\n",
        "dataset = dataset.sample(frac=data_sampling_rate) \n",
        "#take a sample from the dataset so everyhting runs smoothly\n",
        "num_classes = 10\n",
        "classes = {0: \"T-shirt/top\", 1:\"Trouser\", 2: \"Pullover\", 3:\"Dress\", 4:\"Coat\", 5:\"Sandal\", 6:\"Shirt\", 7:\"Sneaker\", 8:\"Bag\", 9:\"Ankle boot\"}\n",
        "display(dataset.head())"
      ],
      "execution_count": 19,
      "outputs": [
        {
          "output_type": "display_data",
          "data": {
            "text/html": [
              "<div>\n",
              "<style scoped>\n",
              "    .dataframe tbody tr th:only-of-type {\n",
              "        vertical-align: middle;\n",
              "    }\n",
              "\n",
              "    .dataframe tbody tr th {\n",
              "        vertical-align: top;\n",
              "    }\n",
              "\n",
              "    .dataframe thead th {\n",
              "        text-align: right;\n",
              "    }\n",
              "</style>\n",
              "<table border=\"1\" class=\"dataframe\">\n",
              "  <thead>\n",
              "    <tr style=\"text-align: right;\">\n",
              "      <th></th>\n",
              "      <th>label</th>\n",
              "      <th>pixel1</th>\n",
              "      <th>pixel2</th>\n",
              "      <th>pixel3</th>\n",
              "      <th>pixel4</th>\n",
              "      <th>pixel5</th>\n",
              "      <th>pixel6</th>\n",
              "      <th>pixel7</th>\n",
              "      <th>pixel8</th>\n",
              "      <th>pixel9</th>\n",
              "      <th>...</th>\n",
              "      <th>pixel775</th>\n",
              "      <th>pixel776</th>\n",
              "      <th>pixel777</th>\n",
              "      <th>pixel778</th>\n",
              "      <th>pixel779</th>\n",
              "      <th>pixel780</th>\n",
              "      <th>pixel781</th>\n",
              "      <th>pixel782</th>\n",
              "      <th>pixel783</th>\n",
              "      <th>pixel784</th>\n",
              "    </tr>\n",
              "  </thead>\n",
              "  <tbody>\n",
              "    <tr>\n",
              "      <th>30379</th>\n",
              "      <td>4</td>\n",
              "      <td>0</td>\n",
              "      <td>0</td>\n",
              "      <td>0</td>\n",
              "      <td>0</td>\n",
              "      <td>0</td>\n",
              "      <td>0</td>\n",
              "      <td>1</td>\n",
              "      <td>0</td>\n",
              "      <td>0</td>\n",
              "      <td>...</td>\n",
              "      <td>0</td>\n",
              "      <td>2</td>\n",
              "      <td>0</td>\n",
              "      <td>62</td>\n",
              "      <td>206</td>\n",
              "      <td>190</td>\n",
              "      <td>0</td>\n",
              "      <td>0</td>\n",
              "      <td>0</td>\n",
              "      <td>0</td>\n",
              "    </tr>\n",
              "    <tr>\n",
              "      <th>33224</th>\n",
              "      <td>2</td>\n",
              "      <td>0</td>\n",
              "      <td>0</td>\n",
              "      <td>0</td>\n",
              "      <td>0</td>\n",
              "      <td>0</td>\n",
              "      <td>0</td>\n",
              "      <td>0</td>\n",
              "      <td>0</td>\n",
              "      <td>0</td>\n",
              "      <td>...</td>\n",
              "      <td>37</td>\n",
              "      <td>28</td>\n",
              "      <td>0</td>\n",
              "      <td>72</td>\n",
              "      <td>189</td>\n",
              "      <td>168</td>\n",
              "      <td>54</td>\n",
              "      <td>0</td>\n",
              "      <td>0</td>\n",
              "      <td>0</td>\n",
              "    </tr>\n",
              "    <tr>\n",
              "      <th>8134</th>\n",
              "      <td>8</td>\n",
              "      <td>0</td>\n",
              "      <td>0</td>\n",
              "      <td>0</td>\n",
              "      <td>0</td>\n",
              "      <td>0</td>\n",
              "      <td>0</td>\n",
              "      <td>0</td>\n",
              "      <td>0</td>\n",
              "      <td>0</td>\n",
              "      <td>...</td>\n",
              "      <td>48</td>\n",
              "      <td>49</td>\n",
              "      <td>50</td>\n",
              "      <td>51</td>\n",
              "      <td>31</td>\n",
              "      <td>38</td>\n",
              "      <td>36</td>\n",
              "      <td>12</td>\n",
              "      <td>0</td>\n",
              "      <td>0</td>\n",
              "    </tr>\n",
              "    <tr>\n",
              "      <th>11519</th>\n",
              "      <td>4</td>\n",
              "      <td>0</td>\n",
              "      <td>0</td>\n",
              "      <td>0</td>\n",
              "      <td>0</td>\n",
              "      <td>0</td>\n",
              "      <td>0</td>\n",
              "      <td>0</td>\n",
              "      <td>0</td>\n",
              "      <td>0</td>\n",
              "      <td>...</td>\n",
              "      <td>2</td>\n",
              "      <td>0</td>\n",
              "      <td>27</td>\n",
              "      <td>160</td>\n",
              "      <td>148</td>\n",
              "      <td>0</td>\n",
              "      <td>0</td>\n",
              "      <td>0</td>\n",
              "      <td>0</td>\n",
              "      <td>0</td>\n",
              "    </tr>\n",
              "    <tr>\n",
              "      <th>9270</th>\n",
              "      <td>5</td>\n",
              "      <td>0</td>\n",
              "      <td>0</td>\n",
              "      <td>0</td>\n",
              "      <td>0</td>\n",
              "      <td>0</td>\n",
              "      <td>0</td>\n",
              "      <td>0</td>\n",
              "      <td>0</td>\n",
              "      <td>0</td>\n",
              "      <td>...</td>\n",
              "      <td>0</td>\n",
              "      <td>0</td>\n",
              "      <td>0</td>\n",
              "      <td>0</td>\n",
              "      <td>0</td>\n",
              "      <td>0</td>\n",
              "      <td>0</td>\n",
              "      <td>0</td>\n",
              "      <td>0</td>\n",
              "      <td>0</td>\n",
              "    </tr>\n",
              "  </tbody>\n",
              "</table>\n",
              "<p>5 rows × 785 columns</p>\n",
              "</div>"
            ],
            "text/plain": [
              "       label  pixel1  pixel2  pixel3  pixel4  pixel5  pixel6  pixel7  pixel8  \\\n",
              "30379      4       0       0       0       0       0       0       1       0   \n",
              "33224      2       0       0       0       0       0       0       0       0   \n",
              "8134       8       0       0       0       0       0       0       0       0   \n",
              "11519      4       0       0       0       0       0       0       0       0   \n",
              "9270       5       0       0       0       0       0       0       0       0   \n",
              "\n",
              "       pixel9    ...     pixel775  pixel776  pixel777  pixel778  pixel779  \\\n",
              "30379       0    ...            0         2         0        62       206   \n",
              "33224       0    ...           37        28         0        72       189   \n",
              "8134        0    ...           48        49        50        51        31   \n",
              "11519       0    ...            2         0        27       160       148   \n",
              "9270        0    ...            0         0         0         0         0   \n",
              "\n",
              "       pixel780  pixel781  pixel782  pixel783  pixel784  \n",
              "30379       190         0         0         0         0  \n",
              "33224       168        54         0         0         0  \n",
              "8134         38        36        12         0         0  \n",
              "11519         0         0         0         0         0  \n",
              "9270          0         0         0         0         0  \n",
              "\n",
              "[5 rows x 785 columns]"
            ]
          },
          "metadata": {
            "tags": []
          }
        }
      ]
    },
    {
      "metadata": {
        "id": "1vPFJxsW500e",
        "colab_type": "text"
      },
      "cell_type": "markdown",
      "source": [
        "Isolate the descriptive features we are interested in"
      ]
    },
    {
      "metadata": {
        "scrolled": true,
        "id": "q6lkz7WW500g",
        "colab_type": "code",
        "colab": {}
      },
      "cell_type": "code",
      "source": [
        "X = dataset[dataset.columns.difference([\"label\"])]\n",
        "Y = np.array(dataset[\"label\"])"
      ],
      "execution_count": 0,
      "outputs": []
    },
    {
      "metadata": {
        "id": "zK_UMb7e-lTe",
        "colab_type": "code",
        "colab": {
          "base_uri": "https://localhost:8080/",
          "height": 129
        },
        "outputId": "eeb007f7-4447-4f00-d787-26b6febb160a"
      },
      "cell_type": "code",
      "source": [
        "dataset.columns.difference([\"label\"])"
      ],
      "execution_count": 21,
      "outputs": [
        {
          "output_type": "execute_result",
          "data": {
            "text/plain": [
              "Index(['pixel1', 'pixel10', 'pixel100', 'pixel101', 'pixel102', 'pixel103',\n",
              "       'pixel104', 'pixel105', 'pixel106', 'pixel107',\n",
              "       ...\n",
              "       'pixel90', 'pixel91', 'pixel92', 'pixel93', 'pixel94', 'pixel95',\n",
              "       'pixel96', 'pixel97', 'pixel98', 'pixel99'],\n",
              "      dtype='object', length=784)"
            ]
          },
          "metadata": {
            "tags": []
          },
          "execution_count": 21
        }
      ]
    },
    {
      "metadata": {
        "id": "4PjMJwEQ500o",
        "colab_type": "code",
        "colab": {}
      },
      "cell_type": "code",
      "source": [
        "X = X/255"
      ],
      "execution_count": 0,
      "outputs": []
    },
    {
      "metadata": {
        "id": "pMFKgdnM500u",
        "colab_type": "code",
        "colab": {
          "base_uri": "https://localhost:8080/",
          "height": 74
        },
        "outputId": "bc81a1aa-48ae-4c4f-908a-d6918a15e0dd"
      },
      "cell_type": "code",
      "source": [
        "X_train_plus_valid, X_test, y_train_plus_valid, y_test \\\n",
        "    = train_test_split(X, Y, random_state=0, \\\n",
        "                                    train_size = 0.7)\n",
        "\n",
        "X_train, X_valid, y_train, y_valid \\\n",
        "    = train_test_split(X_train_plus_valid, \\\n",
        "                                        y_train_plus_valid, \\\n",
        "                                        random_state=0, \\\n",
        "                                        train_size = 0.5/0.7)"
      ],
      "execution_count": 24,
      "outputs": [
        {
          "output_type": "stream",
          "text": [
            "/usr/local/lib/python3.6/dist-packages/sklearn/model_selection/_split.py:2179: FutureWarning: From version 0.21, test_size will always complement train_size unless both are specified.\n",
            "  FutureWarning)\n"
          ],
          "name": "stderr"
        }
      ]
    },
    {
      "metadata": {
        "id": "zKicgKdv500-",
        "colab_type": "text"
      },
      "cell_type": "markdown",
      "source": [
        "## Train and Evaluate a Simple Model"
      ]
    },
    {
      "metadata": {
        "id": "dCJkS4MA501E",
        "colab_type": "code",
        "colab": {
          "base_uri": "https://localhost:8080/",
          "height": 36
        },
        "outputId": "3cacce3a-5feb-494f-85af-e4e3ffd3bcab"
      },
      "cell_type": "code",
      "source": [
        "my_model = EducatedGuessClassifier(add_noise = True)\n",
        "my_model.fit(X_train, y_train)"
      ],
      "execution_count": 25,
      "outputs": [
        {
          "output_type": "execute_result",
          "data": {
            "text/plain": [
              "EducatedGuessClassifier(add_noise=True)"
            ]
          },
          "metadata": {
            "tags": []
          },
          "execution_count": 25
        }
      ]
    },
    {
      "metadata": {
        "id": "4A6OpupL501M",
        "colab_type": "code",
        "colab": {
          "base_uri": "https://localhost:8080/",
          "height": 779
        },
        "outputId": "d4f21957-2c68-453f-9f6c-f4e54b638d62"
      },
      "cell_type": "code",
      "source": [
        "# Make a set of predictions for the training data\n",
        "y_pred = my_model.predict(X_train)\n",
        "\n",
        "# Print performance details\n",
        "accuracy = metrics.accuracy_score(y_train, y_pred) # , normalize=True, sample_weight=None\n",
        "print(\"Accuracy: \" +  str(accuracy))\n",
        "print(metrics.classification_report(y_train, y_pred))\n",
        "\n",
        "# Print confusion matrix\n",
        "# print(metrics.confusion_matrix(y_train, y_pred))\n",
        "\n",
        "# Print nicer homemade confusion matrix\n",
        "print(\"Confusion Matrix\")\n",
        "display(pd.crosstab(y_train, y_pred, rownames=['True'], colnames=['Predicted'], margins=True))"
      ],
      "execution_count": 26,
      "outputs": [
        {
          "output_type": "stream",
          "text": [
            "Accuracy: 0.10133333333333333\n",
            "              precision    recall  f1-score   support\n",
            "\n",
            "           0       0.12      0.15      0.14       294\n",
            "           1       0.10      0.12      0.11       296\n",
            "           2       0.10      0.08      0.09       316\n",
            "           3       0.08      0.07      0.07       289\n",
            "           4       0.12      0.09      0.10       275\n",
            "           5       0.11      0.12      0.12       295\n",
            "           6       0.11      0.08      0.10       331\n",
            "           7       0.10      0.10      0.10       317\n",
            "           8       0.08      0.09      0.08       298\n",
            "           9       0.10      0.11      0.10       289\n",
            "\n",
            "   micro avg       0.10      0.10      0.10      3000\n",
            "   macro avg       0.10      0.10      0.10      3000\n",
            "weighted avg       0.10      0.10      0.10      3000\n",
            "\n",
            "Confusion Matrix\n"
          ],
          "name": "stdout"
        },
        {
          "output_type": "display_data",
          "data": {
            "text/html": [
              "<div>\n",
              "<style scoped>\n",
              "    .dataframe tbody tr th:only-of-type {\n",
              "        vertical-align: middle;\n",
              "    }\n",
              "\n",
              "    .dataframe tbody tr th {\n",
              "        vertical-align: top;\n",
              "    }\n",
              "\n",
              "    .dataframe thead th {\n",
              "        text-align: right;\n",
              "    }\n",
              "</style>\n",
              "<table border=\"1\" class=\"dataframe\">\n",
              "  <thead>\n",
              "    <tr style=\"text-align: right;\">\n",
              "      <th>Predicted</th>\n",
              "      <th>0</th>\n",
              "      <th>1</th>\n",
              "      <th>2</th>\n",
              "      <th>3</th>\n",
              "      <th>4</th>\n",
              "      <th>5</th>\n",
              "      <th>6</th>\n",
              "      <th>7</th>\n",
              "      <th>8</th>\n",
              "      <th>9</th>\n",
              "      <th>All</th>\n",
              "    </tr>\n",
              "    <tr>\n",
              "      <th>True</th>\n",
              "      <th></th>\n",
              "      <th></th>\n",
              "      <th></th>\n",
              "      <th></th>\n",
              "      <th></th>\n",
              "      <th></th>\n",
              "      <th></th>\n",
              "      <th></th>\n",
              "      <th></th>\n",
              "      <th></th>\n",
              "      <th></th>\n",
              "    </tr>\n",
              "  </thead>\n",
              "  <tbody>\n",
              "    <tr>\n",
              "      <th>0</th>\n",
              "      <td>44</td>\n",
              "      <td>39</td>\n",
              "      <td>17</td>\n",
              "      <td>20</td>\n",
              "      <td>17</td>\n",
              "      <td>31</td>\n",
              "      <td>21</td>\n",
              "      <td>26</td>\n",
              "      <td>41</td>\n",
              "      <td>38</td>\n",
              "      <td>294</td>\n",
              "    </tr>\n",
              "    <tr>\n",
              "      <th>1</th>\n",
              "      <td>36</td>\n",
              "      <td>37</td>\n",
              "      <td>23</td>\n",
              "      <td>18</td>\n",
              "      <td>29</td>\n",
              "      <td>30</td>\n",
              "      <td>23</td>\n",
              "      <td>35</td>\n",
              "      <td>33</td>\n",
              "      <td>32</td>\n",
              "      <td>296</td>\n",
              "    </tr>\n",
              "    <tr>\n",
              "      <th>2</th>\n",
              "      <td>44</td>\n",
              "      <td>41</td>\n",
              "      <td>25</td>\n",
              "      <td>29</td>\n",
              "      <td>16</td>\n",
              "      <td>34</td>\n",
              "      <td>29</td>\n",
              "      <td>29</td>\n",
              "      <td>37</td>\n",
              "      <td>32</td>\n",
              "      <td>316</td>\n",
              "    </tr>\n",
              "    <tr>\n",
              "      <th>3</th>\n",
              "      <td>22</td>\n",
              "      <td>34</td>\n",
              "      <td>33</td>\n",
              "      <td>20</td>\n",
              "      <td>33</td>\n",
              "      <td>34</td>\n",
              "      <td>24</td>\n",
              "      <td>28</td>\n",
              "      <td>32</td>\n",
              "      <td>29</td>\n",
              "      <td>289</td>\n",
              "    </tr>\n",
              "    <tr>\n",
              "      <th>4</th>\n",
              "      <td>30</td>\n",
              "      <td>27</td>\n",
              "      <td>16</td>\n",
              "      <td>20</td>\n",
              "      <td>24</td>\n",
              "      <td>25</td>\n",
              "      <td>29</td>\n",
              "      <td>34</td>\n",
              "      <td>34</td>\n",
              "      <td>36</td>\n",
              "      <td>275</td>\n",
              "    </tr>\n",
              "    <tr>\n",
              "      <th>5</th>\n",
              "      <td>28</td>\n",
              "      <td>29</td>\n",
              "      <td>29</td>\n",
              "      <td>28</td>\n",
              "      <td>13</td>\n",
              "      <td>36</td>\n",
              "      <td>24</td>\n",
              "      <td>27</td>\n",
              "      <td>43</td>\n",
              "      <td>38</td>\n",
              "      <td>295</td>\n",
              "    </tr>\n",
              "    <tr>\n",
              "      <th>6</th>\n",
              "      <td>44</td>\n",
              "      <td>45</td>\n",
              "      <td>36</td>\n",
              "      <td>24</td>\n",
              "      <td>19</td>\n",
              "      <td>30</td>\n",
              "      <td>28</td>\n",
              "      <td>34</td>\n",
              "      <td>42</td>\n",
              "      <td>29</td>\n",
              "      <td>331</td>\n",
              "    </tr>\n",
              "    <tr>\n",
              "      <th>7</th>\n",
              "      <td>32</td>\n",
              "      <td>40</td>\n",
              "      <td>28</td>\n",
              "      <td>37</td>\n",
              "      <td>19</td>\n",
              "      <td>35</td>\n",
              "      <td>28</td>\n",
              "      <td>31</td>\n",
              "      <td>35</td>\n",
              "      <td>32</td>\n",
              "      <td>317</td>\n",
              "    </tr>\n",
              "    <tr>\n",
              "      <th>8</th>\n",
              "      <td>34</td>\n",
              "      <td>36</td>\n",
              "      <td>29</td>\n",
              "      <td>22</td>\n",
              "      <td>22</td>\n",
              "      <td>34</td>\n",
              "      <td>20</td>\n",
              "      <td>36</td>\n",
              "      <td>27</td>\n",
              "      <td>38</td>\n",
              "      <td>298</td>\n",
              "    </tr>\n",
              "    <tr>\n",
              "      <th>9</th>\n",
              "      <td>38</td>\n",
              "      <td>34</td>\n",
              "      <td>24</td>\n",
              "      <td>29</td>\n",
              "      <td>14</td>\n",
              "      <td>39</td>\n",
              "      <td>20</td>\n",
              "      <td>36</td>\n",
              "      <td>23</td>\n",
              "      <td>32</td>\n",
              "      <td>289</td>\n",
              "    </tr>\n",
              "    <tr>\n",
              "      <th>All</th>\n",
              "      <td>352</td>\n",
              "      <td>362</td>\n",
              "      <td>260</td>\n",
              "      <td>247</td>\n",
              "      <td>206</td>\n",
              "      <td>328</td>\n",
              "      <td>246</td>\n",
              "      <td>316</td>\n",
              "      <td>347</td>\n",
              "      <td>336</td>\n",
              "      <td>3000</td>\n",
              "    </tr>\n",
              "  </tbody>\n",
              "</table>\n",
              "</div>"
            ],
            "text/plain": [
              "Predicted    0    1    2    3    4    5    6    7    8    9   All\n",
              "True                                                             \n",
              "0           44   39   17   20   17   31   21   26   41   38   294\n",
              "1           36   37   23   18   29   30   23   35   33   32   296\n",
              "2           44   41   25   29   16   34   29   29   37   32   316\n",
              "3           22   34   33   20   33   34   24   28   32   29   289\n",
              "4           30   27   16   20   24   25   29   34   34   36   275\n",
              "5           28   29   29   28   13   36   24   27   43   38   295\n",
              "6           44   45   36   24   19   30   28   34   42   29   331\n",
              "7           32   40   28   37   19   35   28   31   35   32   317\n",
              "8           34   36   29   22   22   34   20   36   27   38   298\n",
              "9           38   34   24   29   14   39   20   36   23   32   289\n",
              "All        352  362  260  247  206  328  246  316  347  336  3000"
            ]
          },
          "metadata": {
            "tags": []
          }
        }
      ]
    },
    {
      "metadata": {
        "id": "Wsk3_jps501b",
        "colab_type": "code",
        "colab": {
          "base_uri": "https://localhost:8080/",
          "height": 779
        },
        "outputId": "623bf1be-332d-4841-b6e7-144f5c8be293"
      },
      "cell_type": "code",
      "source": [
        "# Make a set of predictions for the training data\n",
        "y_pred = my_model.predict(X_test)\n",
        "\n",
        "# Print performance details\n",
        "accuracy = metrics.accuracy_score(y_test, y_pred) # , normalize=True, sample_weight=None\n",
        "print(\"Accuracy: \" +  str(accuracy))\n",
        "print(metrics.classification_report(y_test, y_pred))\n",
        "\n",
        "# Print confusion matrix\n",
        "# print(metrics.confusion_matrix(y_train, y_pred))\n",
        "\n",
        "# Print nicer homemade confusion matrix\n",
        "print(\"Confusion Matrix\")\n",
        "pd.crosstab(np.array(y_test), y_pred, rownames=['True'], colnames=['Predicted'], margins=True)"
      ],
      "execution_count": 27,
      "outputs": [
        {
          "output_type": "stream",
          "text": [
            "Accuracy: 0.09277777777777778\n",
            "              precision    recall  f1-score   support\n",
            "\n",
            "           0       0.10      0.12      0.11       182\n",
            "           1       0.09      0.08      0.08       191\n",
            "           2       0.10      0.09      0.10       170\n",
            "           3       0.10      0.08      0.09       194\n",
            "           4       0.12      0.09      0.10       183\n",
            "           5       0.08      0.09      0.09       170\n",
            "           6       0.10      0.10      0.10       164\n",
            "           7       0.09      0.08      0.09       181\n",
            "           8       0.10      0.11      0.10       198\n",
            "           9       0.06      0.08      0.07       167\n",
            "\n",
            "   micro avg       0.09      0.09      0.09      1800\n",
            "   macro avg       0.09      0.09      0.09      1800\n",
            "weighted avg       0.09      0.09      0.09      1800\n",
            "\n",
            "Confusion Matrix\n"
          ],
          "name": "stdout"
        },
        {
          "output_type": "execute_result",
          "data": {
            "text/html": [
              "<div>\n",
              "<style scoped>\n",
              "    .dataframe tbody tr th:only-of-type {\n",
              "        vertical-align: middle;\n",
              "    }\n",
              "\n",
              "    .dataframe tbody tr th {\n",
              "        vertical-align: top;\n",
              "    }\n",
              "\n",
              "    .dataframe thead th {\n",
              "        text-align: right;\n",
              "    }\n",
              "</style>\n",
              "<table border=\"1\" class=\"dataframe\">\n",
              "  <thead>\n",
              "    <tr style=\"text-align: right;\">\n",
              "      <th>Predicted</th>\n",
              "      <th>0</th>\n",
              "      <th>1</th>\n",
              "      <th>2</th>\n",
              "      <th>3</th>\n",
              "      <th>4</th>\n",
              "      <th>5</th>\n",
              "      <th>6</th>\n",
              "      <th>7</th>\n",
              "      <th>8</th>\n",
              "      <th>9</th>\n",
              "      <th>All</th>\n",
              "    </tr>\n",
              "    <tr>\n",
              "      <th>True</th>\n",
              "      <th></th>\n",
              "      <th></th>\n",
              "      <th></th>\n",
              "      <th></th>\n",
              "      <th></th>\n",
              "      <th></th>\n",
              "      <th></th>\n",
              "      <th></th>\n",
              "      <th></th>\n",
              "      <th></th>\n",
              "      <th></th>\n",
              "    </tr>\n",
              "  </thead>\n",
              "  <tbody>\n",
              "    <tr>\n",
              "      <th>0</th>\n",
              "      <td>21</td>\n",
              "      <td>12</td>\n",
              "      <td>18</td>\n",
              "      <td>18</td>\n",
              "      <td>11</td>\n",
              "      <td>24</td>\n",
              "      <td>14</td>\n",
              "      <td>20</td>\n",
              "      <td>22</td>\n",
              "      <td>22</td>\n",
              "      <td>182</td>\n",
              "    </tr>\n",
              "    <tr>\n",
              "      <th>1</th>\n",
              "      <td>23</td>\n",
              "      <td>16</td>\n",
              "      <td>19</td>\n",
              "      <td>23</td>\n",
              "      <td>23</td>\n",
              "      <td>17</td>\n",
              "      <td>11</td>\n",
              "      <td>17</td>\n",
              "      <td>19</td>\n",
              "      <td>23</td>\n",
              "      <td>191</td>\n",
              "    </tr>\n",
              "    <tr>\n",
              "      <th>2</th>\n",
              "      <td>22</td>\n",
              "      <td>21</td>\n",
              "      <td>16</td>\n",
              "      <td>9</td>\n",
              "      <td>8</td>\n",
              "      <td>22</td>\n",
              "      <td>8</td>\n",
              "      <td>18</td>\n",
              "      <td>24</td>\n",
              "      <td>22</td>\n",
              "      <td>170</td>\n",
              "    </tr>\n",
              "    <tr>\n",
              "      <th>3</th>\n",
              "      <td>23</td>\n",
              "      <td>21</td>\n",
              "      <td>9</td>\n",
              "      <td>15</td>\n",
              "      <td>21</td>\n",
              "      <td>23</td>\n",
              "      <td>23</td>\n",
              "      <td>14</td>\n",
              "      <td>18</td>\n",
              "      <td>27</td>\n",
              "      <td>194</td>\n",
              "    </tr>\n",
              "    <tr>\n",
              "      <th>4</th>\n",
              "      <td>17</td>\n",
              "      <td>23</td>\n",
              "      <td>18</td>\n",
              "      <td>14</td>\n",
              "      <td>17</td>\n",
              "      <td>19</td>\n",
              "      <td>14</td>\n",
              "      <td>15</td>\n",
              "      <td>21</td>\n",
              "      <td>25</td>\n",
              "      <td>183</td>\n",
              "    </tr>\n",
              "    <tr>\n",
              "      <th>5</th>\n",
              "      <td>15</td>\n",
              "      <td>20</td>\n",
              "      <td>19</td>\n",
              "      <td>15</td>\n",
              "      <td>14</td>\n",
              "      <td>16</td>\n",
              "      <td>13</td>\n",
              "      <td>23</td>\n",
              "      <td>17</td>\n",
              "      <td>18</td>\n",
              "      <td>170</td>\n",
              "    </tr>\n",
              "    <tr>\n",
              "      <th>6</th>\n",
              "      <td>16</td>\n",
              "      <td>14</td>\n",
              "      <td>13</td>\n",
              "      <td>13</td>\n",
              "      <td>16</td>\n",
              "      <td>22</td>\n",
              "      <td>16</td>\n",
              "      <td>11</td>\n",
              "      <td>25</td>\n",
              "      <td>18</td>\n",
              "      <td>164</td>\n",
              "    </tr>\n",
              "    <tr>\n",
              "      <th>7</th>\n",
              "      <td>20</td>\n",
              "      <td>20</td>\n",
              "      <td>15</td>\n",
              "      <td>19</td>\n",
              "      <td>13</td>\n",
              "      <td>17</td>\n",
              "      <td>14</td>\n",
              "      <td>15</td>\n",
              "      <td>24</td>\n",
              "      <td>24</td>\n",
              "      <td>181</td>\n",
              "    </tr>\n",
              "    <tr>\n",
              "      <th>8</th>\n",
              "      <td>21</td>\n",
              "      <td>23</td>\n",
              "      <td>24</td>\n",
              "      <td>16</td>\n",
              "      <td>11</td>\n",
              "      <td>18</td>\n",
              "      <td>20</td>\n",
              "      <td>18</td>\n",
              "      <td>21</td>\n",
              "      <td>26</td>\n",
              "      <td>198</td>\n",
              "    </tr>\n",
              "    <tr>\n",
              "      <th>9</th>\n",
              "      <td>24</td>\n",
              "      <td>17</td>\n",
              "      <td>13</td>\n",
              "      <td>10</td>\n",
              "      <td>12</td>\n",
              "      <td>13</td>\n",
              "      <td>21</td>\n",
              "      <td>19</td>\n",
              "      <td>24</td>\n",
              "      <td>14</td>\n",
              "      <td>167</td>\n",
              "    </tr>\n",
              "    <tr>\n",
              "      <th>All</th>\n",
              "      <td>202</td>\n",
              "      <td>187</td>\n",
              "      <td>164</td>\n",
              "      <td>152</td>\n",
              "      <td>146</td>\n",
              "      <td>191</td>\n",
              "      <td>154</td>\n",
              "      <td>170</td>\n",
              "      <td>215</td>\n",
              "      <td>219</td>\n",
              "      <td>1800</td>\n",
              "    </tr>\n",
              "  </tbody>\n",
              "</table>\n",
              "</div>"
            ],
            "text/plain": [
              "Predicted    0    1    2    3    4    5    6    7    8    9   All\n",
              "True                                                             \n",
              "0           21   12   18   18   11   24   14   20   22   22   182\n",
              "1           23   16   19   23   23   17   11   17   19   23   191\n",
              "2           22   21   16    9    8   22    8   18   24   22   170\n",
              "3           23   21    9   15   21   23   23   14   18   27   194\n",
              "4           17   23   18   14   17   19   14   15   21   25   183\n",
              "5           15   20   19   15   14   16   13   23   17   18   170\n",
              "6           16   14   13   13   16   22   16   11   25   18   164\n",
              "7           20   20   15   19   13   17   14   15   24   24   181\n",
              "8           21   23   24   16   11   18   20   18   21   26   198\n",
              "9           24   17   13   10   12   13   21   19   24   14   167\n",
              "All        202  187  164  152  146  191  154  170  215  219  1800"
            ]
          },
          "metadata": {
            "tags": []
          },
          "execution_count": 27
        }
      ]
    },
    {
      "metadata": {
        "id": "wR8lnSe8501j",
        "colab_type": "text"
      },
      "cell_type": "markdown",
      "source": [
        "## Do a Cross Validation Experiment With Our Model"
      ]
    },
    {
      "metadata": {
        "id": "GbgF6UwP501k",
        "colab_type": "code",
        "colab": {
          "base_uri": "https://localhost:8080/",
          "height": 54
        },
        "outputId": "9eae1b74-15cc-41ba-b21e-67baa70c2eab"
      },
      "cell_type": "code",
      "source": [
        "my_model = EducatedGuessClassifier()\n",
        "scores = cross_val_score(my_model, X_train_plus_valid, y_train_plus_valid, cv=cv_folds, n_jobs=-1)\n",
        "print(scores)"
      ],
      "execution_count": 28,
      "outputs": [
        {
          "output_type": "stream",
          "text": [
            "[0.09647059 0.09433962 0.10165485 0.10189573 0.10189573 0.12380952\n",
            " 0.10023866 0.10120482 0.10120482 0.0939759 ]\n"
          ],
          "name": "stdout"
        }
      ]
    },
    {
      "metadata": {
        "id": "809URcxh501o",
        "colab_type": "text"
      },
      "cell_type": "markdown",
      "source": [
        "## Do a Grid Search Through Distance Metrics"
      ]
    },
    {
      "metadata": {
        "id": "lqeSctxJ501q",
        "colab_type": "code",
        "colab": {
          "base_uri": "https://localhost:8080/",
          "height": 129
        },
        "outputId": "773bf569-f568-46d6-fe89-f5a61f1cb7ff"
      },
      "cell_type": "code",
      "source": [
        "# Set up the parameter grid to seaerch\n",
        "param_grid = [\n",
        " {'add_noise': [False, True]}\n",
        "]\n",
        "\n",
        "# Perform the search\n",
        "my_tuned_model = GridSearchCV(EducatedGuessClassifier(), param_grid, cv=cv_folds, verbose = 2, n_jobs=-1)\n",
        "my_tuned_model.fit(X_train_plus_valid, y_train_plus_valid)\n",
        "\n",
        "# Print details\n",
        "print(\"Best parameters set found on development set:\")\n",
        "print(my_tuned_model.best_params_)\n",
        "print(my_tuned_model.best_score_)\n"
      ],
      "execution_count": 29,
      "outputs": [
        {
          "output_type": "stream",
          "text": [
            "Fitting 10 folds for each of 2 candidates, totalling 20 fits\n"
          ],
          "name": "stdout"
        },
        {
          "output_type": "stream",
          "text": [
            "[Parallel(n_jobs=-1)]: Using backend LokyBackend with 2 concurrent workers.\n"
          ],
          "name": "stderr"
        },
        {
          "output_type": "stream",
          "text": [
            "Best parameters set found on development set:\n",
            "{'add_noise': True}\n",
            "0.09833333333333333\n"
          ],
          "name": "stdout"
        },
        {
          "output_type": "stream",
          "text": [
            "[Parallel(n_jobs=-1)]: Done  20 out of  20 | elapsed:    0.6s finished\n"
          ],
          "name": "stderr"
        }
      ]
    },
    {
      "metadata": {
        "id": "fcu4DpBz501x",
        "colab_type": "code",
        "colab": {
          "base_uri": "https://localhost:8080/",
          "height": 779
        },
        "outputId": "5c58a366-19b1-4d3d-9c45-88dfbef2808e"
      },
      "cell_type": "code",
      "source": [
        "# Make a set of predictions for the test data\n",
        "y_pred = my_tuned_model.predict(X_test)\n",
        "\n",
        "# Print performance details\n",
        "accuracy = metrics.accuracy_score(y_test, y_pred) # , normalize=True, sample_weight=None\n",
        "print(\"Accuracy: \" +  str(accuracy))\n",
        "print(metrics.classification_report(y_test, y_pred))\n",
        "\n",
        "# Print confusion matrix\n",
        "print(\"Confusion Matrix\")\n",
        "pd.crosstab(np.array(y_test), y_pred, rownames=['True'], colnames=['Predicted'], margins=True)"
      ],
      "execution_count": 30,
      "outputs": [
        {
          "output_type": "stream",
          "text": [
            "Accuracy: 0.10611111111111111\n",
            "              precision    recall  f1-score   support\n",
            "\n",
            "           0       0.10      0.10      0.10       182\n",
            "           1       0.13      0.13      0.13       191\n",
            "           2       0.12      0.12      0.12       170\n",
            "           3       0.08      0.07      0.07       194\n",
            "           4       0.09      0.10      0.10       183\n",
            "           5       0.13      0.17      0.15       170\n",
            "           6       0.09      0.09      0.09       164\n",
            "           7       0.07      0.08      0.08       181\n",
            "           8       0.13      0.12      0.13       198\n",
            "           9       0.09      0.08      0.09       167\n",
            "\n",
            "   micro avg       0.11      0.11      0.11      1800\n",
            "   macro avg       0.11      0.11      0.11      1800\n",
            "weighted avg       0.11      0.11      0.11      1800\n",
            "\n",
            "Confusion Matrix\n"
          ],
          "name": "stdout"
        },
        {
          "output_type": "execute_result",
          "data": {
            "text/html": [
              "<div>\n",
              "<style scoped>\n",
              "    .dataframe tbody tr th:only-of-type {\n",
              "        vertical-align: middle;\n",
              "    }\n",
              "\n",
              "    .dataframe tbody tr th {\n",
              "        vertical-align: top;\n",
              "    }\n",
              "\n",
              "    .dataframe thead th {\n",
              "        text-align: right;\n",
              "    }\n",
              "</style>\n",
              "<table border=\"1\" class=\"dataframe\">\n",
              "  <thead>\n",
              "    <tr style=\"text-align: right;\">\n",
              "      <th>Predicted</th>\n",
              "      <th>0</th>\n",
              "      <th>1</th>\n",
              "      <th>2</th>\n",
              "      <th>3</th>\n",
              "      <th>4</th>\n",
              "      <th>5</th>\n",
              "      <th>6</th>\n",
              "      <th>7</th>\n",
              "      <th>8</th>\n",
              "      <th>9</th>\n",
              "      <th>All</th>\n",
              "    </tr>\n",
              "    <tr>\n",
              "      <th>True</th>\n",
              "      <th></th>\n",
              "      <th></th>\n",
              "      <th></th>\n",
              "      <th></th>\n",
              "      <th></th>\n",
              "      <th></th>\n",
              "      <th></th>\n",
              "      <th></th>\n",
              "      <th></th>\n",
              "      <th></th>\n",
              "      <th></th>\n",
              "    </tr>\n",
              "  </thead>\n",
              "  <tbody>\n",
              "    <tr>\n",
              "      <th>0</th>\n",
              "      <td>18</td>\n",
              "      <td>20</td>\n",
              "      <td>20</td>\n",
              "      <td>12</td>\n",
              "      <td>18</td>\n",
              "      <td>23</td>\n",
              "      <td>12</td>\n",
              "      <td>30</td>\n",
              "      <td>13</td>\n",
              "      <td>16</td>\n",
              "      <td>182</td>\n",
              "    </tr>\n",
              "    <tr>\n",
              "      <th>1</th>\n",
              "      <td>16</td>\n",
              "      <td>24</td>\n",
              "      <td>18</td>\n",
              "      <td>21</td>\n",
              "      <td>26</td>\n",
              "      <td>22</td>\n",
              "      <td>18</td>\n",
              "      <td>12</td>\n",
              "      <td>18</td>\n",
              "      <td>16</td>\n",
              "      <td>191</td>\n",
              "    </tr>\n",
              "    <tr>\n",
              "      <th>2</th>\n",
              "      <td>6</td>\n",
              "      <td>20</td>\n",
              "      <td>21</td>\n",
              "      <td>11</td>\n",
              "      <td>19</td>\n",
              "      <td>25</td>\n",
              "      <td>12</td>\n",
              "      <td>21</td>\n",
              "      <td>24</td>\n",
              "      <td>11</td>\n",
              "      <td>170</td>\n",
              "    </tr>\n",
              "    <tr>\n",
              "      <th>3</th>\n",
              "      <td>18</td>\n",
              "      <td>27</td>\n",
              "      <td>17</td>\n",
              "      <td>13</td>\n",
              "      <td>29</td>\n",
              "      <td>22</td>\n",
              "      <td>11</td>\n",
              "      <td>16</td>\n",
              "      <td>28</td>\n",
              "      <td>13</td>\n",
              "      <td>194</td>\n",
              "    </tr>\n",
              "    <tr>\n",
              "      <th>4</th>\n",
              "      <td>14</td>\n",
              "      <td>16</td>\n",
              "      <td>17</td>\n",
              "      <td>17</td>\n",
              "      <td>19</td>\n",
              "      <td>21</td>\n",
              "      <td>22</td>\n",
              "      <td>26</td>\n",
              "      <td>19</td>\n",
              "      <td>12</td>\n",
              "      <td>183</td>\n",
              "    </tr>\n",
              "    <tr>\n",
              "      <th>5</th>\n",
              "      <td>18</td>\n",
              "      <td>14</td>\n",
              "      <td>16</td>\n",
              "      <td>20</td>\n",
              "      <td>18</td>\n",
              "      <td>29</td>\n",
              "      <td>14</td>\n",
              "      <td>14</td>\n",
              "      <td>9</td>\n",
              "      <td>18</td>\n",
              "      <td>170</td>\n",
              "    </tr>\n",
              "    <tr>\n",
              "      <th>6</th>\n",
              "      <td>18</td>\n",
              "      <td>16</td>\n",
              "      <td>11</td>\n",
              "      <td>18</td>\n",
              "      <td>21</td>\n",
              "      <td>15</td>\n",
              "      <td>15</td>\n",
              "      <td>18</td>\n",
              "      <td>16</td>\n",
              "      <td>16</td>\n",
              "      <td>164</td>\n",
              "    </tr>\n",
              "    <tr>\n",
              "      <th>7</th>\n",
              "      <td>23</td>\n",
              "      <td>18</td>\n",
              "      <td>23</td>\n",
              "      <td>12</td>\n",
              "      <td>14</td>\n",
              "      <td>18</td>\n",
              "      <td>22</td>\n",
              "      <td>14</td>\n",
              "      <td>15</td>\n",
              "      <td>22</td>\n",
              "      <td>181</td>\n",
              "    </tr>\n",
              "    <tr>\n",
              "      <th>8</th>\n",
              "      <td>21</td>\n",
              "      <td>16</td>\n",
              "      <td>23</td>\n",
              "      <td>17</td>\n",
              "      <td>23</td>\n",
              "      <td>22</td>\n",
              "      <td>19</td>\n",
              "      <td>20</td>\n",
              "      <td>24</td>\n",
              "      <td>13</td>\n",
              "      <td>198</td>\n",
              "    </tr>\n",
              "    <tr>\n",
              "      <th>9</th>\n",
              "      <td>22</td>\n",
              "      <td>15</td>\n",
              "      <td>15</td>\n",
              "      <td>14</td>\n",
              "      <td>22</td>\n",
              "      <td>23</td>\n",
              "      <td>13</td>\n",
              "      <td>16</td>\n",
              "      <td>13</td>\n",
              "      <td>14</td>\n",
              "      <td>167</td>\n",
              "    </tr>\n",
              "    <tr>\n",
              "      <th>All</th>\n",
              "      <td>174</td>\n",
              "      <td>186</td>\n",
              "      <td>181</td>\n",
              "      <td>155</td>\n",
              "      <td>209</td>\n",
              "      <td>220</td>\n",
              "      <td>158</td>\n",
              "      <td>187</td>\n",
              "      <td>179</td>\n",
              "      <td>151</td>\n",
              "      <td>1800</td>\n",
              "    </tr>\n",
              "  </tbody>\n",
              "</table>\n",
              "</div>"
            ],
            "text/plain": [
              "Predicted    0    1    2    3    4    5    6    7    8    9   All\n",
              "True                                                             \n",
              "0           18   20   20   12   18   23   12   30   13   16   182\n",
              "1           16   24   18   21   26   22   18   12   18   16   191\n",
              "2            6   20   21   11   19   25   12   21   24   11   170\n",
              "3           18   27   17   13   29   22   11   16   28   13   194\n",
              "4           14   16   17   17   19   21   22   26   19   12   183\n",
              "5           18   14   16   20   18   29   14   14    9   18   170\n",
              "6           18   16   11   18   21   15   15   18   16   16   164\n",
              "7           23   18   23   12   14   18   22   14   15   22   181\n",
              "8           21   16   23   17   23   22   19   20   24   13   198\n",
              "9           22   15   15   14   22   23   13   16   13   14   167\n",
              "All        174  186  181  155  209  220  158  187  179  151  1800"
            ]
          },
          "metadata": {
            "tags": []
          },
          "execution_count": 30
        }
      ]
    },
    {
      "metadata": {
        "id": "vLj428QN5011",
        "colab_type": "text"
      },
      "cell_type": "markdown",
      "source": [
        "Demo the predict_proba function."
      ]
    },
    {
      "metadata": {
        "id": "u_NDVgOo5012",
        "colab_type": "code",
        "colab": {
          "base_uri": "https://localhost:8080/",
          "height": 606
        },
        "outputId": "1138b25a-6946-4720-a09a-56d3e72cf819"
      },
      "cell_type": "code",
      "source": [
        "# Make a set of predictions for the test data\n",
        "y_pred = my_tuned_model.predict_proba(X_test)\n",
        "_ = pd.DataFrame(y_pred).hist(figsize = (10,10))"
      ],
      "execution_count": 31,
      "outputs": [
        {
          "output_type": "display_data",
          "data": {
            "image/png": "[encoded data removed]",
            "text/plain": [
              "<Figure size 720x720 with 12 Axes>"
            ]
          },
          "metadata": {
            "tags": []
          }
        }
      ]
    },
    {
      "metadata": {
        "id": "xsDcHtdJ5014",
        "colab_type": "code",
        "colab": {}
      },
      "cell_type": "code",
      "source": [
        ""
      ],
      "execution_count": 0,
      "outputs": []
    }
  ]
}