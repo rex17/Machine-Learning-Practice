{
  "nbformat": 4,
  "nbformat_minor": 0,
  "metadata": {
    "colab": {
      "name": "Housing Price LinearRegr with Multivariable MSE 0.23775.ipynb",
      "version": "0.3.2",
      "provenance": [],
      "collapsed_sections": [],
      "include_colab_link": true
    },
    "kernelspec": {
      "name": "python3",
      "display_name": "Python 3"
    }
  },
  "cells": [
    {
      "cell_type": "markdown",
      "metadata": {
        "id": "view-in-github",
        "colab_type": "text"
      },
      "source": [
        "<a href=\"https://colab.research.google.com/github/rex17/Machine-Learning-Practice/blob/master/Housing_Price_LinearRegr_with_Multivariable_MSE_0_23775.ipynb\" target=\"_parent\"><img src=\"https://colab.research.google.com/assets/colab-badge.svg\" alt=\"Open In Colab\"/></a>"
      ]
    },
    {
      "metadata": {
        "id": "eTnmB8Os9iH6",
        "colab_type": "code",
        "outputId": "453638e6-a03b-42f3-c4d6-bd74ef8dc47a",
        "colab": {
          "base_uri": "https://localhost:8080/",
          "height": 93
        }
      },
      "cell_type": "code",
      "source": [
        "from google.colab import files\n",
        "import pandas as pd\n",
        "import matplotlib.pyplot as plt\n",
        "import seaborn as sns\n",
        "import numpy as np\n",
        "import math\n",
        "\n",
        "\n",
        "from sklearn import linear_model\n",
        "from scipy.stats import norm\n",
        "from sklearn.preprocessing import StandardScaler\n",
        "from scipy import stats\n",
        "\n",
        "import statsmodels.api as sm\n",
        "\n",
        "import warnings\n",
        "warnings.filterwarnings('ignore')\n",
        "%matplotlib inline\n",
        "\n",
        "print(\"import success\")"
      ],
      "execution_count": 1,
      "outputs": [
        {
          "output_type": "stream",
          "text": [
            "/usr/local/lib/python3.6/dist-packages/statsmodels/compat/pandas.py:56: FutureWarning: The pandas.core.datetools module is deprecated and will be removed in a future version. Please use the pandas.tseries module instead.\n",
            "  from pandas.core import datetools\n"
          ],
          "name": "stderr"
        },
        {
          "output_type": "stream",
          "text": [
            "import success\n"
          ],
          "name": "stdout"
        }
      ]
    },
    {
      "metadata": {
        "id": "LO3IN9fz-Ca2",
        "colab_type": "code",
        "outputId": "4220692b-007d-4bf5-8017-614721180f60",
        "colab": {
          "resources": {
            "http://localhost:8080/nbextensions/google.colab/files.js": {
              "data": "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",
              "ok": true,
              "headers": [
                [
                  "content-type",
                  "application/javascript"
                ]
              ],
              "status": 200,
              "status_text": "OK"
            }
          },
          "base_uri": "https://localhost:8080/",
          "height": 146
        }
      },
      "cell_type": "code",
      "source": [
        "\n",
        "uploaded = files.upload()\n",
        "\n",
        "for fn in uploaded.keys():\n",
        "  print('User uploaded file \"{name}\" with length {length} bytes'.format(\n",
        "      name=fn, length=len(uploaded[fn])))"
      ],
      "execution_count": 2,
      "outputs": [
        {
          "output_type": "display_data",
          "data": {
            "text/html": [
              "\n",
              "     <input type=\"file\" id=\"files-6f8d3398-8711-427d-a1d5-a5500a16a88d\" name=\"files[]\" multiple disabled />\n",
              "     <output id=\"result-6f8d3398-8711-427d-a1d5-a5500a16a88d\">\n",
              "      Upload widget is only available when the cell has been executed in the\n",
              "      current browser session. Please rerun this cell to enable.\n",
              "      </output>\n",
              "      <script src=\"/nbextensions/google.colab/files.js\"></script> "
            ],
            "text/plain": [
              "<IPython.core.display.HTML object>"
            ]
          },
          "metadata": {
            "tags": []
          }
        },
        {
          "output_type": "stream",
          "text": [
            "Saving housing_df_cleaned.csv to housing_df_cleaned.csv\n",
            "Saving test.csv to test.csv\n",
            "User uploaded file \"housing_df_cleaned.csv\" with length 363604 bytes\n",
            "User uploaded file \"test.csv\" with length 451405 bytes\n"
          ],
          "name": "stdout"
        }
      ]
    },
    {
      "metadata": {
        "id": "3R2G0ZsT-bT-",
        "colab_type": "code",
        "colab": {}
      },
      "cell_type": "code",
      "source": [
        "# importing data\n",
        "housing_df = pd.read_csv('housing_df_cleaned.csv')\n",
        "test_df = pd.read_csv('test.csv')"
      ],
      "execution_count": 0,
      "outputs": []
    },
    {
      "metadata": {
        "id": "e9vCvr2u-nZk",
        "colab_type": "code",
        "outputId": "cd24162d-ebe6-4816-ba6b-2446ad301048",
        "colab": {
          "base_uri": "https://localhost:8080/",
          "height": 277
        }
      },
      "cell_type": "code",
      "source": [
        "housing_df.columns"
      ],
      "execution_count": 4,
      "outputs": [
        {
          "output_type": "execute_result",
          "data": {
            "text/plain": [
              "Index(['Id', 'MSSubClass', 'MSZoning', 'LotArea', 'Street', 'LotShape',\n",
              "       'LandContour', 'Utilities', 'LotConfig', 'LandSlope', 'Neighborhood',\n",
              "       'Condition1', 'Condition2', 'BldgType', 'HouseStyle', 'OverallQual',\n",
              "       'OverallCond', 'YearBuilt', 'YearRemodAdd', 'RoofStyle', 'RoofMatl',\n",
              "       'Exterior1st', 'Exterior2nd', 'ExterQual', 'ExterCond', 'Foundation',\n",
              "       'BsmtFinSF1', 'BsmtFinSF2', 'BsmtUnfSF', 'TotalBsmtSF', 'Heating',\n",
              "       'HeatingQC', 'CentralAir', 'Electrical', '1stFlrSF', '2ndFlrSF',\n",
              "       'LowQualFinSF', 'GrLivArea', 'BsmtFullBath', 'BsmtHalfBath', 'FullBath',\n",
              "       'HalfBath', 'BedroomAbvGr', 'KitchenAbvGr', 'KitchenQual',\n",
              "       'TotRmsAbvGrd', 'Functional', 'Fireplaces', 'GarageCars', 'GarageArea',\n",
              "       'PavedDrive', 'WoodDeckSF', 'OpenPorchSF', 'EnclosedPorch', '3SsnPorch',\n",
              "       'ScreenPorch', 'PoolArea', 'MiscVal', 'MoSold', 'YrSold', 'SaleType',\n",
              "       'SaleCondition', 'SalePrice'],\n",
              "      dtype='object')"
            ]
          },
          "metadata": {
            "tags": []
          },
          "execution_count": 4
        }
      ]
    },
    {
      "metadata": {
        "id": "2i5FTzRR1kIb",
        "colab_type": "code",
        "outputId": "76a09532-2f43-4cee-fe54-41b0432fb891",
        "colab": {
          "base_uri": "https://localhost:8080/",
          "height": 255
        }
      },
      "cell_type": "code",
      "source": [
        "housing_df.head()"
      ],
      "execution_count": 5,
      "outputs": [
        {
          "output_type": "execute_result",
          "data": {
            "text/html": [
              "<div>\n",
              "<style scoped>\n",
              "    .dataframe tbody tr th:only-of-type {\n",
              "        vertical-align: middle;\n",
              "    }\n",
              "\n",
              "    .dataframe tbody tr th {\n",
              "        vertical-align: top;\n",
              "    }\n",
              "\n",
              "    .dataframe thead th {\n",
              "        text-align: right;\n",
              "    }\n",
              "</style>\n",
              "<table border=\"1\" class=\"dataframe\">\n",
              "  <thead>\n",
              "    <tr style=\"text-align: right;\">\n",
              "      <th></th>\n",
              "      <th>Id</th>\n",
              "      <th>MSSubClass</th>\n",
              "      <th>MSZoning</th>\n",
              "      <th>LotArea</th>\n",
              "      <th>Street</th>\n",
              "      <th>LotShape</th>\n",
              "      <th>LandContour</th>\n",
              "      <th>Utilities</th>\n",
              "      <th>LotConfig</th>\n",
              "      <th>LandSlope</th>\n",
              "      <th>...</th>\n",
              "      <th>EnclosedPorch</th>\n",
              "      <th>3SsnPorch</th>\n",
              "      <th>ScreenPorch</th>\n",
              "      <th>PoolArea</th>\n",
              "      <th>MiscVal</th>\n",
              "      <th>MoSold</th>\n",
              "      <th>YrSold</th>\n",
              "      <th>SaleType</th>\n",
              "      <th>SaleCondition</th>\n",
              "      <th>SalePrice</th>\n",
              "    </tr>\n",
              "  </thead>\n",
              "  <tbody>\n",
              "    <tr>\n",
              "      <th>0</th>\n",
              "      <td>1</td>\n",
              "      <td>60</td>\n",
              "      <td>RL</td>\n",
              "      <td>8450</td>\n",
              "      <td>Pave</td>\n",
              "      <td>Reg</td>\n",
              "      <td>Lvl</td>\n",
              "      <td>AllPub</td>\n",
              "      <td>Inside</td>\n",
              "      <td>Gtl</td>\n",
              "      <td>...</td>\n",
              "      <td>0</td>\n",
              "      <td>0</td>\n",
              "      <td>0</td>\n",
              "      <td>0</td>\n",
              "      <td>0</td>\n",
              "      <td>2</td>\n",
              "      <td>2008</td>\n",
              "      <td>WD</td>\n",
              "      <td>Normal</td>\n",
              "      <td>208500</td>\n",
              "    </tr>\n",
              "    <tr>\n",
              "      <th>1</th>\n",
              "      <td>2</td>\n",
              "      <td>20</td>\n",
              "      <td>RL</td>\n",
              "      <td>9600</td>\n",
              "      <td>Pave</td>\n",
              "      <td>Reg</td>\n",
              "      <td>Lvl</td>\n",
              "      <td>AllPub</td>\n",
              "      <td>FR2</td>\n",
              "      <td>Gtl</td>\n",
              "      <td>...</td>\n",
              "      <td>0</td>\n",
              "      <td>0</td>\n",
              "      <td>0</td>\n",
              "      <td>0</td>\n",
              "      <td>0</td>\n",
              "      <td>5</td>\n",
              "      <td>2007</td>\n",
              "      <td>WD</td>\n",
              "      <td>Normal</td>\n",
              "      <td>181500</td>\n",
              "    </tr>\n",
              "    <tr>\n",
              "      <th>2</th>\n",
              "      <td>3</td>\n",
              "      <td>60</td>\n",
              "      <td>RL</td>\n",
              "      <td>11250</td>\n",
              "      <td>Pave</td>\n",
              "      <td>IR1</td>\n",
              "      <td>Lvl</td>\n",
              "      <td>AllPub</td>\n",
              "      <td>Inside</td>\n",
              "      <td>Gtl</td>\n",
              "      <td>...</td>\n",
              "      <td>0</td>\n",
              "      <td>0</td>\n",
              "      <td>0</td>\n",
              "      <td>0</td>\n",
              "      <td>0</td>\n",
              "      <td>9</td>\n",
              "      <td>2008</td>\n",
              "      <td>WD</td>\n",
              "      <td>Normal</td>\n",
              "      <td>223500</td>\n",
              "    </tr>\n",
              "    <tr>\n",
              "      <th>3</th>\n",
              "      <td>4</td>\n",
              "      <td>70</td>\n",
              "      <td>RL</td>\n",
              "      <td>9550</td>\n",
              "      <td>Pave</td>\n",
              "      <td>IR1</td>\n",
              "      <td>Lvl</td>\n",
              "      <td>AllPub</td>\n",
              "      <td>Corner</td>\n",
              "      <td>Gtl</td>\n",
              "      <td>...</td>\n",
              "      <td>272</td>\n",
              "      <td>0</td>\n",
              "      <td>0</td>\n",
              "      <td>0</td>\n",
              "      <td>0</td>\n",
              "      <td>2</td>\n",
              "      <td>2006</td>\n",
              "      <td>WD</td>\n",
              "      <td>Abnorml</td>\n",
              "      <td>140000</td>\n",
              "    </tr>\n",
              "    <tr>\n",
              "      <th>4</th>\n",
              "      <td>5</td>\n",
              "      <td>60</td>\n",
              "      <td>RL</td>\n",
              "      <td>14260</td>\n",
              "      <td>Pave</td>\n",
              "      <td>IR1</td>\n",
              "      <td>Lvl</td>\n",
              "      <td>AllPub</td>\n",
              "      <td>FR2</td>\n",
              "      <td>Gtl</td>\n",
              "      <td>...</td>\n",
              "      <td>0</td>\n",
              "      <td>0</td>\n",
              "      <td>0</td>\n",
              "      <td>0</td>\n",
              "      <td>0</td>\n",
              "      <td>12</td>\n",
              "      <td>2008</td>\n",
              "      <td>WD</td>\n",
              "      <td>Normal</td>\n",
              "      <td>250000</td>\n",
              "    </tr>\n",
              "  </tbody>\n",
              "</table>\n",
              "<p>5 rows × 63 columns</p>\n",
              "</div>"
            ],
            "text/plain": [
              "   Id  MSSubClass MSZoning  LotArea Street LotShape LandContour Utilities  \\\n",
              "0   1          60       RL     8450   Pave      Reg         Lvl    AllPub   \n",
              "1   2          20       RL     9600   Pave      Reg         Lvl    AllPub   \n",
              "2   3          60       RL    11250   Pave      IR1         Lvl    AllPub   \n",
              "3   4          70       RL     9550   Pave      IR1         Lvl    AllPub   \n",
              "4   5          60       RL    14260   Pave      IR1         Lvl    AllPub   \n",
              "\n",
              "  LotConfig LandSlope    ...    EnclosedPorch 3SsnPorch ScreenPorch PoolArea  \\\n",
              "0    Inside       Gtl    ...                0         0           0        0   \n",
              "1       FR2       Gtl    ...                0         0           0        0   \n",
              "2    Inside       Gtl    ...                0         0           0        0   \n",
              "3    Corner       Gtl    ...              272         0           0        0   \n",
              "4       FR2       Gtl    ...                0         0           0        0   \n",
              "\n",
              "  MiscVal  MoSold  YrSold  SaleType  SaleCondition SalePrice  \n",
              "0       0       2    2008        WD         Normal    208500  \n",
              "1       0       5    2007        WD         Normal    181500  \n",
              "2       0       9    2008        WD         Normal    223500  \n",
              "3       0       2    2006        WD        Abnorml    140000  \n",
              "4       0      12    2008        WD         Normal    250000  \n",
              "\n",
              "[5 rows x 63 columns]"
            ]
          },
          "metadata": {
            "tags": []
          },
          "execution_count": 5
        }
      ]
    },
    {
      "metadata": {
        "id": "wLAjL0qJ1Ekp",
        "colab_type": "code",
        "outputId": "b9d4fd1f-e836-4b40-e322-fb14b293b556",
        "colab": {
          "base_uri": "https://localhost:8080/",
          "height": 36
        }
      },
      "cell_type": "code",
      "source": [
        "housing_df.shape"
      ],
      "execution_count": 6,
      "outputs": [
        {
          "output_type": "execute_result",
          "data": {
            "text/plain": [
              "(1459, 63)"
            ]
          },
          "metadata": {
            "tags": []
          },
          "execution_count": 6
        }
      ]
    },
    {
      "metadata": {
        "id": "3rMgtbR516VC",
        "colab_type": "code",
        "outputId": "cb41e85e-1026-4df7-9924-f54413af44a7",
        "colab": {
          "base_uri": "https://localhost:8080/",
          "height": 203
        }
      },
      "cell_type": "code",
      "source": [
        "sale_price = np.asarray(housing_df[\"SalePrice\"])\n",
        "overall_qual = np.asarray(housing_df[\"OverallQual\"])\n",
        "year_built = np.asarray(housing_df[\"YearBuilt\"])\n",
        "total_bsmt_sf = np.asarray(housing_df[\"TotalBsmtSF\"])\n",
        "gr_liv_area = np.asarray(housing_df[\"GrLivArea\"])\n",
        "first_flr_sf = np.asarray(housing_df[\"1stFlrSF\"])\n",
        "#garage_yr_built = np.asarray(housing_df[\"GarageYrBlt\"])\n",
        "garage_cars = np.asarray(housing_df[\"GarageCars\"])\n",
        "garage_area = np.asarray(housing_df[\"GarageArea\"])\n",
        "lot_area = np.asarray(housing_df[\"LotArea\"])\n",
        "wood_deck_sf = np.asarray(housing_df[\"WoodDeckSF\"])\n",
        "\n",
        "\n",
        "print(sale_price)\n",
        "print(overall_qual)\n",
        "print(year_built)\n",
        "print(total_bsmt_sf)\n",
        "print(gr_liv_area)\n",
        "print(first_flr_sf)\n",
        "#print(garage_yr_built)\n",
        "print(garage_cars)\n",
        "print(garage_area)\n",
        "print(lot_area)\n",
        "print(wood_deck_sf)\n"
      ],
      "execution_count": 7,
      "outputs": [
        {
          "output_type": "stream",
          "text": [
            "[208500 181500 223500 ... 266500 142125 147500]\n",
            "[7 6 7 ... 7 5 5]\n",
            "[2003 1976 2001 ... 1941 1950 1965]\n",
            "[ 856 1262  920 ... 1152 1078 1256]\n",
            "[1710 1262 1786 ... 2340 1078 1256]\n",
            "[ 856 1262  920 ... 1188 1078 1256]\n",
            "[2 2 2 ... 1 1 1]\n",
            "[548 460 608 ... 252 240 276]\n",
            "[ 8450  9600 11250 ...  9042  9717  9937]\n",
            "[  0 298   0 ...   0 366 736]\n"
          ],
          "name": "stdout"
        }
      ]
    },
    {
      "metadata": {
        "id": "9bxDrwh24M7B",
        "colab_type": "code",
        "outputId": "55571741-0958-4e8f-aa4e-a83dacc163c4",
        "colab": {
          "base_uri": "https://localhost:8080/",
          "height": 36
        }
      },
      "cell_type": "code",
      "source": [
        "#X = [list(overall_qual), list(total_bsmt_sf), list(gr_liv_area), list(first_flr_sf), list(garage_area)]\n",
        "\n",
        "X = [list(total_bsmt_sf), list(gr_liv_area), list(first_flr_sf), list(garage_area),list(lot_area),list(wood_deck_sf)]\n",
        "\n",
        "len(X)"
      ],
      "execution_count": 8,
      "outputs": [
        {
          "output_type": "execute_result",
          "data": {
            "text/plain": [
              "6"
            ]
          },
          "metadata": {
            "tags": []
          },
          "execution_count": 8
        }
      ]
    },
    {
      "metadata": {
        "id": "C9PjMRTZda-e",
        "colab_type": "text"
      },
      "cell_type": "markdown",
      "source": [
        "**MultiRegression Model Training** with 6 features "
      ]
    },
    {
      "metadata": {
        "id": "TrTqcQWqdRNU",
        "colab_type": "code",
        "colab": {
          "base_uri": "https://localhost:8080/",
          "height": 54
        },
        "outputId": "16921bae-265c-4614-d08a-bf106a6c50db"
      },
      "cell_type": "code",
      "source": [
        "multi_regr = linear_model.LinearRegression()\n",
        "\n",
        "multi_regr.fit(np.array(X).transpose(), sale_price)"
      ],
      "execution_count": 10,
      "outputs": [
        {
          "output_type": "execute_result",
          "data": {
            "text/plain": [
              "LinearRegression(copy_X=True, fit_intercept=True, n_jobs=None,\n",
              "         normalize=False)"
            ]
          },
          "metadata": {
            "tags": []
          },
          "execution_count": 10
        }
      ]
    },
    {
      "metadata": {
        "id": "fVlmepkwdoR_",
        "colab_type": "code",
        "colab": {}
      },
      "cell_type": "code",
      "source": [
        "overall_qual_test = np.asarray(test_df[\"OverallQual\"])\n",
        "year_built_test = np.asarray(test_df[\"YearBuilt\"])\n",
        "total_bsmt_sf_test = np.asarray(test_df[\"TotalBsmtSF\"])\n",
        "gr_liv_area_test = np.asarray(test_df[\"GrLivArea\"])\n",
        "first_flr_sf_test = np.asarray(test_df[\"1stFlrSF\"])\n",
        "garage_cars_test = np.asarray(test_df[\"GarageCars\"])\n",
        "garage_area_test = np.asarray(test_df[\"GarageArea\"])\n",
        "lot_area_test = np.asarray(test_df[\"LotArea\"])\n",
        "wood_deck_sf_test = np.asarray(test_df[\"WoodDeckSF\"])\n",
        "\n",
        "\n",
        "# total_bsmt_sf_test = pd.DataFrame(total_bsmt_sf_test).fillna(method='pad')\n",
        "# total_bsmt_sf_test = np.mat(total_bsmt_sf_test)\n",
        "\n",
        "# garage_area_test = pd.DataFrame(garage_area_test).fillna(method='pad')\n",
        "# garage_area_test = np.mat(garage_area_test)\n",
        "\n",
        "#X_test = [list(overall_qual_test), list(total_bsmt_sf_test), list(gr_liv_area_test), list(first_flr_sf_test), list(garage_area_test)]\n",
        "X_test = [list(total_bsmt_sf_test), list(gr_liv_area_test), list(first_flr_sf_test), list(garage_area_test),list(lot_area_test),list(wood_deck_sf_test)]\n"
      ],
      "execution_count": 0,
      "outputs": []
    },
    {
      "metadata": {
        "id": "KJnRAnmud9qK",
        "colab_type": "code",
        "colab": {
          "base_uri": "https://localhost:8080/",
          "height": 714
        },
        "outputId": "e35a0988-d27a-49a0-c9e8-87d2ed0ed2c6"
      },
      "cell_type": "code",
      "source": [
        "predictions = multi_regr.predict(np.array(X_test).transpose())"
      ],
      "execution_count": 79,
      "outputs": [
        {
          "output_type": "error",
          "ename": "ValueError",
          "evalue": "ignored",
          "traceback": [
            "\u001b[0;31m---------------------------------------------------------------------------\u001b[0m",
            "\u001b[0;31mValueError\u001b[0m                                Traceback (most recent call last)",
            "\u001b[0;32m<ipython-input-79-7a1835ef0b21>\u001b[0m in \u001b[0;36m<module>\u001b[0;34m()\u001b[0m\n\u001b[0;32m----> 1\u001b[0;31m \u001b[0mpredictions\u001b[0m \u001b[0;34m=\u001b[0m \u001b[0mmulti_regr\u001b[0m\u001b[0;34m.\u001b[0m\u001b[0mpredict\u001b[0m\u001b[0;34m(\u001b[0m\u001b[0mnp\u001b[0m\u001b[0;34m.\u001b[0m\u001b[0marray\u001b[0m\u001b[0;34m(\u001b[0m\u001b[0mX_test\u001b[0m\u001b[0;34m)\u001b[0m\u001b[0;34m.\u001b[0m\u001b[0mtranspose\u001b[0m\u001b[0;34m(\u001b[0m\u001b[0;34m)\u001b[0m\u001b[0;34m)\u001b[0m\u001b[0;34m\u001b[0m\u001b[0;34m\u001b[0m\u001b[0m\n\u001b[0m",
            "\u001b[0;32m/usr/local/lib/python3.6/dist-packages/sklearn/linear_model/base.py\u001b[0m in \u001b[0;36mpredict\u001b[0;34m(self, X)\u001b[0m\n\u001b[1;32m    211\u001b[0m             \u001b[0mReturns\u001b[0m \u001b[0mpredicted\u001b[0m \u001b[0mvalues\u001b[0m\u001b[0;34m.\u001b[0m\u001b[0;34m\u001b[0m\u001b[0;34m\u001b[0m\u001b[0m\n\u001b[1;32m    212\u001b[0m         \"\"\"\n\u001b[0;32m--> 213\u001b[0;31m         \u001b[0;32mreturn\u001b[0m \u001b[0mself\u001b[0m\u001b[0;34m.\u001b[0m\u001b[0m_decision_function\u001b[0m\u001b[0;34m(\u001b[0m\u001b[0mX\u001b[0m\u001b[0;34m)\u001b[0m\u001b[0;34m\u001b[0m\u001b[0;34m\u001b[0m\u001b[0m\n\u001b[0m\u001b[1;32m    214\u001b[0m \u001b[0;34m\u001b[0m\u001b[0m\n\u001b[1;32m    215\u001b[0m     \u001b[0m_preprocess_data\u001b[0m \u001b[0;34m=\u001b[0m \u001b[0mstaticmethod\u001b[0m\u001b[0;34m(\u001b[0m\u001b[0m_preprocess_data\u001b[0m\u001b[0;34m)\u001b[0m\u001b[0;34m\u001b[0m\u001b[0;34m\u001b[0m\u001b[0m\n",
            "\u001b[0;32m/usr/local/lib/python3.6/dist-packages/sklearn/linear_model/base.py\u001b[0m in \u001b[0;36m_decision_function\u001b[0;34m(self, X)\u001b[0m\n\u001b[1;32m    194\u001b[0m         \u001b[0mcheck_is_fitted\u001b[0m\u001b[0;34m(\u001b[0m\u001b[0mself\u001b[0m\u001b[0;34m,\u001b[0m \u001b[0;34m\"coef_\"\u001b[0m\u001b[0;34m)\u001b[0m\u001b[0;34m\u001b[0m\u001b[0;34m\u001b[0m\u001b[0m\n\u001b[1;32m    195\u001b[0m \u001b[0;34m\u001b[0m\u001b[0m\n\u001b[0;32m--> 196\u001b[0;31m         \u001b[0mX\u001b[0m \u001b[0;34m=\u001b[0m \u001b[0mcheck_array\u001b[0m\u001b[0;34m(\u001b[0m\u001b[0mX\u001b[0m\u001b[0;34m,\u001b[0m \u001b[0maccept_sparse\u001b[0m\u001b[0;34m=\u001b[0m\u001b[0;34m[\u001b[0m\u001b[0;34m'csr'\u001b[0m\u001b[0;34m,\u001b[0m \u001b[0;34m'csc'\u001b[0m\u001b[0;34m,\u001b[0m \u001b[0;34m'coo'\u001b[0m\u001b[0;34m]\u001b[0m\u001b[0;34m)\u001b[0m\u001b[0;34m\u001b[0m\u001b[0;34m\u001b[0m\u001b[0m\n\u001b[0m\u001b[1;32m    197\u001b[0m         return safe_sparse_dot(X, self.coef_.T,\n\u001b[1;32m    198\u001b[0m                                dense_output=True) + self.intercept_\n",
            "\u001b[0;32m/usr/local/lib/python3.6/dist-packages/sklearn/utils/validation.py\u001b[0m in \u001b[0;36mcheck_array\u001b[0;34m(array, accept_sparse, accept_large_sparse, dtype, order, copy, force_all_finite, ensure_2d, allow_nd, ensure_min_samples, ensure_min_features, warn_on_dtype, estimator)\u001b[0m\n\u001b[1;32m    571\u001b[0m         \u001b[0;32mif\u001b[0m \u001b[0mforce_all_finite\u001b[0m\u001b[0;34m:\u001b[0m\u001b[0;34m\u001b[0m\u001b[0;34m\u001b[0m\u001b[0m\n\u001b[1;32m    572\u001b[0m             _assert_all_finite(array,\n\u001b[0;32m--> 573\u001b[0;31m                                allow_nan=force_all_finite == 'allow-nan')\n\u001b[0m\u001b[1;32m    574\u001b[0m \u001b[0;34m\u001b[0m\u001b[0m\n\u001b[1;32m    575\u001b[0m     \u001b[0mshape_repr\u001b[0m \u001b[0;34m=\u001b[0m \u001b[0m_shape_repr\u001b[0m\u001b[0;34m(\u001b[0m\u001b[0marray\u001b[0m\u001b[0;34m.\u001b[0m\u001b[0mshape\u001b[0m\u001b[0;34m)\u001b[0m\u001b[0;34m\u001b[0m\u001b[0;34m\u001b[0m\u001b[0m\n",
            "\u001b[0;32m/usr/local/lib/python3.6/dist-packages/sklearn/utils/validation.py\u001b[0m in \u001b[0;36m_assert_all_finite\u001b[0;34m(X, allow_nan)\u001b[0m\n\u001b[1;32m     54\u001b[0m                 not allow_nan and not np.isfinite(X).all()):\n\u001b[1;32m     55\u001b[0m             \u001b[0mtype_err\u001b[0m \u001b[0;34m=\u001b[0m \u001b[0;34m'infinity'\u001b[0m \u001b[0;32mif\u001b[0m \u001b[0mallow_nan\u001b[0m \u001b[0;32melse\u001b[0m \u001b[0;34m'NaN, infinity'\u001b[0m\u001b[0;34m\u001b[0m\u001b[0;34m\u001b[0m\u001b[0m\n\u001b[0;32m---> 56\u001b[0;31m             \u001b[0;32mraise\u001b[0m \u001b[0mValueError\u001b[0m\u001b[0;34m(\u001b[0m\u001b[0mmsg_err\u001b[0m\u001b[0;34m.\u001b[0m\u001b[0mformat\u001b[0m\u001b[0;34m(\u001b[0m\u001b[0mtype_err\u001b[0m\u001b[0;34m,\u001b[0m \u001b[0mX\u001b[0m\u001b[0;34m.\u001b[0m\u001b[0mdtype\u001b[0m\u001b[0;34m)\u001b[0m\u001b[0;34m)\u001b[0m\u001b[0;34m\u001b[0m\u001b[0;34m\u001b[0m\u001b[0m\n\u001b[0m\u001b[1;32m     57\u001b[0m \u001b[0;34m\u001b[0m\u001b[0m\n\u001b[1;32m     58\u001b[0m \u001b[0;34m\u001b[0m\u001b[0m\n",
            "\u001b[0;31mValueError\u001b[0m: Input contains NaN, infinity or a value too large for dtype('float64')."
          ]
        }
      ]
    },
    {
      "metadata": {
        "id": "xeorVhFQeJQO",
        "colab_type": "code",
        "colab": {
          "base_uri": "https://localhost:8080/",
          "height": 36
        },
        "outputId": "f9ecd476-5e7d-4e53-d134-5d92046305c8"
      },
      "cell_type": "code",
      "source": [
        "multi_regr.intercept_"
      ],
      "execution_count": 23,
      "outputs": [
        {
          "output_type": "execute_result",
          "data": {
            "text/plain": [
              "-21100.716759288043"
            ]
          },
          "metadata": {
            "tags": []
          },
          "execution_count": 23
        }
      ]
    },
    {
      "metadata": {
        "id": "OCbkhWlLdsIM",
        "colab_type": "code",
        "colab": {
          "base_uri": "https://localhost:8080/",
          "height": 54
        },
        "outputId": "cfa14180-4665-4857-805a-40e0a7d4f2d1"
      },
      "cell_type": "code",
      "source": [
        "multi_regr.coef_"
      ],
      "execution_count": 24,
      "outputs": [
        {
          "output_type": "execute_result",
          "data": {
            "text/plain": [
              "array([ 51.99801988,  67.59935802,  -8.7148502 , 100.49663744,\n",
              "         0.15319379,  58.97985622])"
            ]
          },
          "metadata": {
            "tags": []
          },
          "execution_count": 24
        }
      ]
    },
    {
      "metadata": {
        "id": "Wntq3PegeYue",
        "colab_type": "text"
      },
      "cell_type": "markdown",
      "source": [
        "**Gradient descent on multifeature regression to optimize the theta**"
      ]
    },
    {
      "metadata": {
        "id": "UUkgvsEjeX-2",
        "colab_type": "code",
        "colab": {}
      },
      "cell_type": "code",
      "source": [
        "def hypothesis(x,h_theta):\n",
        "\treturn np.dot(np.transpose(h_theta),x)\n",
        "\n",
        "def gradientDescent(x, y, gd_theta, m, alpha, iterations=10):\n",
        "  for iteration in range(iterations):\n",
        "    for j in range(len(gd_theta)):\n",
        "      gradient = 0\n",
        "      print(gd_theta)\n",
        "      for i in range(m):\n",
        "        gradient += (hypothesis(x[i], gd_theta) - y[i]) * x[i][j]\n",
        "      gradient *= 1/m\n",
        "      gd_theta[j] = gd_theta[j] - (alpha * gradient)\n",
        "      if(np.all(np.absolute(gradient) <= 1e-5)):\n",
        "        return gd_theta\n",
        "  return gd_theta"
      ],
      "execution_count": 0,
      "outputs": []
    },
    {
      "metadata": {
        "id": "HtnFiqq2euDK",
        "colab_type": "code",
        "colab": {
          "base_uri": "https://localhost:8080/",
          "height": 147
        },
        "outputId": "a64bcc3b-e004-48bc-c492-be83db74afb5"
      },
      "cell_type": "code",
      "source": [
        "#for gradient descent\n",
        "X_gd = np.asarray([[totalbsmtsf, grlivarea, firstflrsf,garagearea,lotarea,wooddecksf] for totalbsmtsf, grlivarea, firstflrsf,garagearea,lotarea,wooddecksf in zip(total_bsmt_sf, gr_liv_area, first_flr_sf,garage_area,lot_area,wood_deck_sf)])\n",
        "X_gd"
      ],
      "execution_count": 71,
      "outputs": [
        {
          "output_type": "execute_result",
          "data": {
            "text/plain": [
              "array([[  856,  1710,   856,   548,  8450,     0],\n",
              "       [ 1262,  1262,  1262,   460,  9600,   298],\n",
              "       [  920,  1786,   920,   608, 11250,     0],\n",
              "       ...,\n",
              "       [ 1152,  2340,  1188,   252,  9042,     0],\n",
              "       [ 1078,  1078,  1078,   240,  9717,   366],\n",
              "       [ 1256,  1256,  1256,   276,  9937,   736]])"
            ]
          },
          "metadata": {
            "tags": []
          },
          "execution_count": 71
        }
      ]
    },
    {
      "metadata": {
        "id": "8Y9uh6ydeuSu",
        "colab_type": "code",
        "colab": {
          "base_uri": "https://localhost:8080/",
          "height": 147
        },
        "outputId": "1f6e4261-a2ed-4245-8078-c850c5fa0a09"
      },
      "cell_type": "code",
      "source": [
        "X_gd_test = np.asarray([[totalbsmtsf_test, grlivarea_test, firstflrsf_test,garagearea_test,lotarea_test,wooddecksf_test] for totalbsmtsf_test, grlivarea_test, firstflrsf_test,garagearea_test,lotarea_test,wooddecksf_test in zip(total_bsmt_sf_test, gr_liv_area_test, first_flr_sf_test, garage_area_test ,lot_area_test,wood_deck_sf_test)])\n",
        "X_gd_test"
      ],
      "execution_count": 72,
      "outputs": [
        {
          "output_type": "execute_result",
          "data": {
            "text/plain": [
              "array([[  882.,   896.,   896.,   730., 11622.,   140.],\n",
              "       [ 1329.,  1329.,  1329.,   312., 14267.,   393.],\n",
              "       [  928.,  1629.,   928.,   482., 13830.,   212.],\n",
              "       ...,\n",
              "       [ 1224.,  1224.,  1224.,   576., 20000.,   474.],\n",
              "       [  912.,   970.,   970.,     0., 10441.,    80.],\n",
              "       [  996.,  2000.,   996.,   650.,  9627.,   190.]])"
            ]
          },
          "metadata": {
            "tags": []
          },
          "execution_count": 72
        }
      ]
    },
    {
      "metadata": {
        "id": "ZRsaKEHTUmiI",
        "colab_type": "code",
        "colab": {}
      },
      "cell_type": "code",
      "source": [
        "X_gd = X_gd.astype(np.float)"
      ],
      "execution_count": 0,
      "outputs": []
    },
    {
      "metadata": {
        "id": "UR-p5bJeUqkc",
        "colab_type": "code",
        "outputId": "12e60ac7-76e0-43f9-e12d-16d830b54fe6",
        "colab": {
          "base_uri": "https://localhost:8080/",
          "height": 147
        }
      },
      "cell_type": "code",
      "source": [
        "X_gd"
      ],
      "execution_count": 74,
      "outputs": [
        {
          "output_type": "execute_result",
          "data": {
            "text/plain": [
              "array([[  856.,  1710.,   856.,   548.,  8450.,     0.],\n",
              "       [ 1262.,  1262.,  1262.,   460.,  9600.,   298.],\n",
              "       [  920.,  1786.,   920.,   608., 11250.,     0.],\n",
              "       ...,\n",
              "       [ 1152.,  2340.,  1188.,   252.,  9042.,     0.],\n",
              "       [ 1078.,  1078.,  1078.,   240.,  9717.,   366.],\n",
              "       [ 1256.,  1256.,  1256.,   276.,  9937.,   736.]])"
            ]
          },
          "metadata": {
            "tags": []
          },
          "execution_count": 74
        }
      ]
    },
    {
      "metadata": {
        "id": "hie9ir_-MEUN",
        "colab_type": "code",
        "outputId": "08557091-124d-48f8-9349-2ea86bda5913",
        "colab": {
          "base_uri": "https://localhost:8080/",
          "height": 36
        }
      },
      "cell_type": "code",
      "source": [
        "np.sum(np.isnan(X_gd))"
      ],
      "execution_count": 75,
      "outputs": [
        {
          "output_type": "execute_result",
          "data": {
            "text/plain": [
              "0"
            ]
          },
          "metadata": {
            "tags": []
          },
          "execution_count": 75
        }
      ]
    },
    {
      "metadata": {
        "id": "_p5gpIpmhAS-",
        "colab_type": "code",
        "colab": {
          "base_uri": "https://localhost:8080/",
          "height": 54
        },
        "outputId": "a79ca6ec-3a6f-4ad1-89bc-fed76c523257"
      },
      "cell_type": "code",
      "source": [
        "multi_regr.coef_"
      ],
      "execution_count": 78,
      "outputs": [
        {
          "output_type": "execute_result",
          "data": {
            "text/plain": [
              "array([-2.19705496e+170,  3.72100891e+172, -6.95591262e+174,\n",
              "        4.07931118e+176, -2.09403138e+179,  2.52513290e+181])"
            ]
          },
          "metadata": {
            "tags": []
          },
          "execution_count": 78
        }
      ]
    },
    {
      "metadata": {
        "id": "fNPkD1gkR-k_",
        "colab_type": "code",
        "outputId": "16c49b1f-cf15-4446-f9cf-4930189f961c",
        "colab": {
          "base_uri": "https://localhost:8080/",
          "height": 54
        }
      },
      "cell_type": "code",
      "source": [
        "initial_theta = multi_regr.coef_\n",
        "initial_theta"
      ],
      "execution_count": 76,
      "outputs": [
        {
          "output_type": "execute_result",
          "data": {
            "text/plain": [
              "array([-2.19705496e+170,  3.72100891e+172, -6.95591262e+174,\n",
              "        4.07931118e+176, -2.09403138e+179,  2.52513290e+181])"
            ]
          },
          "metadata": {
            "tags": []
          },
          "execution_count": 76
        }
      ]
    },
    {
      "metadata": {
        "id": "WNhYfmyONkra",
        "colab_type": "code",
        "outputId": "036ddf0a-af6b-4224-b125-6d799485d0d4",
        "colab": {
          "base_uri": "https://localhost:8080/",
          "height": 36
        }
      },
      "cell_type": "code",
      "source": [
        "np.dot( np.transpose(initial_theta),X_gd[1] )"
      ],
      "execution_count": 33,
      "outputs": [
        {
          "output_type": "execute_result",
          "data": {
            "text/plain": [
              "205208.8607730695"
            ]
          },
          "metadata": {
            "tags": []
          },
          "execution_count": 33
        }
      ]
    },
    {
      "metadata": {
        "id": "QWp77ZtCR_Ep",
        "colab_type": "code",
        "outputId": "151391db-ec44-41c7-ee20-f4cfa2e6ac37",
        "colab": {
          "base_uri": "https://localhost:8080/",
          "height": 36
        }
      },
      "cell_type": "code",
      "source": [
        "alpha = 0.0001\n",
        "alpha"
      ],
      "execution_count": 36,
      "outputs": [
        {
          "output_type": "execute_result",
          "data": {
            "text/plain": [
              "0.0001"
            ]
          },
          "metadata": {
            "tags": []
          },
          "execution_count": 36
        }
      ]
    },
    {
      "metadata": {
        "id": "y9zv2fYjR-__",
        "colab_type": "code",
        "outputId": "a34b4adc-bc06-4622-8126-bcfa14577e33",
        "colab": {
          "base_uri": "https://localhost:8080/",
          "height": 2286
        }
      },
      "cell_type": "code",
      "source": [
        "optimized_theta = gradientDescent(X_gd, sale_price, initial_theta, len(sale_price), alpha,10)\n",
        "optimized_theta"
      ],
      "execution_count": 80,
      "outputs": [
        {
          "output_type": "stream",
          "text": [
            "[-2.19705496e+170  3.72100891e+172 -6.95591262e+174  4.07931118e+176\n",
            " -2.09403138e+179  2.52513290e+181]\n",
            "[-2.70939350e+181  3.72100891e+172 -6.95591262e+174  4.07931118e+176\n",
            " -2.09403138e+179  2.52513290e+181]\n",
            "[-2.70939350e+181  4.58872334e+183 -6.95591262e+174  4.07931118e+176\n",
            " -2.09403138e+179  2.52513290e+181]\n",
            "[-2.70939350e+181  4.58872334e+183 -8.57798499e+185  4.07931118e+176\n",
            " -2.09403138e+179  2.52513290e+181]\n",
            "[-2.70939350e+181  4.58872334e+183 -8.57798499e+185  5.03057930e+187\n",
            " -2.09403138e+179  2.52513290e+181]\n",
            "[-2.70939350e+181  4.58872334e+183 -8.57798499e+185  5.03057930e+187\n",
            " -2.58234552e+190  2.52513290e+181]\n",
            "[-2.70939350e+181  4.58872334e+183 -8.57798499e+185  5.03057930e+187\n",
            " -2.58234552e+190  3.11397703e+192]\n",
            "[-3.34120598e+192  4.58872334e+183 -8.57798499e+185  5.03057930e+187\n",
            " -2.58234552e+190  3.11397703e+192]\n",
            "[-3.34120598e+192  5.65878299e+194 -8.57798499e+185  5.03057930e+187\n",
            " -2.58234552e+190  3.11397703e+192]\n",
            "[-3.34120598e+192  5.65878299e+194 -1.05783138e+197  5.03057930e+187\n",
            " -2.58234552e+190  3.11397703e+192]\n",
            "[-3.34120598e+192  5.65878299e+194 -1.05783138e+197  6.20367681e+198\n",
            " -2.58234552e+190  3.11397703e+192]\n",
            "[-3.34120598e+192  5.65878299e+194 -1.05783138e+197  6.20367681e+198\n",
            " -3.18453125e+201  3.11397703e+192]\n",
            "[-3.34120598e+192  5.65878299e+194 -1.05783138e+197  6.20367681e+198\n",
            " -3.18453125e+201  3.84013568e+203]\n",
            "[-4.12035290e+203  5.65878299e+194 -1.05783138e+197  6.20367681e+198\n",
            " -3.18453125e+201  3.84013568e+203]\n",
            "[-4.12035290e+203  6.97837339e+205 -1.05783138e+197  6.20367681e+198\n",
            " -3.18453125e+201  3.84013568e+203]\n",
            "[-4.12035290e+203  6.97837339e+205 -1.30451060e+208  6.20367681e+198\n",
            " -3.18453125e+201  3.84013568e+203]\n",
            "[-4.12035290e+203  6.97837339e+205 -1.30451060e+208  7.65033282e+209\n",
            " -3.18453125e+201  3.84013568e+203]\n",
            "[-4.12035290e+203  6.97837339e+205 -1.30451060e+208  7.65033282e+209\n",
            " -3.92714267e+212  3.84013568e+203]\n",
            "[-4.12035290e+203  6.97837339e+205 -1.30451060e+208  7.65033282e+209\n",
            " -3.92714267e+212  4.73562968e+214]\n",
            "[-5.08119169e+214  6.97837339e+205 -1.30451060e+208  7.65033282e+209\n",
            " -3.92714267e+212  4.73562968e+214]\n",
            "[-5.08119169e+214  8.60568347e+216 -1.30451060e+208  7.65033282e+209\n",
            " -3.92714267e+212  4.73562968e+214]\n",
            "[-5.08119169e+214  8.60568347e+216 -1.60871376e+219  7.65033282e+209\n",
            " -3.92714267e+212  4.73562968e+214]\n",
            "[-5.08119169e+214  8.60568347e+216 -1.60871376e+219  9.43433935e+220\n",
            " -3.92714267e+212  4.73562968e+214]\n",
            "[-5.08119169e+214  8.60568347e+216 -1.60871376e+219  9.43433935e+220\n",
            " -4.84292612e+223  4.73562968e+214]\n",
            "[-5.08119169e+214  8.60568347e+216 -1.60871376e+219  9.43433935e+220\n",
            " -4.84292612e+223  5.83994691e+225]\n",
            "[-6.26609166e+225  8.60568347e+216 -1.60871376e+219  9.43433935e+220\n",
            " -4.84292612e+223  5.83994691e+225]\n",
            "[-6.26609166e+225  1.06124714e+228 -1.60871376e+219  9.43433935e+220\n",
            " -4.84292612e+223  5.83994691e+225]\n",
            "[-6.26609166e+225  1.06124714e+228 -1.98385506e+230  9.43433935e+220\n",
            " -4.84292612e+223  5.83994691e+225]\n",
            "[-6.26609166e+225  1.06124714e+228 -1.98385506e+230  1.16343643e+232\n",
            " -4.84292612e+223  5.83994691e+225]\n",
            "[-6.26609166e+225  1.06124714e+228 -1.98385506e+230  1.16343643e+232\n",
            " -5.97226416e+234  5.83994691e+225]\n",
            "[-6.26609166e+225  1.06124714e+228 -1.98385506e+230  1.16343643e+232\n",
            " -5.97226416e+234  7.20178353e+236]\n",
            "[-7.72730240e+236  1.06124714e+228 -1.98385506e+230  1.16343643e+232\n",
            " -5.97226416e+234  7.20178353e+236]\n",
            "[-7.72730240e+236  1.30872289e+239 -1.98385506e+230  1.16343643e+232\n",
            " -5.97226416e+234  7.20178353e+236]\n",
            "[-7.72730240e+236  1.30872289e+239 -2.44647682e+241  1.16343643e+232\n",
            " -5.97226416e+234  7.20178353e+236]\n",
            "[-7.72730240e+236  1.30872289e+239 -2.44647682e+241  1.43474204e+243\n",
            " -5.97226416e+234  7.20178353e+236]\n",
            "[-7.72730240e+236  1.30872289e+239 -2.44647682e+241  1.43474204e+243\n",
            " -7.36495628e+245  7.20178353e+236]\n",
            "[-7.72730240e+236  1.30872289e+239 -2.44647682e+241  1.43474204e+243\n",
            " -7.36495628e+245  8.88119136e+247]\n",
            "[-9.52925773e+247  1.30872289e+239 -2.44647682e+241  1.43474204e+243\n",
            " -7.36495628e+245  8.88119136e+247]\n",
            "[-9.52925773e+247  1.61390833e+250 -2.44647682e+241  1.43474204e+243\n",
            " -7.36495628e+245  8.88119136e+247]\n",
            "[-9.52925773e+247  1.61390833e+250 -3.01697888e+252  1.43474204e+243\n",
            " -7.36495628e+245  8.88119136e+247]\n",
            "[-9.52925773e+247  1.61390833e+250 -3.01697888e+252  1.76931430e+254\n",
            " -7.36495628e+245  8.88119136e+247]\n",
            "[-9.52925773e+247  1.61390833e+250 -3.01697888e+252  1.76931430e+254\n",
            " -9.08241491e+256  8.88119136e+247]\n",
            "[-9.52925773e+247  1.61390833e+250 -3.01697888e+252  1.76931430e+254\n",
            " -9.08241491e+256  1.09522259e+259]\n",
            "[-1.17514170e+259  1.61390833e+250 -3.01697888e+252  1.76931430e+254\n",
            " -9.08241491e+256  1.09522259e+259]\n",
            "[-1.17514170e+259  1.99026097e+261 -3.01697888e+252  1.76931430e+254\n",
            " -9.08241491e+256  1.09522259e+259]\n",
            "[-1.17514170e+259  1.99026097e+261 -3.72051821e+263  1.76931430e+254\n",
            " -9.08241491e+256  1.09522259e+259]\n",
            "[-1.17514170e+259  1.99026097e+261 -3.72051821e+263  2.18190658e+265\n",
            " -9.08241491e+256  1.09522259e+259]\n",
            "[-1.17514170e+259  1.99026097e+261 -3.72051821e+263  2.18190658e+265\n",
            " -1.12003734e+268  1.09522259e+259]\n",
            "[-1.17514170e+259  1.99026097e+261 -3.72051821e+263  2.18190658e+265\n",
            " -1.12003734e+268  1.35062118e+270]\n",
            "[-1.44917690e+270  1.99026097e+261 -3.72051821e+263  2.18190658e+265\n",
            " -1.12003734e+268  1.35062118e+270]\n",
            "[-1.44917690e+270  2.45437654e+272 -3.72051821e+263  2.18190658e+265\n",
            " -1.12003734e+268  1.35062118e+270]\n",
            "[-1.44917690e+270  2.45437654e+272 -4.58811821e+274  2.18190658e+265\n",
            " -1.12003734e+268  1.35062118e+270]\n",
            "[-1.44917690e+270  2.45437654e+272 -4.58811821e+274  2.69071263e+276\n",
            " -1.12003734e+268  1.35062118e+270]\n",
            "[-1.44917690e+270  2.45437654e+272 -4.58811821e+274  2.69071263e+276\n",
            " -1.38122257e+279  1.35062118e+270]\n",
            "[-1.44917690e+270  2.45437654e+272 -4.58811821e+274  2.69071263e+276\n",
            " -1.38122257e+279  1.66557703e+281]\n",
            "[-1.78711527e+281  2.45437654e+272 -4.58811821e+274  2.69071263e+276\n",
            " -1.38122257e+279  1.66557703e+281]\n",
            "[-1.78711527e+281  3.02672076e+283 -4.58811821e+274  2.69071263e+276\n",
            " -1.38122257e+279  1.66557703e+281]\n",
            "[-1.78711527e+281  3.02672076e+283 -5.65803675e+285  2.69071263e+276\n",
            " -1.38122257e+279  1.66557703e+281]\n",
            "[-1.78711527e+281  3.02672076e+283 -5.65803675e+285  3.31816884e+287\n",
            " -1.38122257e+279  1.66557703e+281]\n",
            "[-1.78711527e+281  3.02672076e+283 -5.65803675e+285  3.31816884e+287\n",
            " -1.70331445e+290  1.66557703e+281]\n"
          ],
          "name": "stdout"
        },
        {
          "output_type": "execute_result",
          "data": {
            "text/plain": [
              "array([-1.78711527e+281,  3.02672076e+283, -5.65803675e+285,\n",
              "        3.31816884e+287, -1.70331445e+290,  2.05397847e+292])"
            ]
          },
          "metadata": {
            "tags": []
          },
          "execution_count": 80
        }
      ]
    },
    {
      "metadata": {
        "id": "uwKMmUEeR--U",
        "colab_type": "code",
        "outputId": "bc1cebbf-eea5-431b-9525-b55f7fc9a450",
        "colab": {
          "base_uri": "https://localhost:8080/",
          "height": 54
        }
      },
      "cell_type": "code",
      "source": [
        "optimized_predictions = X_gd_test.dot(optimized_theta)\n",
        "optimized_predictions"
      ],
      "execution_count": 81,
      "outputs": [
        {
          "output_type": "execute_result",
          "data": {
            "text/plain": [
              "array([ 8.96214979e+293,  5.64211269e+294,  1.99890519e+294, ...,\n",
              "        6.32941326e+294, -1.35253307e+293,  2.26298837e+294])"
            ]
          },
          "metadata": {
            "tags": []
          },
          "execution_count": 81
        }
      ]
    },
    {
      "metadata": {
        "id": "biamjpQwkByM",
        "colab_type": "code",
        "colab": {
          "base_uri": "https://localhost:8080/",
          "height": 36
        },
        "outputId": "c14109b1-3a19-4e69-a49d-f45268923b77"
      },
      "cell_type": "code",
      "source": [
        "len(optimized_predictions)"
      ],
      "execution_count": 57,
      "outputs": [
        {
          "output_type": "execute_result",
          "data": {
            "text/plain": [
              "1459"
            ]
          },
          "metadata": {
            "tags": []
          },
          "execution_count": 57
        }
      ]
    },
    {
      "metadata": {
        "id": "LQiKlBc4ijSQ",
        "colab_type": "code",
        "colab": {
          "base_uri": "https://localhost:8080/",
          "height": 36
        },
        "outputId": "83ebc299-3900-4ebc-fd4c-6d31a4b6d357"
      },
      "cell_type": "code",
      "source": [
        "final_pred_array = list()\n",
        "\n",
        "for i in range(len(optimized_predictions)):\n",
        "  final_pred_array = final_pred_array + list(np.array(optimized_predictions[i]).flatten())\n",
        "\n",
        "len(final_pred_array)"
      ],
      "execution_count": 82,
      "outputs": [
        {
          "output_type": "execute_result",
          "data": {
            "text/plain": [
              "1459"
            ]
          },
          "metadata": {
            "tags": []
          },
          "execution_count": 82
        }
      ]
    },
    {
      "metadata": {
        "id": "q1xRo_GzkRl5",
        "colab_type": "code",
        "colab": {
          "base_uri": "https://localhost:8080/",
          "height": 36
        },
        "outputId": "9c16f6f2-e2ef-4988-979d-8e83755761fe"
      },
      "cell_type": "code",
      "source": [
        "final_pred_array[0]"
      ],
      "execution_count": 69,
      "outputs": [
        {
          "output_type": "execute_result",
          "data": {
            "text/plain": [
              "1.101794378371207e+183"
            ]
          },
          "metadata": {
            "tags": []
          },
          "execution_count": 69
        }
      ]
    },
    {
      "metadata": {
        "id": "u2Svvsx2jdUU",
        "colab_type": "code",
        "colab": {
          "base_uri": "https://localhost:8080/",
          "height": 36
        },
        "outputId": "bf9989b3-25e7-4f3f-a9b6-58f39c2f51a5"
      },
      "cell_type": "code",
      "source": [
        "np.array(optimized_predictions[0]).flatten()[0]"
      ],
      "execution_count": 54,
      "outputs": [
        {
          "output_type": "execute_result",
          "data": {
            "text/plain": [
              "1.101794378371207e+183"
            ]
          },
          "metadata": {
            "tags": []
          },
          "execution_count": 54
        }
      ]
    },
    {
      "metadata": {
        "id": "E8O4zE3OhyYS",
        "colab_type": "code",
        "colab": {
          "base_uri": "https://localhost:8080/",
          "height": 91
        },
        "outputId": "dee80fba-ce65-4238-9782-ba134dbc07e4"
      },
      "cell_type": "code",
      "source": [
        "A = np.squeeze(np.asarray(optimized_predictions))\n",
        "A"
      ],
      "execution_count": 43,
      "outputs": [
        {
          "output_type": "execute_result",
          "data": {
            "text/plain": [
              "array([matrix([[1.10179438e+183]]), matrix([[6.9363358e+183]]),\n",
              "       matrix([[2.45742657e+183]]), ..., matrix([[7.78129368e+183]]),\n",
              "       matrix([[-1.66278557e+182]]), matrix([[2.7820868e+183]])],\n",
              "      dtype=object)"
            ]
          },
          "metadata": {
            "tags": []
          },
          "execution_count": 43
        }
      ]
    },
    {
      "metadata": {
        "id": "P1koYH1h-ppc",
        "colab_type": "code",
        "outputId": "2cb0c657-7a04-4b10-a301-e6cc09e4cd53",
        "colab": {
          "base_uri": "https://localhost:8080/",
          "height": 36
        }
      },
      "cell_type": "code",
      "source": [
        "len(optimized_predictions)"
      ],
      "execution_count": 40,
      "outputs": [
        {
          "output_type": "execute_result",
          "data": {
            "text/plain": [
              "1459"
            ]
          },
          "metadata": {
            "tags": []
          },
          "execution_count": 40
        }
      ]
    },
    {
      "metadata": {
        "id": "IKp7hf1I-pso",
        "colab_type": "code",
        "outputId": "d68a454b-7715-4a9c-b985-89b0ed265ed5",
        "colab": {
          "base_uri": "https://localhost:8080/",
          "height": 36
        }
      },
      "cell_type": "code",
      "source": [
        "submission_df = pd.DataFrame(test_df['Id'],columns=['Id','SalePrice'])\n",
        "submission_df[\"SalePrice\"] = predictions\n",
        "submission_df = submission_df[[\"Id\",\"SalePrice\"]]\n",
        "submission_df.shape"
      ],
      "execution_count": 0,
      "outputs": [
        {
          "output_type": "execute_result",
          "data": {
            "text/plain": [
              "(1459, 2)"
            ]
          },
          "metadata": {
            "tags": []
          },
          "execution_count": 71
        }
      ]
    },
    {
      "metadata": {
        "id": "sFrR6MzYYtAA",
        "colab_type": "code",
        "outputId": "80870d48-851b-4212-e599-8f669f0643cc",
        "colab": {
          "base_uri": "https://localhost:8080/",
          "height": 206
        }
      },
      "cell_type": "code",
      "source": [
        "submission_df.head()"
      ],
      "execution_count": 0,
      "outputs": [
        {
          "output_type": "execute_result",
          "data": {
            "text/html": [
              "<div>\n",
              "<style scoped>\n",
              "    .dataframe tbody tr th:only-of-type {\n",
              "        vertical-align: middle;\n",
              "    }\n",
              "\n",
              "    .dataframe tbody tr th {\n",
              "        vertical-align: top;\n",
              "    }\n",
              "\n",
              "    .dataframe thead th {\n",
              "        text-align: right;\n",
              "    }\n",
              "</style>\n",
              "<table border=\"1\" class=\"dataframe\">\n",
              "  <thead>\n",
              "    <tr style=\"text-align: right;\">\n",
              "      <th></th>\n",
              "      <th>Id</th>\n",
              "      <th>SalePrice</th>\n",
              "    </tr>\n",
              "  </thead>\n",
              "  <tbody>\n",
              "    <tr>\n",
              "      <th>0</th>\n",
              "      <td>1461</td>\n",
              "      <td>160922.199273</td>\n",
              "    </tr>\n",
              "    <tr>\n",
              "      <th>1</th>\n",
              "      <td>1462</td>\n",
              "      <td>182981.812809</td>\n",
              "    </tr>\n",
              "    <tr>\n",
              "      <th>2</th>\n",
              "      <td>1463</td>\n",
              "      <td>192247.197875</td>\n",
              "    </tr>\n",
              "    <tr>\n",
              "      <th>3</th>\n",
              "      <td>1464</td>\n",
              "      <td>197403.604159</td>\n",
              "    </tr>\n",
              "    <tr>\n",
              "      <th>4</th>\n",
              "      <td>1465</td>\n",
              "      <td>172446.952194</td>\n",
              "    </tr>\n",
              "  </tbody>\n",
              "</table>\n",
              "</div>"
            ],
            "text/plain": [
              "     Id      SalePrice\n",
              "0  1461  160922.199273\n",
              "1  1462  182981.812809\n",
              "2  1463  192247.197875\n",
              "3  1464  197403.604159\n",
              "4  1465  172446.952194"
            ]
          },
          "metadata": {
            "tags": []
          },
          "execution_count": 72
        }
      ]
    },
    {
      "metadata": {
        "id": "Z0_nqVGNJZs1",
        "colab_type": "code",
        "colab": {}
      },
      "cell_type": "code",
      "source": [
        "submission_df.to_csv(\"ss_submission_lmMv6_2.csv\", index = False)"
      ],
      "execution_count": 0,
      "outputs": []
    }
  ]
}